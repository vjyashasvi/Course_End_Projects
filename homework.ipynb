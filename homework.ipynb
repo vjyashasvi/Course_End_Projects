{
 "cells": [
  {
   "cell_type": "code",
   "execution_count": 1,
   "id": "19d42796",
   "metadata": {},
   "outputs": [
    {
     "name": "stdout",
     "output_type": "stream",
     "text": [
      "hello world\n"
     ]
    }
   ],
   "source": [
    "#1\n",
    "print('hello world')"
   ]
  },
  {
   "cell_type": "code",
   "execution_count": 2,
   "id": "9432a5eb",
   "metadata": {},
   "outputs": [
    {
     "name": "stdout",
     "output_type": "stream",
     "text": [
      "910\n"
     ]
    }
   ],
   "source": [
    "#2\n",
    "a=12\n",
    "b=898\n",
    "print(a+b)"
   ]
  },
  {
   "cell_type": "code",
   "execution_count": 3,
   "id": "fb3e1dad",
   "metadata": {},
   "outputs": [
    {
     "name": "stdout",
     "output_type": "stream",
     "text": [
      "1.3693063937629153\n"
     ]
    }
   ],
   "source": [
    "#4\n",
    "a=2\n",
    "b=3\n",
    "c=4\n",
    "s=(a+b+c)/2\n",
    "print(((s-a)*(s-b)*(s-c))**0.5)"
   ]
  },
  {
   "cell_type": "code",
   "execution_count": 4,
   "id": "ed6d2f63",
   "metadata": {},
   "outputs": [
    {
     "name": "stdout",
     "output_type": "stream",
     "text": [
      "enter a coeffecient fsdsd\n"
     ]
    },
    {
     "ename": "ValueError",
     "evalue": "invalid literal for int() with base 10: 'fsdsd'",
     "output_type": "error",
     "traceback": [
      "\u001b[1;31m---------------------------------------------------------------------------\u001b[0m",
      "\u001b[1;31mValueError\u001b[0m                                Traceback (most recent call last)",
      "Input \u001b[1;32mIn [4]\u001b[0m, in \u001b[0;36m<cell line: 2>\u001b[1;34m()\u001b[0m\n\u001b[0;32m      1\u001b[0m \u001b[38;5;66;03m#5\u001b[39;00m\n\u001b[1;32m----> 2\u001b[0m a\u001b[38;5;241m=\u001b[39m\u001b[38;5;28;43mint\u001b[39;49m\u001b[43m(\u001b[49m\u001b[38;5;28;43minput\u001b[39;49m\u001b[43m(\u001b[49m\u001b[38;5;124;43m'\u001b[39;49m\u001b[38;5;124;43menter a coeffecient \u001b[39;49m\u001b[38;5;124;43m'\u001b[39;49m\u001b[43m)\u001b[49m\u001b[43m)\u001b[49m\n\u001b[0;32m      3\u001b[0m b\u001b[38;5;241m=\u001b[39m\u001b[38;5;28mint\u001b[39m(\u001b[38;5;28minput\u001b[39m(\u001b[38;5;124m'\u001b[39m\u001b[38;5;124menter b coeffecient \u001b[39m\u001b[38;5;124m'\u001b[39m))\n\u001b[0;32m      4\u001b[0m c\u001b[38;5;241m=\u001b[39m\u001b[38;5;28mint\u001b[39m(\u001b[38;5;28minput\u001b[39m(\u001b[38;5;124m'\u001b[39m\u001b[38;5;124menter c coeffecient \u001b[39m\u001b[38;5;124m'\u001b[39m))\n",
      "\u001b[1;31mValueError\u001b[0m: invalid literal for int() with base 10: 'fsdsd'"
     ]
    }
   ],
   "source": [
    "#5\n",
    "a=int(input('enter a coeffecient '))\n",
    "b=int(input('enter b coeffecient '))\n",
    "c=int(input('enter c coeffecient '))\n",
    "print(((-b+(b*b-4*a*c)**0.5)/2*a))\n",
    "print(((-b-(b*b-4*a*c)**0.5)/2*a))\n"
   ]
  },
  {
   "cell_type": "code",
   "execution_count": null,
   "id": "9f878112",
   "metadata": {},
   "outputs": [],
   "source": [
    "# 6\n",
    "a=int(input('enter '))\n",
    "b=int(input('enter '))\n",
    "print('before {} and {}'.format(a,b))\n",
    "c=a\n",
    "a=b\n",
    "b=c\n",
    "print('after {} and {}'.format(a,b))"
   ]
  },
  {
   "cell_type": "code",
   "execution_count": null,
   "id": "a8a51e65",
   "metadata": {},
   "outputs": [],
   "source": [
    "#7\n",
    "import random\n",
    "print(random.randint(0,100))"
   ]
  },
  {
   "cell_type": "code",
   "execution_count": null,
   "id": "31f13d10",
   "metadata": {},
   "outputs": [],
   "source": [
    "#8\n",
    "a=float(input('enter num '))\n",
    "print(a*0.621371)"
   ]
  },
  {
   "cell_type": "code",
   "execution_count": null,
   "id": "c912a277",
   "metadata": {},
   "outputs": [],
   "source": [
    "#9\n",
    "a=int(input('enter '))\n",
    "print((a*9/5)+32)"
   ]
  },
  {
   "cell_type": "code",
   "execution_count": null,
   "id": "fc5791b9",
   "metadata": {},
   "outputs": [],
   "source": [
    "#10\n",
    "a=int(input('enter '))\n",
    "if a>0:\n",
    "    print('psitive')\n",
    "elif a==0:\n",
    "    print('zero')\n",
    "else:\n",
    "    print('negative')"
   ]
  },
  {
   "cell_type": "code",
   "execution_count": null,
   "id": "d9030eec",
   "metadata": {},
   "outputs": [],
   "source": [
    "#11\n",
    "a=int(input('enter '))\n",
    "if a%2==0:\n",
    "    print('even')\n",
    "else:\n",
    "    print('odd')"
   ]
  },
  {
   "cell_type": "code",
   "execution_count": null,
   "id": "f09675e4",
   "metadata": {},
   "outputs": [],
   "source": [
    "#12\n",
    "a=int(input('enter '))\n",
    "if a%4==0:\n",
    "    print('leap year')\n",
    "else:\n",
    "        print('not')"
   ]
  },
  {
   "cell_type": "code",
   "execution_count": null,
   "id": "c31af59c",
   "metadata": {},
   "outputs": [],
   "source": [
    "#13\n",
    "a=int(input('enter '))\n",
    "b=int(input('enter '))\n",
    "c=int(input('enter '))\n",
    "if a>=b and a>=c:\n",
    "    print('{} is largest'.format(a))\n",
    "elif b>=a and b>=c:\n",
    "    print('{} is largest'.format(b))\n",
    "else:\n",
    "    print('{} is largest'.format(c))"
   ]
  },
  {
   "cell_type": "code",
   "execution_count": null,
   "id": "56d600a8",
   "metadata": {},
   "outputs": [],
   "source": [
    "#14\n",
    "a=int(input('enter '))\n",
    "i=1\n",
    "c=0\n",
    "for i in range(1,a):\n",
    "    if a%i==0:\n",
    "        c=c+1\n",
    "if c==1:\n",
    "    print('prime')\n",
    "else:\n",
    "    print('not')"
   ]
  },
  {
   "cell_type": "code",
   "execution_count": null,
   "id": "488170d3",
   "metadata": {},
   "outputs": [],
   "source": [
    "#15\n",
    "a=int(input('enter interval '))\n",
    "num=2\n",
    "i=2\n",
    "\n",
    "for num in range(2, a+1):\n",
    "     for i in range(2, num):\n",
    "           if (num % i) == 0:\n",
    "               break\n",
    "     \n",
    "     else:\n",
    "            print(num)\n",
    "            "
   ]
  },
  {
   "cell_type": "code",
   "execution_count": null,
   "id": "cd8e38b9",
   "metadata": {},
   "outputs": [],
   "source": [
    "#16\n",
    "a=int(input('enter interval '))\n",
    "i=1\n",
    "s=1\n",
    "for i in range(1,a+1):\n",
    "    s=s*i\n",
    "    print(\"{}\".format(i))\n",
    "print(s)"
   ]
  },
  {
   "cell_type": "code",
   "execution_count": null,
   "id": "60b855e2",
   "metadata": {},
   "outputs": [],
   "source": [
    "#17\n",
    "a=int(input('enter '))\n",
    "i=1\n",
    "\n",
    "for i in range(1,11):\n",
    "    print('{} x {} = {}'.format(a,i,a*i))\n",
    "    "
   ]
  },
  {
   "cell_type": "code",
   "execution_count": null,
   "id": "3e4b36a1",
   "metadata": {},
   "outputs": [],
   "source": [
    "#18\n",
    "a=int(input('enter '))\n",
    "\n",
    "\n",
    "i=0\n",
    "for i in range(1,a+1):\n",
    "   print(i-1,i+1)"
   ]
  },
  {
   "cell_type": "code",
   "execution_count": null,
   "id": "f9eb19a4",
   "metadata": {},
   "outputs": [],
   "source": [
    "x=4\n",
    "y=11\n",
    "p=5.0\n",
    "ans=x**(y%p)\n",
    "print(ans)"
   ]
  },
  {
   "cell_type": "code",
   "execution_count": null,
   "id": "2cea218f",
   "metadata": {},
   "outputs": [],
   "source": [
    "num=20.5\n",
    "z=3\n",
    "result=2+z*3+num//z"
   ]
  },
  {
   "cell_type": "code",
   "execution_count": null,
   "id": "3df75ba6",
   "metadata": {},
   "outputs": [],
   "source": [
    "print(result)"
   ]
  },
  {
   "cell_type": "code",
   "execution_count": null,
   "id": "b6fe98c3",
   "metadata": {},
   "outputs": [],
   "source": [
    "x=\"50\"\n",
    "type(x)"
   ]
  },
  {
   "cell_type": "code",
   "execution_count": null,
   "id": "2bea742a",
   "metadata": {},
   "outputs": [],
   "source": [
    "float(x)"
   ]
  },
  {
   "cell_type": "code",
   "execution_count": null,
   "id": "a3f97b5f",
   "metadata": {},
   "outputs": [],
   "source": [
    "name='Lizz'\n",
    "print(name[0:2])"
   ]
  },
  {
   "cell_type": "code",
   "execution_count": null,
   "id": "f90321cb",
   "metadata": {},
   "outputs": [],
   "source": [
    "var = '01234567'\n",
    "print(var[::2])"
   ]
  },
  {
   "cell_type": "code",
   "execution_count": null,
   "id": "15ba8ee8",
   "metadata": {},
   "outputs": [],
   "source": [
    "'1'+'2'"
   ]
  },
  {
   "cell_type": "code",
   "execution_count": null,
   "id": "26b9078b",
   "metadata": {},
   "outputs": [],
   "source": [
    "myvar = 'hello'\n",
    "myvar.upper()"
   ]
  },
  {
   "cell_type": "code",
   "execution_count": null,
   "id": "308d33bc",
   "metadata": {},
   "outputs": [],
   "source": [
    "A = ('a','b','c')\n",
    "A[0]"
   ]
  },
  {
   "cell_type": "code",
   "execution_count": null,
   "id": "229f76e6",
   "metadata": {},
   "outputs": [],
   "source": [
    "Dict={\"A\":1,\"B\":\"2\",\"C\":[3,3,3],\"D\":(4,4,4),'E':5,'F':6}\n",
    "Dict"
   ]
  },
  {
   "cell_type": "code",
   "execution_count": null,
   "id": "7d68f865",
   "metadata": {},
   "outputs": [],
   "source": [
    "Dict[\"D\"]"
   ]
  },
  {
   "cell_type": "code",
   "execution_count": null,
   "id": "56efb497",
   "metadata": {},
   "outputs": [],
   "source": [
    "B = [1,4,0,5]\n",
    "\n",
    "B.sort()\n",
    "B"
   ]
  },
  {
   "cell_type": "code",
   "execution_count": null,
   "id": "4c78d320",
   "metadata": {},
   "outputs": [],
   "source": [
    "import numpy as np\n",
    "a=np.array([0,1])\n",
    "\n",
    "b=np.array([1,0])\n",
    "\n",
    "np.dot(a,b)"
   ]
  },
  {
   "cell_type": "code",
   "execution_count": null,
   "id": "2237f3c3",
   "metadata": {},
   "outputs": [],
   "source": [
    "A='1234567'\n",
    "A[1::2]"
   ]
  },
  {
   "cell_type": "code",
   "execution_count": null,
   "id": "b35d596d",
   "metadata": {},
   "outputs": [],
   "source": [
    "Name=\"Michael Jackson\" \n",
    "Name.find('el')"
   ]
  },
  {
   "cell_type": "code",
   "execution_count": null,
   "id": "b70668a0",
   "metadata": {},
   "outputs": [],
   "source": [
    "tuple1=(\"A\",\"B\",\"C\" )\n",
    "tuple1[-1]"
   ]
  },
  {
   "cell_type": "code",
   "execution_count": null,
   "id": "d4ad7d62",
   "metadata": {},
   "outputs": [],
   "source": [
    " A=((11,12),[21,22])\n",
    "A[0][1]"
   ]
  },
  {
   "cell_type": "code",
   "execution_count": null,
   "id": "10401535",
   "metadata": {},
   "outputs": [],
   "source": [
    " '1,2,3,4'.split(',')"
   ]
  },
  {
   "cell_type": "code",
   "execution_count": null,
   "id": "a7923557",
   "metadata": {},
   "outputs": [],
   "source": [
    "A=[1,'a']\n",
    "B=[2,1,'d']\n",
    "A+B"
   ]
  },
  {
   "cell_type": "code",
   "execution_count": null,
   "id": "1d5ab9d1",
   "metadata": {},
   "outputs": [],
   "source": [
    "a=set(A)"
   ]
  },
  {
   "cell_type": "code",
   "execution_count": null,
   "id": "fe059ee6",
   "metadata": {},
   "outputs": [],
   "source": [
    "a"
   ]
  },
  {
   "cell_type": "code",
   "execution_count": null,
   "id": "0ffac7b1",
   "metadata": {},
   "outputs": [],
   "source": [
    " V={'A','B'}\n",
    "V.add('C')\n",
    "V"
   ]
  },
  {
   "cell_type": "code",
   "execution_count": null,
   "id": "e62c5f76",
   "metadata": {},
   "outputs": [],
   "source": [
    "V={'A','B','C' }\n",
    "V.add('C')\n",
    "V"
   ]
  },
  {
   "cell_type": "code",
   "execution_count": null,
   "id": "78cd65a3",
   "metadata": {},
   "outputs": [],
   "source": [
    "class Points(object):\n",
    "    def __init__(self,x,y):\n",
    "        self.x=x\n",
    "        self.y=y\n",
    "\n",
    "def print_point(self):\n",
    "    print('x=',self.x,'y=',self.y)"
   ]
  },
  {
   "cell_type": "code",
   "execution_count": null,
   "id": "6677e46a",
   "metadata": {},
   "outputs": [],
   "source": [
    "Points('abc','xyz')"
   ]
  },
  {
   "cell_type": "code",
   "execution_count": null,
   "id": "58b6a751",
   "metadata": {},
   "outputs": [],
   "source": [
    "class Points(object):\n",
    "    def __init__(self,x,y):\n",
    "        self.x=x\n",
    "        self.y=y\n",
    "\n",
    "    def print_point(self):\n",
    "        print('x=',self.x,' y=',self.y)\n",
    "    \n",
    "p1=Points(1,2)\n",
    "p1.print_point()"
   ]
  },
  {
   "cell_type": "code",
   "execution_count": null,
   "id": "33fc2288",
   "metadata": {},
   "outputs": [],
   "source": [
    "Points('abc','xyz')"
   ]
  },
  {
   "cell_type": "code",
   "execution_count": null,
   "id": "0b01fadf",
   "metadata": {},
   "outputs": [],
   "source": [
    "class Points(object):\n",
    "    def __init__(self,x,y):\n",
    "        self.x=x\n",
    "        self.y=y\n",
    "\n",
    "    def print_point(self):\n",
    "        print('x=',self.x,' y=',self.y)\n",
    "\n",
    "p2=Points(1,2)\n",
    "\n",
    "p2.x=2\n",
    "\n",
    "p2.print_point()\n",
    "\n",
    "\n"
   ]
  },
  {
   "cell_type": "code",
   "execution_count": null,
   "id": "05f9ef31",
   "metadata": {},
   "outputs": [],
   "source": [
    "a = 9/2 \n",
    "a"
   ]
  },
  {
   "cell_type": "code",
   "execution_count": null,
   "id": "6d6a459d",
   "metadata": {},
   "outputs": [],
   "source": [
    "b = 5.2/2\n",
    "b"
   ]
  },
  {
   "cell_type": "code",
   "execution_count": null,
   "id": "c1056cc9",
   "metadata": {},
   "outputs": [],
   "source": [
    "import matplotlib.pyplot as plt\n",
    "x=[1,2,3,4,5,6]\n",
    "y=[6,7,8,9,10,11]\n",
    "plt.plot(x, y, lw=2)\n"
   ]
  },
  {
   "cell_type": "code",
   "execution_count": null,
   "id": "2d2e10c1",
   "metadata": {},
   "outputs": [],
   "source": [
    "import pandas as pd \n",
    "series = pd.Series(3,index=['a','b','c'])\n",
    "series"
   ]
  },
  {
   "cell_type": "code",
   "execution_count": null,
   "id": "0f75023b",
   "metadata": {},
   "outputs": [],
   "source": [
    "a=np.array([5,8,12,65])"
   ]
  },
  {
   "cell_type": "code",
   "execution_count": null,
   "id": "e68b9974",
   "metadata": {},
   "outputs": [],
   "source": [
    "np.zeros((3,3))"
   ]
  },
  {
   "cell_type": "code",
   "execution_count": null,
   "id": "65e0c04b",
   "metadata": {},
   "outputs": [],
   "source": [
    "np.linspace(5,15,10).size"
   ]
  },
  {
   "cell_type": "code",
   "execution_count": null,
   "id": "3b7996b1",
   "metadata": {},
   "outputs": [],
   "source": [
    "left = pd.DataFrame({'A': ['A0', 'A1', 'A2'],\n",
    "                     'B': ['B0', 'B1', 'B2']},\n",
    "                     index=['K0', 'K1', 'K2'])\n",
    "\n",
    "\n",
    "right = pd.DataFrame({'C': ['C0', 'C2', 'C3'],\n",
    "                       'D': ['D0', 'D2', 'D3']},\n",
    "                     index=['K0', 'K2', 'K3'])\n",
    "\n",
    "f=[left, right]\n",
    "r=pd.add(f)\n",
    "r"
   ]
  },
  {
   "cell_type": "code",
   "execution_count": null,
   "id": "d8357b60",
   "metadata": {},
   "outputs": [],
   "source": [
    "A: array([1, 2, 3]) \n",
    "B: array([1]), array ([2]), array ([3])"
   ]
  },
  {
   "cell_type": "code",
   "execution_count": null,
   "id": "d235ef93",
   "metadata": {},
   "outputs": [],
   "source": [
    "a1 = [1, 3] \n",
    "b1 = a1 \n",
    "a1[0] = 4 \n",
    "print(b1)"
   ]
  },
  {
   "cell_type": "code",
   "execution_count": null,
   "id": "165130f2",
   "metadata": {},
   "outputs": [],
   "source": [
    "min(max(False,-3,-4), 2,7)\n"
   ]
  },
  {
   "cell_type": "code",
   "execution_count": null,
   "id": "0b28d213",
   "metadata": {},
   "outputs": [],
   "source": [
    " len([\"hi\",6, 9, 5])\n",
    "    "
   ]
  },
  {
   "cell_type": "code",
   "execution_count": 6,
   "id": "684e51d4",
   "metadata": {},
   "outputs": [
    {
     "data": {
      "text/plain": [
       "'df1:'"
      ]
     },
     "metadata": {},
     "output_type": "display_data"
    },
    {
     "data": {
      "text/html": [
       "<div>\n",
       "<style scoped>\n",
       "    .dataframe tbody tr th:only-of-type {\n",
       "        vertical-align: middle;\n",
       "    }\n",
       "\n",
       "    .dataframe tbody tr th {\n",
       "        vertical-align: top;\n",
       "    }\n",
       "\n",
       "    .dataframe thead th {\n",
       "        text-align: right;\n",
       "    }\n",
       "</style>\n",
       "<table border=\"1\" class=\"dataframe\">\n",
       "  <thead>\n",
       "    <tr style=\"text-align: right;\">\n",
       "      <th></th>\n",
       "      <th>A</th>\n",
       "      <th>B</th>\n",
       "    </tr>\n",
       "  </thead>\n",
       "  <tbody>\n",
       "    <tr>\n",
       "      <th>0</th>\n",
       "      <td>A0</td>\n",
       "      <td>B0</td>\n",
       "    </tr>\n",
       "    <tr>\n",
       "      <th>1</th>\n",
       "      <td>A1</td>\n",
       "      <td>B1</td>\n",
       "    </tr>\n",
       "    <tr>\n",
       "      <th>2</th>\n",
       "      <td>A2</td>\n",
       "      <td>B2</td>\n",
       "    </tr>\n",
       "    <tr>\n",
       "      <th>3</th>\n",
       "      <td>A3</td>\n",
       "      <td>B3</td>\n",
       "    </tr>\n",
       "  </tbody>\n",
       "</table>\n",
       "</div>"
      ],
      "text/plain": [
       "    A   B\n",
       "0  A0  B0\n",
       "1  A1  B1\n",
       "2  A2  B2\n",
       "3  A3  B3"
      ]
     },
     "metadata": {},
     "output_type": "display_data"
    },
    {
     "data": {
      "text/plain": [
       "'df2:'"
      ]
     },
     "metadata": {},
     "output_type": "display_data"
    },
    {
     "data": {
      "text/html": [
       "<div>\n",
       "<style scoped>\n",
       "    .dataframe tbody tr th:only-of-type {\n",
       "        vertical-align: middle;\n",
       "    }\n",
       "\n",
       "    .dataframe tbody tr th {\n",
       "        vertical-align: top;\n",
       "    }\n",
       "\n",
       "    .dataframe thead th {\n",
       "        text-align: right;\n",
       "    }\n",
       "</style>\n",
       "<table border=\"1\" class=\"dataframe\">\n",
       "  <thead>\n",
       "    <tr style=\"text-align: right;\">\n",
       "      <th></th>\n",
       "      <th>A</th>\n",
       "      <th>B</th>\n",
       "    </tr>\n",
       "  </thead>\n",
       "  <tbody>\n",
       "    <tr>\n",
       "      <th>0</th>\n",
       "      <td>A4</td>\n",
       "      <td>B4</td>\n",
       "    </tr>\n",
       "    <tr>\n",
       "      <th>1</th>\n",
       "      <td>A5</td>\n",
       "      <td>B5</td>\n",
       "    </tr>\n",
       "    <tr>\n",
       "      <th>2</th>\n",
       "      <td>A6</td>\n",
       "      <td>B6</td>\n",
       "    </tr>\n",
       "    <tr>\n",
       "      <th>3</th>\n",
       "      <td>A7</td>\n",
       "      <td>B7</td>\n",
       "    </tr>\n",
       "  </tbody>\n",
       "</table>\n",
       "</div>"
      ],
      "text/plain": [
       "    A   B\n",
       "0  A4  B4\n",
       "1  A5  B5\n",
       "2  A6  B6\n",
       "3  A7  B7"
      ]
     },
     "metadata": {},
     "output_type": "display_data"
    },
    {
     "data": {
      "text/plain": [
       "'After concatenating:'"
      ]
     },
     "metadata": {},
     "output_type": "display_data"
    },
    {
     "data": {
      "text/html": [
       "<div>\n",
       "<style scoped>\n",
       "    .dataframe tbody tr th:only-of-type {\n",
       "        vertical-align: middle;\n",
       "    }\n",
       "\n",
       "    .dataframe tbody tr th {\n",
       "        vertical-align: top;\n",
       "    }\n",
       "\n",
       "    .dataframe thead th {\n",
       "        text-align: right;\n",
       "    }\n",
       "</style>\n",
       "<table border=\"1\" class=\"dataframe\">\n",
       "  <thead>\n",
       "    <tr style=\"text-align: right;\">\n",
       "      <th></th>\n",
       "      <th>A</th>\n",
       "      <th>B</th>\n",
       "    </tr>\n",
       "  </thead>\n",
       "  <tbody>\n",
       "    <tr>\n",
       "      <th>0</th>\n",
       "      <td>A0</td>\n",
       "      <td>B0</td>\n",
       "    </tr>\n",
       "    <tr>\n",
       "      <th>1</th>\n",
       "      <td>A1</td>\n",
       "      <td>B1</td>\n",
       "    </tr>\n",
       "    <tr>\n",
       "      <th>2</th>\n",
       "      <td>A2</td>\n",
       "      <td>B2</td>\n",
       "    </tr>\n",
       "    <tr>\n",
       "      <th>3</th>\n",
       "      <td>A3</td>\n",
       "      <td>B3</td>\n",
       "    </tr>\n",
       "    <tr>\n",
       "      <th>0</th>\n",
       "      <td>A4</td>\n",
       "      <td>B4</td>\n",
       "    </tr>\n",
       "    <tr>\n",
       "      <th>1</th>\n",
       "      <td>A5</td>\n",
       "      <td>B5</td>\n",
       "    </tr>\n",
       "    <tr>\n",
       "      <th>2</th>\n",
       "      <td>A6</td>\n",
       "      <td>B6</td>\n",
       "    </tr>\n",
       "    <tr>\n",
       "      <th>3</th>\n",
       "      <td>A7</td>\n",
       "      <td>B7</td>\n",
       "    </tr>\n",
       "  </tbody>\n",
       "</table>\n",
       "</div>"
      ],
      "text/plain": [
       "    A   B\n",
       "0  A0  B0\n",
       "1  A1  B1\n",
       "2  A2  B2\n",
       "3  A3  B3\n",
       "0  A4  B4\n",
       "1  A5  B5\n",
       "2  A6  B6\n",
       "3  A7  B7"
      ]
     },
     "metadata": {},
     "output_type": "display_data"
    }
   ],
   "source": [
    "import pandas as pd\n",
    "  \n",
    "# creating the DataFrames\n",
    "df1 = pd.DataFrame({'A': ['A0', 'A1', 'A2', 'A3'], \n",
    "                    'B': ['B0', 'B1', 'B2', 'B3']})\n",
    "display('df1:', df1)\n",
    "df2 = pd.DataFrame({'A': ['A4', 'A5', 'A6', 'A7'], \n",
    "                    'B': ['B4', 'B5', 'B6', 'B7']})\n",
    "display('df2:', df2)\n",
    "  \n",
    "# concatenating\n",
    "display('After concatenating:')\n",
    "display(pd.concat([df1, df2], \n",
    "                 axis=0))"
   ]
  },
  {
   "cell_type": "code",
   "execution_count": 7,
   "id": "51f71327",
   "metadata": {},
   "outputs": [
    {
     "name": "stdout",
     "output_type": "stream",
     "text": [
      "float64\n"
     ]
    }
   ],
   "source": [
    " import numpy as np \n",
    "percentiles = [98, 76.37, 55.55, 69, 88] \n",
    "first_subject = np.array(percentiles) \n",
    "print (first_subject.dtype)"
   ]
  },
  {
   "cell_type": "code",
   "execution_count": null,
   "id": "96f4f348",
   "metadata": {},
   "outputs": [],
   "source": []
  }
 ],
 "metadata": {
  "kernelspec": {
   "display_name": "Python 3 (ipykernel)",
   "language": "python",
   "name": "python3"
  },
  "language_info": {
   "codemirror_mode": {
    "name": "ipython",
    "version": 3
   },
   "file_extension": ".py",
   "mimetype": "text/x-python",
   "name": "python",
   "nbconvert_exporter": "python",
   "pygments_lexer": "ipython3",
   "version": "3.9.12"
  }
 },
 "nbformat": 4,
 "nbformat_minor": 5
}
