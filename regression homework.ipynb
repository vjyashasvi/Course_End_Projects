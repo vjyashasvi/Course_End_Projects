{
 "cells": [
  {
   "cell_type": "code",
   "execution_count": 30,
   "id": "eca5c9e0",
   "metadata": {},
   "outputs": [],
   "source": [
    "import pandas as pd\n",
    "import numpy as np\n",
    "import matplotlib.pyplot as plt\n",
    "%matplotlib inline\n",
    "import seaborn as sns\n",
    "import warnings\n",
    "warnings.filterwarnings('ignore')\n",
    "from sklearn.model_selection import train_test_split\n",
    "from sklearn.linear_model import LinearRegression\n",
    "from sklearn.metrics import mean_squared_error, mean_absolute_error\n",
    "from sklearn.preprocessing import PolynomialFeatures"
   ]
  },
  {
   "cell_type": "code",
   "execution_count": 2,
   "id": "311b1c91",
   "metadata": {},
   "outputs": [
    {
     "data": {
      "text/html": [
       "<div>\n",
       "<style scoped>\n",
       "    .dataframe tbody tr th:only-of-type {\n",
       "        vertical-align: middle;\n",
       "    }\n",
       "\n",
       "    .dataframe tbody tr th {\n",
       "        vertical-align: top;\n",
       "    }\n",
       "\n",
       "    .dataframe thead th {\n",
       "        text-align: right;\n",
       "    }\n",
       "</style>\n",
       "<table border=\"1\" class=\"dataframe\">\n",
       "  <thead>\n",
       "    <tr style=\"text-align: right;\">\n",
       "      <th></th>\n",
       "      <th>TV</th>\n",
       "      <th>radio</th>\n",
       "      <th>newspaper</th>\n",
       "      <th>sales</th>\n",
       "    </tr>\n",
       "  </thead>\n",
       "  <tbody>\n",
       "    <tr>\n",
       "      <th>0</th>\n",
       "      <td>230.1</td>\n",
       "      <td>37.8</td>\n",
       "      <td>69.2</td>\n",
       "      <td>22.1</td>\n",
       "    </tr>\n",
       "    <tr>\n",
       "      <th>1</th>\n",
       "      <td>44.5</td>\n",
       "      <td>39.3</td>\n",
       "      <td>45.1</td>\n",
       "      <td>10.4</td>\n",
       "    </tr>\n",
       "    <tr>\n",
       "      <th>2</th>\n",
       "      <td>17.2</td>\n",
       "      <td>45.9</td>\n",
       "      <td>69.3</td>\n",
       "      <td>9.3</td>\n",
       "    </tr>\n",
       "    <tr>\n",
       "      <th>3</th>\n",
       "      <td>151.5</td>\n",
       "      <td>41.3</td>\n",
       "      <td>58.5</td>\n",
       "      <td>18.5</td>\n",
       "    </tr>\n",
       "    <tr>\n",
       "      <th>4</th>\n",
       "      <td>180.8</td>\n",
       "      <td>10.8</td>\n",
       "      <td>58.4</td>\n",
       "      <td>12.9</td>\n",
       "    </tr>\n",
       "    <tr>\n",
       "      <th>...</th>\n",
       "      <td>...</td>\n",
       "      <td>...</td>\n",
       "      <td>...</td>\n",
       "      <td>...</td>\n",
       "    </tr>\n",
       "    <tr>\n",
       "      <th>195</th>\n",
       "      <td>38.2</td>\n",
       "      <td>3.7</td>\n",
       "      <td>13.8</td>\n",
       "      <td>7.6</td>\n",
       "    </tr>\n",
       "    <tr>\n",
       "      <th>196</th>\n",
       "      <td>94.2</td>\n",
       "      <td>4.9</td>\n",
       "      <td>8.1</td>\n",
       "      <td>9.7</td>\n",
       "    </tr>\n",
       "    <tr>\n",
       "      <th>197</th>\n",
       "      <td>177.0</td>\n",
       "      <td>9.3</td>\n",
       "      <td>6.4</td>\n",
       "      <td>12.8</td>\n",
       "    </tr>\n",
       "    <tr>\n",
       "      <th>198</th>\n",
       "      <td>283.6</td>\n",
       "      <td>42.0</td>\n",
       "      <td>66.2</td>\n",
       "      <td>25.5</td>\n",
       "    </tr>\n",
       "    <tr>\n",
       "      <th>199</th>\n",
       "      <td>232.1</td>\n",
       "      <td>8.6</td>\n",
       "      <td>8.7</td>\n",
       "      <td>13.4</td>\n",
       "    </tr>\n",
       "  </tbody>\n",
       "</table>\n",
       "<p>200 rows × 4 columns</p>\n",
       "</div>"
      ],
      "text/plain": [
       "        TV  radio  newspaper  sales\n",
       "0    230.1   37.8       69.2   22.1\n",
       "1     44.5   39.3       45.1   10.4\n",
       "2     17.2   45.9       69.3    9.3\n",
       "3    151.5   41.3       58.5   18.5\n",
       "4    180.8   10.8       58.4   12.9\n",
       "..     ...    ...        ...    ...\n",
       "195   38.2    3.7       13.8    7.6\n",
       "196   94.2    4.9        8.1    9.7\n",
       "197  177.0    9.3        6.4   12.8\n",
       "198  283.6   42.0       66.2   25.5\n",
       "199  232.1    8.6        8.7   13.4\n",
       "\n",
       "[200 rows x 4 columns]"
      ]
     },
     "execution_count": 2,
     "metadata": {},
     "output_type": "execute_result"
    }
   ],
   "source": [
    "df=pd.read_csv('Advertising.csv')\n",
    "df=df.drop('Unnamed: 0',axis=1)\n",
    "df"
   ]
  },
  {
   "cell_type": "code",
   "execution_count": 3,
   "id": "25ed557e",
   "metadata": {},
   "outputs": [
    {
     "name": "stdout",
     "output_type": "stream",
     "text": [
      "MAE,MSE,RMSE, R-Squared on advertising feature :  TV \n",
      " \n",
      "MAE on train data : 2.5597171849580413\n",
      "MSE on train data : 10.89210545248742\n",
      "RMSE on train data : 3.300318992535028\n",
      "R-squared on train data : 0.6232434761028465 \n",
      " \n",
      "MAE,MSE,RMSE, R-Squared on advertising feature :  radio \n",
      " \n",
      "MAE on train data : 3.296888976340986\n",
      "MSE on train data : 18.475705510558843\n",
      "RMSE on train data : 4.2983375286916266\n",
      "R-squared on train data : 0.36092772741967993 \n",
      " \n",
      "MAE,MSE,RMSE, R-Squared on advertising feature :  newspaper \n",
      " \n",
      "MAE on train data : 4.170923234191576\n",
      "MSE on train data : 26.400330736679212\n",
      "RMSE on train data : 5.1381252161346955\n",
      "R-squared on train data : 0.08681596212282694 \n",
      " \n"
     ]
    }
   ],
   "source": [
    "for i in range(3):\n",
    "    features=df[[df.columns[i]]]\n",
    "    target=df[['sales']]\n",
    "    X_train,X_test, y_train,y_test = train_test_split(features, target, random_state=6)\n",
    "    lin_model=LinearRegression()\n",
    "    lin_model.fit(X_train,y_train)\n",
    "    pred_lin_train=lin_model.predict(X_train)\n",
    "    print('MAE,MSE,RMSE, R-Squared on advertising feature : ',df.columns[i],'\\n ')\n",
    "    print('MAE on train data :',mean_absolute_error(pred_lin_train,y_train))\n",
    "    print('MSE on train data :',mean_squared_error(pred_lin_train,y_train))\n",
    "    print('RMSE on train data :',np.sqrt(mean_squared_error(pred_lin_train,y_train)))\n",
    "    print('R-squared on train data :',lin_model.score(X_train,y_train),'\\n ')"
   ]
  },
  {
   "cell_type": "code",
   "execution_count": 4,
   "id": "a4e6253b",
   "metadata": {},
   "outputs": [
    {
     "name": "stdout",
     "output_type": "stream",
     "text": [
      "MAE,MSE,RMSE, R-Squared on advertising feature : TV \n",
      " \n",
      "MAE on test data :  2.4691976840556906\n",
      "MSE on test data :  9.50319169686634\n",
      "RMSE on test data :  3.082724719605424\n",
      "R-Squared on test data :  0.560015340729769 \n",
      " \n",
      "MAE,MSE,RMSE, R-Squared on advertising feature : radio \n",
      " \n",
      "MAE on test data :  3.2941636885230885\n",
      "MSE on test data :  17.228484653665376\n",
      "RMSE on test data :  4.150720979982318\n",
      "R-Squared on test data :  0.20234493927077735 \n",
      " \n",
      "MAE,MSE,RMSE, R-Squared on advertising feature : newspaper \n",
      " \n",
      "MAE on test data :  4.156100638515478\n",
      "MSE on test data :  24.681207398393923\n",
      "RMSE on test data :  4.968018457936114\n",
      "R-Squared on test data :  -0.14270583757045618 \n",
      " \n"
     ]
    }
   ],
   "source": [
    "for i in range(3):\n",
    "    features=df[[df.columns[i]]]\n",
    "    target=df[['sales']]\n",
    "    X_train,X_test, y_train,y_test = train_test_split(features, target, random_state=6)\n",
    "    lin_model=LinearRegression()\n",
    "    lin_model.fit(X_train,y_train)\n",
    "    pred_lin_test=lin_model.predict(X_test)\n",
    "    print('MAE,MSE,RMSE, R-Squared on advertising feature :',df.columns[i], '\\n ')\n",
    "    print('MAE on test data : ', mean_absolute_error(pred_lin_test,y_test))\n",
    "    print('MSE on test data : ',mean_squared_error(pred_lin_test,y_test))\n",
    "    print('RMSE on test data : ',np.sqrt(mean_squared_error(pred_lin_test,y_test)))\n",
    "    print('R-Squared on test data : ',lin_model.score(X_test,y_test),'\\n ')\n",
    "          "
   ]
  },
  {
   "cell_type": "code",
   "execution_count": 5,
   "id": "3c16e338",
   "metadata": {},
   "outputs": [
    {
     "data": {
      "text/plain": [
       "Index(['TV', 'radio', 'newspaper', 'sales'], dtype='object')"
      ]
     },
     "execution_count": 5,
     "metadata": {},
     "output_type": "execute_result"
    }
   ],
   "source": [
    "df.columns"
   ]
  },
  {
   "cell_type": "code",
   "execution_count": 20,
   "id": "f1035716",
   "metadata": {},
   "outputs": [],
   "source": [
    "features=df.iloc[:,0:3]\n",
    "target=df[['sales']]"
   ]
  },
  {
   "cell_type": "code",
   "execution_count": 21,
   "id": "2aa1334d",
   "metadata": {},
   "outputs": [
    {
     "name": "stdout",
     "output_type": "stream",
     "text": [
      "MAE,MSE,RMSE,R-Squared on Multiple advertising features : \n",
      "\n",
      "MAE on train data       :  1.0661435033472693\n",
      "MAE on test data        :  1.8850130310423154\n",
      "MSE on train data       :  1.8585966709492496\n",
      "MSE on test data        :  6.7004867565288775\n",
      "RMSE on train data      :  1.3633035872281896\n",
      "RMSE on test data       :  2.5885298446278107\n",
      "R-Squared on train data :  0.9209087553499528\n",
      "R-Squared on test data  :  0.8353672324670592\n"
     ]
    }
   ],
   "source": [
    "X_train,X_test,y_train,y_test=train_test_split(features, target, random_state=10, train_size=.80)\n",
    "multi_model=LinearRegression()\n",
    "multi_model.fit(X_train,y_train)\n",
    "multi_train=multi_model.predict(X_train)\n",
    "multi_test=multi_model.predict(X_test)\n",
    "print('MAE,MSE,RMSE,R-Squared on Multiple advertising features : \\n')\n",
    "print('MAE on train data       : ',mean_absolute_error(multi_train, y_train))\n",
    "print('MAE on test data        : ', mean_absolute_error(multi_test, y_test))\n",
    "print('MSE on train data       : ',mean_squared_error(multi_train,y_train))\n",
    "print('MSE on test data        : ', mean_squared_error(multi_test, y_test))\n",
    "print('RMSE on train data      : ',np.sqrt(mean_squared_error(multi_train,y_train)))\n",
    "print('RMSE on test data       : ',np.sqrt(mean_squared_error(multi_test, y_test)))\n",
    "print(\"R-Squared on train data : \",multi_model.score(X_train,y_train))\n",
    "print('R-Squared on test data  : ',multi_model.score(X_test,y_test))"
   ]
  },
  {
   "cell_type": "code",
   "execution_count": 26,
   "id": "6f11015c",
   "metadata": {},
   "outputs": [],
   "source": [
    "features=df[['TV', 'radio', 'newspaper']]\n",
    "target=df[['sales']]"
   ]
  },
  {
   "cell_type": "code",
   "execution_count": 27,
   "id": "583a7826",
   "metadata": {},
   "outputs": [
    {
     "data": {
      "text/plain": [
       "3"
      ]
     },
     "execution_count": 27,
     "metadata": {},
     "output_type": "execute_result"
    }
   ],
   "source": [
    "loop=[2,3,5,10,30]\n",
    "loop[1]"
   ]
  },
  {
   "cell_type": "code",
   "execution_count": 37,
   "id": "735582e5",
   "metadata": {},
   "outputs": [
    {
     "data": {
      "text/plain": [
       "Index(['TV', 'radio', 'newspaper'], dtype='object')"
      ]
     },
     "execution_count": 37,
     "metadata": {},
     "output_type": "execute_result"
    }
   ],
   "source": [
    "features.columns"
   ]
  },
  {
   "cell_type": "code",
   "execution_count": 38,
   "id": "6ea33ae2",
   "metadata": {},
   "outputs": [
    {
     "name": "stdout",
     "output_type": "stream",
     "text": [
      "Polynomial Regression, degree :-  2 \n",
      "\n",
      "MAE on train data 1.2028934896197305\n",
      "MAE on test data  0.9912741510676634\n",
      "MSE on train data 2.488776665854577\n",
      "MSE on test data  1.5270219257568272\n",
      "RMSE on train data 1.5775857079266968\n",
      "RMSE on test data 1.235727286158571\n",
      "R-Squared on train data :  0.9139135358655948\n",
      "R-Squared on test data  :  0.9293009924314337 \n",
      "\n",
      "Polynomial Regression, degree :-  3 \n",
      "\n",
      "MAE on train data 1.0981257977059706\n",
      "MAE on test data  1.0118905313078683\n",
      "MSE on train data 2.1206437035363357\n",
      "MSE on test data  1.6566344479417925\n",
      "RMSE on train data 1.4562430097811065\n",
      "RMSE on test data 1.287103122497103\n",
      "R-Squared on train data :  0.926647207589578\n",
      "R-Squared on test data  :  0.9233001115453298 \n",
      "\n",
      "Polynomial Regression, degree :-  5 \n",
      "\n",
      "MAE on train data 1.0595841407275963\n",
      "MAE on test data  1.0429921563554907\n",
      "MSE on train data 1.8922826951733358\n",
      "MSE on test data  2.535482832459382\n",
      "RMSE on train data 1.375602666169754\n",
      "RMSE on test data 1.5923199529175605\n",
      "R-Squared on train data :  0.9345461854391585\n",
      "R-Squared on test data  :  0.8826106443277346 \n",
      "\n",
      "Polynomial Regression, degree :-  10 \n",
      "\n",
      "MAE on train data 1.6513969448139292\n",
      "MAE on test data  1.939370480297881\n",
      "MSE on train data 4.710914903317118\n",
      "MSE on test data  5.433744250398373\n",
      "RMSE on train data 2.1704642137840278\n",
      "RMSE on test data 2.331039306918348\n",
      "R-Squared on train data :  0.8370500606066271\n",
      "R-Squared on test data  :  0.7484251408543663 \n",
      "\n",
      "Polynomial Regression, degree :-  30 \n",
      "\n",
      "MAE on train data 3.5990834633152313\n",
      "MAE on test data  14.062183101941423\n",
      "MSE on train data 19.367252475719056\n",
      "MSE on test data  5904.082150756343\n",
      "RMSE on train data 4.400824067799014\n",
      "RMSE on test data 76.83802542202879\n",
      "R-Squared on train data :  0.33008923279161795\n",
      "R-Squared on test data  :  -272.3508547723573 \n",
      "\n"
     ]
    }
   ],
   "source": [
    "for i in range(5):\n",
    "    poly_feat=PolynomialFeatures(degree=loop[i])\n",
    "    print(\"Polynomial Regression, degree :- \",loop[i],'\\n')\n",
    "    tv_poly=poly_feat.fit_transform(features[['TV']])\n",
    "    radio_poly=poly_feat.fit_transform(features[['radio']])\n",
    "    news_poly=poly_feat.fit_transform(features[['newspaper']])\n",
    "    poly_features=pd.concat([pd.DataFrame(tv_poly),pd.DataFrame(radio_poly),pd.DataFrame(news_poly)], axis=1)\n",
    "    X_train,X_test,y_train,y_test =train_test_split(poly_features, target, random_state=6)\n",
    "    poly_model=LinearRegression()\n",
    "    poly_model.fit(X_train,y_train)\n",
    "    pred_train=poly_model.predict(X_train)\n",
    "    pred_test=poly_model.predict(X_test)\n",
    "       \n",
    "    print('MAE on train data',mean_absolute_error(pred_train, y_train))\n",
    "    print('MAE on test data ',mean_absolute_error(pred_test,y_test))\n",
    "    print('MSE on train data',mean_squared_error(pred_train, y_train))\n",
    "    print('MSE on test data ',mean_squared_error(pred_test,y_test))\n",
    "    print('RMSE on train data',np.sqrt(mean_squared_error(pred_train, y_train)))\n",
    "    print('RMSE on test data',np.sqrt(mean_squared_error(pred_test, y_test)))\n",
    "    print(\"R-Squared on train data : \",poly_model.score(X_train,y_train))\n",
    "    print('R-Squared on test data  : ',poly_model.score(X_test,y_test),'\\n')"
   ]
  },
  {
   "cell_type": "code",
   "execution_count": 1,
   "id": "13fe1a02",
   "metadata": {},
   "outputs": [
    {
     "name": "stdout",
     "output_type": "stream",
     "text": [
      "Defaulting to user installation because normal site-packages is not writeable\n",
      "Collecting mglearn\n",
      "  Downloading mglearn-0.1.9.tar.gz (540 kB)\n",
      "Requirement already satisfied: numpy in c:\\programdata\\anaconda3\\lib\\site-packages (from mglearn) (1.21.5)\n",
      "Requirement already satisfied: matplotlib in c:\\programdata\\anaconda3\\lib\\site-packages (from mglearn) (3.5.1)\n",
      "Requirement already satisfied: scikit-learn in c:\\programdata\\anaconda3\\lib\\site-packages (from mglearn) (1.0.2)\n",
      "Requirement already satisfied: pandas in c:\\programdata\\anaconda3\\lib\\site-packages (from mglearn) (1.4.2)\n",
      "Requirement already satisfied: pillow in c:\\programdata\\anaconda3\\lib\\site-packages (from mglearn) (9.0.1)\n",
      "Requirement already satisfied: cycler in c:\\programdata\\anaconda3\\lib\\site-packages (from mglearn) (0.11.0)\n",
      "Requirement already satisfied: imageio in c:\\programdata\\anaconda3\\lib\\site-packages (from mglearn) (2.9.0)\n",
      "Requirement already satisfied: joblib in c:\\programdata\\anaconda3\\lib\\site-packages (from mglearn) (1.1.0)\n",
      "Requirement already satisfied: fonttools>=4.22.0 in c:\\programdata\\anaconda3\\lib\\site-packages (from matplotlib->mglearn) (4.25.0)\n",
      "Requirement already satisfied: kiwisolver>=1.0.1 in c:\\programdata\\anaconda3\\lib\\site-packages (from matplotlib->mglearn) (1.3.2)\n",
      "Requirement already satisfied: packaging>=20.0 in c:\\programdata\\anaconda3\\lib\\site-packages (from matplotlib->mglearn) (21.3)\n",
      "Requirement already satisfied: pyparsing>=2.2.1 in c:\\programdata\\anaconda3\\lib\\site-packages (from matplotlib->mglearn) (3.0.4)\n",
      "Requirement already satisfied: python-dateutil>=2.7 in c:\\programdata\\anaconda3\\lib\\site-packages (from matplotlib->mglearn) (2.8.2)\n",
      "Requirement already satisfied: six>=1.5 in c:\\programdata\\anaconda3\\lib\\site-packages (from python-dateutil>=2.7->matplotlib->mglearn) (1.16.0)\n",
      "Requirement already satisfied: pytz>=2020.1 in c:\\programdata\\anaconda3\\lib\\site-packages (from pandas->mglearn) (2021.3)\n",
      "Requirement already satisfied: threadpoolctl>=2.0.0 in c:\\programdata\\anaconda3\\lib\\site-packages (from scikit-learn->mglearn) (2.2.0)\n",
      "Requirement already satisfied: scipy>=1.1.0 in c:\\programdata\\anaconda3\\lib\\site-packages (from scikit-learn->mglearn) (1.7.3)\n",
      "Building wheels for collected packages: mglearn\n",
      "  Building wheel for mglearn (setup.py): started\n",
      "  Building wheel for mglearn (setup.py): finished with status 'done'\n",
      "  Created wheel for mglearn: filename=mglearn-0.1.9-py2.py3-none-any.whl size=582639 sha256=39a7339032a62e155506409664e652c59573f5fc0454abd769ee1af5d2976202\n",
      "  Stored in directory: c:\\users\\admin\\appdata\\local\\pip\\cache\\wheels\\df\\30\\8a\\1e2c8f144c9d411b0688f628d496d2db8f61b6d14bcedaa1df\n",
      "Successfully built mglearn\n",
      "Installing collected packages: mglearn\n",
      "Successfully installed mglearn-0.1.9\n"
     ]
    }
   ],
   "source": [
    "!pip install mglearn"
   ]
  },
  {
   "cell_type": "code",
   "execution_count": null,
   "id": "bce4156a",
   "metadata": {},
   "outputs": [],
   "source": []
  }
 ],
 "metadata": {
  "kernelspec": {
   "display_name": "Python 3 (ipykernel)",
   "language": "python",
   "name": "python3"
  },
  "language_info": {
   "codemirror_mode": {
    "name": "ipython",
    "version": 3
   },
   "file_extension": ".py",
   "mimetype": "text/x-python",
   "name": "python",
   "nbconvert_exporter": "python",
   "pygments_lexer": "ipython3",
   "version": "3.9.12"
  }
 },
 "nbformat": 4,
 "nbformat_minor": 5
}
