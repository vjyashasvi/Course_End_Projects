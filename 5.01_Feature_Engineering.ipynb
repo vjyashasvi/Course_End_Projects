{
 "cells": [
  {
   "cell_type": "markdown",
   "metadata": {
    "id": "IeDy1PAj0OQE"
   },
   "source": [
    "# <b>Feature Engineering</b>"
   ]
  },
  {
   "cell_type": "markdown",
   "metadata": {
    "id": "C08dpo7v0OQG"
   },
   "source": [
    "## **Agenda**"
   ]
  },
  {
   "cell_type": "markdown",
   "metadata": {
    "id": "hO1BXs5v0OQH"
   },
   "source": [
    "In this session, we will cover the following concepts with the help of a business use case:\n",
    "* Features\n",
    "* Feature engineering and it's methods\n",
    "   * Applying domain expertise\n",
    "   * Combining features\n",
    "   * Encoding of categorical variables"
   ]
  },
  {
   "cell_type": "markdown",
   "metadata": {
    "id": "W6IwJTbCGe0a"
   },
   "source": [
    "## **Features**\n",
    "\n",
    "* In most cases, machine learning algorithms are fed a collection of numeric examples that are stacked on top of each other to form a two-dimensional feature matrix.\n",
    "\n",
    "* This matrix has one **example** per row and one **function** per column.\n",
    "\n",
    "* Understanding the task of these features is critical when doing some kind of learning on the dataset.\n",
    "\n",
    "* Since the algorithms create their own internal transformations, deep learning features are normally simple.\n",
    "\n",
    "* This method necessitates a vast volume of data and sacrifices interpretability; but, in image processing and natural language processing applications, these trade offs are often worthwhile.\n",
    "\n",
    "* Feature engineering is needed for the majority of other use cases in order to translate data into a machine learning-ready format.\n",
    "\n",
    "* The features chosen are critical for both the data's interpretability and the model's performance.\n",
    "\n",
    "* A precise machine learning framework cannot be built without feature engineering."
   ]
  },
  {
   "cell_type": "markdown",
   "metadata": {
    "id": "00t7JMHH0OQI"
   },
   "source": [
    "## <b> What Is Feature Engineering?</b>\n",
    "\n",
    "* Feature Engineering repurposes already modified features to build new ones, making it possible for any Machine Learning algorithm to comprehend and master any pattern.\n",
    "\n",
    "* It is the process of **creating new features** from raw data using domain knowledge to make the machine learning algorithms work.\n",
    "\n",
    "* It is one of the fundamental concepts of machine learning and it is both difficult and expensive. \n",
    "\n",
    "* Every new resource must enhance the performance in some way; otherwise, it would have the opposite effect, worsening the final outcome. When this happens, we must use feature selection instead of feature engineering.\n",
    "\n",
    "* Acording to Andrew Ng, \"Coming up with features is difficult, time-consuming, requires expert knowledge.\"\n",
    "\n",
    "* According to Pedro Domingos, feature engineering is the art of coming up with new features with more predictive power using:\n",
    "\n",
    "   - Experience\n",
    "   - Domain expertise\n",
    "   - Empirical processes\n",
    "\n",
    "* The following are some of the most important components of feature engineering:\n",
    "  1. Imputation\n",
    "  2. Handling Outliers\n",
    "  3. Binning\n",
    "  4. One-Hot Encoding\n",
    "  5. Grouping Operations\n",
    "  6. Scaling"
   ]
  },
  {
   "cell_type": "markdown",
   "metadata": {
    "id": "rypevJCI0OQI"
   },
   "source": [
    "### Most Important Techniques in Feature Engineering\n",
    "\n",
    "- Applying domain expertise\n",
    "- Combining features\n",
    "- Encoding of categorical variables"
   ]
  },
  {
   "cell_type": "markdown",
   "metadata": {
    "id": "dpkF5BYj0OQJ"
   },
   "source": [
    "### <b> Applying Domain Expertise </b>\n",
    "\n",
    "Domain expertise or domain knowledge is nothing but expertise in a particular field, such as Education, Healthcare, Consumer Goods, and Retail. \n",
    "A domain expert is someone who is not related to the technology aspect but has in-depth knowledge about the particular industry, how it is shaping up, the trends, and the things that might impact the industry.\n",
    "\n",
    "For example, you are called in to develop a particular application for a consumer goods company, specifically an apparel and footwear one.\n",
    "The application that you build has to align to the industry and its various facets, and you being a technology expert wouldn't know much about it. This is where a domain expert will come in and explain how that industry works and what would be the best way to have the application built."
   ]
  },
  {
   "cell_type": "markdown",
   "metadata": {
    "id": "K14QcJdg0OQK"
   },
   "source": [
    "### <b> Combining Features </b>\n",
    "\n",
    "This is one of the most crucial part of feature engineering that involves analyzing the data set and understanding the variable(s) to combine one or more features to create new ones. This process involves intuitive decision-making and a small amount of research about the domain of the data set.\n",
    " \n",
    "Combining features helps to increase the performance of the model which is fitted on the data.\n"
   ]
  },
  {
   "cell_type": "markdown",
   "metadata": {
    "id": "st2vQ3XC0OQc"
   },
   "source": [
    "## <b>Encoding of Categorical Variables</b>\n",
    "\n",
    "Let's first see what encoding is.\n",
    "\n",
    "#### **What Is Encoding?**\n",
    "\n",
    "Encoding is used to transform the categorical variable into numerical features.\n",
    "\n",
    "For example, we have an attribute called gender in a data set where values are male and female. In this case, the numerical encoded version of the values will be 1 for male, 0 for female, or vice versa.\n"
   ]
  },
  {
   "cell_type": "markdown",
   "metadata": {
    "id": "7uqj_i8o0OQd"
   },
   "source": [
    "Since different kinds of categorical variables capture different amount of information, we need different techniques to encode them."
   ]
  },
  {
   "cell_type": "markdown",
   "metadata": {
    "id": "k2JkbSy15Cf7"
   },
   "source": [
    "### **Label Encoding**\n",
    "\n",
    "Label encoding is a handy technique to encode categorical variables. However, such encoded nominal variables might end up being misinterpreted as ordinal."
   ]
  },
  {
   "cell_type": "markdown",
   "metadata": {
    "id": "frQWCn1P0OQo"
   },
   "source": [
    "#### **Encoding Can Be Performed on the Following Types of Variables:**\n",
    "\n",
    "#### Nominal Variables\n",
    "\n",
    "Consider the following three categorical variables and their values:\n",
    "\n",
    "**Color**: Blue, Green, Red, Yellow\n",
    "\n",
    "**Educational Qualification**: Primary School, Secondary School, Graduate, Post-Graduate, PhD\n",
    "\n",
    "**Salary Bracket**: 0-50,000, 50,001-100,000, 100,001-150,000, 150,001-200,000\n",
    "\n",
    "Although all three of them are categorical variables, they are different in the amount of information they convey. \n",
    "Let's look at them one by one.\n",
    "\n",
    "Color conveys blue is different from red. That's all. The value of the variable is not meant to capture any relative difference among the values. Such variables are called `Nominal Variables`."
   ]
  },
  {
   "cell_type": "markdown",
   "metadata": {
    "id": "22HsDeX_0OQp"
   },
   "source": [
    "####  Ordinal Variables\n",
    "\n",
    "Now consider educational qualifications.\n",
    "\n",
    "The value \"graduate\" does not only convey that it is different from the value say \"Primary school\", it also implies that it is more in terms of qualification than \"Primary School\". \n",
    "\n",
    "Such variables are called `Ordinal Variables` because they convey a sense of order.\n",
    "\n",
    "In our example, Primary School < Secondary School < Graduate < Post-Graduate < PhD. (in terms of qualification)."
   ]
  },
  {
   "cell_type": "markdown",
   "metadata": {
    "id": "58djalCk0OQp"
   },
   "source": [
    "#### Interval Variables \n",
    "\n",
    "The third variable, salary bracket is similar to educational qualification by conveying order (a person earning 50,001-100,000 earns more salary than 0-50,000). \n",
    "\n",
    "However, here, apart from knowing the order, we also know the interval between the values. \n",
    "\n",
    "Here we can say that the averages of each of the values are separated by 50,000. Such variables are called `Interval variables`."
   ]
  },
  {
   "cell_type": "markdown",
   "metadata": {
    "id": "3oqIfsw00OQq"
   },
   "source": [
    "## Techniques Used for Encoding Variables\n",
    "There are two types of broadly used algorithms which perform the task of encoding of variables.\n"
   ]
  },
  {
   "cell_type": "markdown",
   "metadata": {
    "id": "UkZbJTycrRXl"
   },
   "source": [
    "### There are few libraries required to perform encoding variables:\n",
    "* Pandas - It helps to retrieve datasets, handle missing data and perform data wrangling.\n",
    "* NumPy - It helps to perform numerical operations in the dataset.\n",
    "* sklearn.preprocessing - It helps in data transformation."
   ]
  },
  {
   "cell_type": "code",
   "execution_count": 11,
   "metadata": {
    "id": "-BCPmt66IMA4"
   },
   "outputs": [],
   "source": [
    "#Select the cell and click on run icon to import libraries. \n",
    "\n",
    "import pandas as pd\n",
    "import numpy as np\n",
    "\n",
    "# Import label encoder \n",
    "from sklearn import preprocessing "
   ]
  },
  {
   "cell_type": "markdown",
   "metadata": {
    "id": "HNEOGNsvrRXn"
   },
   "source": [
    "**Instruction:**\n",
    "\n",
    " Download the **`Iris.csv`** dataset file from Course Resources and upload it in the lab using the Up arrow as shown below on the View Tab"
   ]
  },
  {
   "cell_type": "markdown",
   "metadata": {
    "id": "jnRd-6d5rRXn"
   },
   "source": [
    "**Note 1:**  \n",
    "* The **`iris_df`** is a dataframe that stores data imported from a CSV file in rows and columns format.\n",
    "* The **head()** function helps to view the first few data present in the **`iris_df`** dataframe."
   ]
  },
  {
   "cell_type": "code",
   "execution_count": null,
   "metadata": {
    "colab": {
     "base_uri": "https://localhost:8080/",
     "height": 204
    },
    "id": "w4ggF7QGITl1",
    "outputId": "c20f7904-aac1-4712-c2b2-1f6ee83e8970"
   },
   "outputs": [
    {
     "data": {
      "text/html": [
       "<div>\n",
       "<style scoped>\n",
       "    .dataframe tbody tr th:only-of-type {\n",
       "        vertical-align: middle;\n",
       "    }\n",
       "\n",
       "    .dataframe tbody tr th {\n",
       "        vertical-align: top;\n",
       "    }\n",
       "\n",
       "    .dataframe thead th {\n",
       "        text-align: right;\n",
       "    }\n",
       "</style>\n",
       "<table border=\"1\" class=\"dataframe\">\n",
       "  <thead>\n",
       "    <tr style=\"text-align: right;\">\n",
       "      <th></th>\n",
       "      <th>sepal_length</th>\n",
       "      <th>sepal_width</th>\n",
       "      <th>petal_length</th>\n",
       "      <th>petal_width</th>\n",
       "      <th>species</th>\n",
       "    </tr>\n",
       "  </thead>\n",
       "  <tbody>\n",
       "    <tr>\n",
       "      <th>0</th>\n",
       "      <td>5.1</td>\n",
       "      <td>3.5</td>\n",
       "      <td>1.4</td>\n",
       "      <td>0.2</td>\n",
       "      <td>setosa</td>\n",
       "    </tr>\n",
       "    <tr>\n",
       "      <th>1</th>\n",
       "      <td>4.9</td>\n",
       "      <td>3.0</td>\n",
       "      <td>1.4</td>\n",
       "      <td>0.2</td>\n",
       "      <td>setosa</td>\n",
       "    </tr>\n",
       "    <tr>\n",
       "      <th>2</th>\n",
       "      <td>4.7</td>\n",
       "      <td>3.2</td>\n",
       "      <td>1.3</td>\n",
       "      <td>0.2</td>\n",
       "      <td>setosa</td>\n",
       "    </tr>\n",
       "    <tr>\n",
       "      <th>3</th>\n",
       "      <td>4.6</td>\n",
       "      <td>3.1</td>\n",
       "      <td>1.5</td>\n",
       "      <td>0.2</td>\n",
       "      <td>setosa</td>\n",
       "    </tr>\n",
       "    <tr>\n",
       "      <th>4</th>\n",
       "      <td>5.0</td>\n",
       "      <td>3.6</td>\n",
       "      <td>1.4</td>\n",
       "      <td>0.2</td>\n",
       "      <td>setosa</td>\n",
       "    </tr>\n",
       "  </tbody>\n",
       "</table>\n",
       "</div>"
      ],
      "text/plain": [
       "   sepal_length  sepal_width  petal_length  petal_width species\n",
       "0           5.1          3.5           1.4          0.2  setosa\n",
       "1           4.9          3.0           1.4          0.2  setosa\n",
       "2           4.7          3.2           1.3          0.2  setosa\n",
       "3           4.6          3.1           1.5          0.2  setosa\n",
       "4           5.0          3.6           1.4          0.2  setosa"
      ]
     },
     "execution_count": 4,
     "metadata": {},
     "output_type": "execute_result"
    }
   ],
   "source": [
    "#Select the cell and click on run icon to retrieve and view the dataset.\n",
    "# Import dataset \n",
    "\n",
    "iris_df = pd.read_csv('Iris.csv') \n",
    "iris_df.head()"
   ]
  },
  {
   "cell_type": "markdown",
   "metadata": {
    "id": "4c_XTTcfrRXp"
   },
   "source": [
    "**Observations from the above output:**\n",
    ">View few records of Iris dataset"
   ]
  },
  {
   "cell_type": "markdown",
   "metadata": {
    "id": "CtOwfdD_rRXq"
   },
   "source": [
    "\n",
    "**Note 2:**  \n",
    "The **info()** function helps to understand the dataset, the column name, total null values, and data type."
   ]
  },
  {
   "cell_type": "code",
   "execution_count": null,
   "metadata": {
    "id": "7o4PhZCZrRXq",
    "outputId": "903a6c89-d450-4da7-db4b-eb260d4d2008"
   },
   "outputs": [
    {
     "name": "stdout",
     "output_type": "stream",
     "text": [
      "<class 'pandas.core.frame.DataFrame'>\n",
      "RangeIndex: 150 entries, 0 to 149\n",
      "Data columns (total 5 columns):\n",
      " #   Column        Non-Null Count  Dtype  \n",
      "---  ------        --------------  -----  \n",
      " 0   sepal_length  150 non-null    float64\n",
      " 1   sepal_width   150 non-null    float64\n",
      " 2   petal_length  150 non-null    float64\n",
      " 3   petal_width   150 non-null    float64\n",
      " 4   species       150 non-null    object \n",
      "dtypes: float64(4), object(1)\n",
      "memory usage: 6.0+ KB\n"
     ]
    }
   ],
   "source": [
    "#Select the cell and click on run icon \n",
    "iris_df.info()"
   ]
  },
  {
   "cell_type": "markdown",
   "metadata": {
    "id": "w07jJpyjrRXq"
   },
   "source": [
    "**Observations from the above output:**\n",
    ">The variable **`species`** is a categorical Dtype **'object'**."
   ]
  },
  {
   "cell_type": "markdown",
   "metadata": {
    "id": "zuQugnqCrRXq"
   },
   "source": [
    "**Note 3:**\n",
    "\n",
    "The **LabelEncoder()** function is used to convert categorical variables into numerical. According to our dataset, variable **`species`** is categorical, so convert **`species`** into numerical type."
   ]
  },
  {
   "cell_type": "code",
   "execution_count": null,
   "metadata": {
    "id": "ZhNSljFTrRXq"
   },
   "outputs": [],
   "source": [
    "#Select the cell and click on run icon to define LabelEnocder \n",
    "label_encoder = preprocessing.LabelEncoder() "
   ]
  },
  {
   "cell_type": "markdown",
   "metadata": {
    "id": "Bv5a7iKirRXr"
   },
   "source": [
    "**Note 4:**\n",
    "\n",
    "The **unique()** function is used to identify distinct rows present in the **`iris_df`** dataframe."
   ]
  },
  {
   "cell_type": "code",
   "execution_count": null,
   "metadata": {
    "colab": {
     "base_uri": "https://localhost:8080/"
    },
    "id": "xX1zOQkmITfl",
    "outputId": "e379745f-d80f-4156-950a-88425bda86b8"
   },
   "outputs": [
    {
     "data": {
      "text/plain": [
       "array(['setosa', 'versicolor', 'virginica'], dtype=object)"
      ]
     },
     "execution_count": 9,
     "metadata": {},
     "output_type": "execute_result"
    }
   ],
   "source": [
    "#Select the cell and click on run icon\n",
    "iris_df['species'].unique() "
   ]
  },
  {
   "cell_type": "markdown",
   "metadata": {
    "id": "If2eAPgPrRXr"
   },
   "source": [
    "**Observations from the above output:**\n",
    ">There are three categories of variable **`species`** such as *'setosa'*, *'versicolor'*, and *'virginica'* to be encoded."
   ]
  },
  {
   "cell_type": "markdown",
   "metadata": {
    "id": "r5qix4GNrRXr"
   },
   "source": [
    "**Note 5:**\n",
    "\n",
    "* The **fit_transform()** method calculates the mean and variance of each feature and transforms all the features using the respective mean and variance.\n",
    "* The **head()** function helps to view the first few data present in the **`iris_df`** dataframe."
   ]
  },
  {
   "cell_type": "code",
   "execution_count": null,
   "metadata": {
    "colab": {
     "base_uri": "https://localhost:8080/",
     "height": 204
    },
    "id": "FeL3xpSWITYp",
    "outputId": "6a70119a-0729-49d8-b86c-754121fedf12"
   },
   "outputs": [
    {
     "data": {
      "text/html": [
       "<div>\n",
       "<style scoped>\n",
       "    .dataframe tbody tr th:only-of-type {\n",
       "        vertical-align: middle;\n",
       "    }\n",
       "\n",
       "    .dataframe tbody tr th {\n",
       "        vertical-align: top;\n",
       "    }\n",
       "\n",
       "    .dataframe thead th {\n",
       "        text-align: right;\n",
       "    }\n",
       "</style>\n",
       "<table border=\"1\" class=\"dataframe\">\n",
       "  <thead>\n",
       "    <tr style=\"text-align: right;\">\n",
       "      <th></th>\n",
       "      <th>sepal_length</th>\n",
       "      <th>sepal_width</th>\n",
       "      <th>petal_length</th>\n",
       "      <th>petal_width</th>\n",
       "      <th>species</th>\n",
       "    </tr>\n",
       "  </thead>\n",
       "  <tbody>\n",
       "    <tr>\n",
       "      <th>0</th>\n",
       "      <td>5.1</td>\n",
       "      <td>3.5</td>\n",
       "      <td>1.4</td>\n",
       "      <td>0.2</td>\n",
       "      <td>0</td>\n",
       "    </tr>\n",
       "    <tr>\n",
       "      <th>1</th>\n",
       "      <td>4.9</td>\n",
       "      <td>3.0</td>\n",
       "      <td>1.4</td>\n",
       "      <td>0.2</td>\n",
       "      <td>0</td>\n",
       "    </tr>\n",
       "    <tr>\n",
       "      <th>2</th>\n",
       "      <td>4.7</td>\n",
       "      <td>3.2</td>\n",
       "      <td>1.3</td>\n",
       "      <td>0.2</td>\n",
       "      <td>0</td>\n",
       "    </tr>\n",
       "    <tr>\n",
       "      <th>3</th>\n",
       "      <td>4.6</td>\n",
       "      <td>3.1</td>\n",
       "      <td>1.5</td>\n",
       "      <td>0.2</td>\n",
       "      <td>0</td>\n",
       "    </tr>\n",
       "    <tr>\n",
       "      <th>4</th>\n",
       "      <td>5.0</td>\n",
       "      <td>3.6</td>\n",
       "      <td>1.4</td>\n",
       "      <td>0.2</td>\n",
       "      <td>0</td>\n",
       "    </tr>\n",
       "  </tbody>\n",
       "</table>\n",
       "</div>"
      ],
      "text/plain": [
       "   sepal_length  sepal_width  petal_length  petal_width  species\n",
       "0           5.1          3.5           1.4          0.2        0\n",
       "1           4.9          3.0           1.4          0.2        0\n",
       "2           4.7          3.2           1.3          0.2        0\n",
       "3           4.6          3.1           1.5          0.2        0\n",
       "4           5.0          3.6           1.4          0.2        0"
      ]
     },
     "execution_count": 10,
     "metadata": {},
     "output_type": "execute_result"
    }
   ],
   "source": [
    "#Select the cell and click on run icon\n",
    "iris_df['species']= label_encoder.fit_transform(iris_df['species']) \n",
    "iris_df.head()"
   ]
  },
  {
   "cell_type": "markdown",
   "metadata": {
    "id": "6QnvWDqprRXr"
   },
   "source": [
    "**Observations from the above output:**\n",
    ">The variable **`species`** is converted into numerical variable as 0's and 1's."
   ]
  },
  {
   "cell_type": "code",
   "execution_count": null,
   "metadata": {},
   "outputs": [],
   "source": [
    "\n",
    "label_encoder.inverse_transform(iris_df['species'])"
   ]
  },
  {
   "cell_type": "code",
   "execution_count": null,
   "metadata": {
    "id": "7QoZkMoPrRXr",
    "outputId": "5549c3f7-a3b7-4eae-c027-9c92ee72c0d3",
    "scrolled": true
   },
   "outputs": [
    {
     "name": "stdout",
     "output_type": "stream",
     "text": [
      "<class 'pandas.core.frame.DataFrame'>\n",
      "RangeIndex: 150 entries, 0 to 149\n",
      "Data columns (total 5 columns):\n",
      " #   Column        Non-Null Count  Dtype  \n",
      "---  ------        --------------  -----  \n",
      " 0   sepal_length  150 non-null    float64\n",
      " 1   sepal_width   150 non-null    float64\n",
      " 2   petal_length  150 non-null    float64\n",
      " 3   petal_width   150 non-null    float64\n",
      " 4   species       150 non-null    int64  \n",
      "dtypes: float64(4), int64(1)\n",
      "memory usage: 6.0 KB\n"
     ]
    }
   ],
   "source": [
    "#Select the cell and click on run icon\n",
    "\n",
    "iris_df.info()"
   ]
  },
  {
   "cell_type": "markdown",
   "metadata": {
    "id": "Qg0TJzq7rRXs"
   },
   "source": [
    "**Observations from the above output:**\n",
    ">The variable **`species`** Dtype is converted to **'int64'**.\n",
    "\n",
    ">>Using LabelEnocder, we can convert a categorical variable into a numerical variable."
   ]
  },
  {
   "cell_type": "markdown",
   "metadata": {
    "id": "B3-LfzL60OQr"
   },
   "source": [
    "## **One Hot Encoding**\n",
    "\n",
    "A data set with more dimensions requires more parameters for the model to understand, and that means more rows to reliably learn those parameters.\n",
    "\n",
    "The effect of using One Hot Encoder is the addition of a number of columns (dimensions).\n",
    "\n",
    "If the number of rows in the data set is fixed, the addition of extra dimensions without adding more information for the models to learn from can have a detrimental effect on the eventual model accuracy.\n",
    "\n",
    "If the number of rows in the dataset is fixed and the addition of extra dimension without adding more information in the model would affect the model accuracy.\n",
    "\n",
    "In the below example, you can see that category of Variable X is enocded into separate columns such as Variable X_Blue, Variable X_Yellow, Variable X_Red.\n",
    "\n",
    "![one_hot](https://labcontent.simplicdn.net/data-content/content-assets/Data_and_AI/Applied_Machine_Learning/Images/0.4_Feature_Engineering/Trainer_PPT_and_IPYNB/one_hot.png)"
   ]
  },
  {
   "cell_type": "markdown",
   "metadata": {
    "id": "0TRA0FNRrRXs"
   },
   "source": [
    "There are few libraries required to perform **One Hot Encoding**:\n",
    "\n",
    "* **datasets**: It helps to load the datasets from sklearn library.\n",
    "\n",
    "* **OneHotEncoder**: It helps to encode categorical variable."
   ]
  },
  {
   "cell_type": "code",
   "execution_count": 12,
   "metadata": {
    "id": "AEcdRFYT577P"
   },
   "outputs": [],
   "source": [
    "#Select the cell and click on run icon\n",
    "from sklearn import datasets\n",
    "from sklearn.preprocessing import OneHotEncoder"
   ]
  },
  {
   "cell_type": "code",
   "execution_count": 15,
   "metadata": {},
   "outputs": [
    {
     "data": {
      "text/plain": [
       "array([[1., 0., 0.],\n",
       "       [1., 0., 0.],\n",
       "       [1., 0., 0.],\n",
       "       [1., 0., 0.],\n",
       "       [1., 0., 0.],\n",
       "       [1., 0., 0.],\n",
       "       [1., 0., 0.],\n",
       "       [1., 0., 0.],\n",
       "       [1., 0., 0.],\n",
       "       [1., 0., 0.],\n",
       "       [1., 0., 0.],\n",
       "       [1., 0., 0.],\n",
       "       [1., 0., 0.],\n",
       "       [1., 0., 0.],\n",
       "       [1., 0., 0.],\n",
       "       [1., 0., 0.],\n",
       "       [1., 0., 0.],\n",
       "       [1., 0., 0.],\n",
       "       [1., 0., 0.],\n",
       "       [1., 0., 0.],\n",
       "       [1., 0., 0.],\n",
       "       [1., 0., 0.],\n",
       "       [1., 0., 0.],\n",
       "       [1., 0., 0.],\n",
       "       [1., 0., 0.],\n",
       "       [1., 0., 0.],\n",
       "       [1., 0., 0.],\n",
       "       [1., 0., 0.],\n",
       "       [1., 0., 0.],\n",
       "       [1., 0., 0.],\n",
       "       [1., 0., 0.],\n",
       "       [1., 0., 0.],\n",
       "       [1., 0., 0.],\n",
       "       [1., 0., 0.],\n",
       "       [1., 0., 0.],\n",
       "       [1., 0., 0.],\n",
       "       [1., 0., 0.],\n",
       "       [1., 0., 0.],\n",
       "       [1., 0., 0.],\n",
       "       [1., 0., 0.],\n",
       "       [1., 0., 0.],\n",
       "       [1., 0., 0.],\n",
       "       [1., 0., 0.],\n",
       "       [1., 0., 0.],\n",
       "       [1., 0., 0.],\n",
       "       [1., 0., 0.],\n",
       "       [1., 0., 0.],\n",
       "       [1., 0., 0.],\n",
       "       [1., 0., 0.],\n",
       "       [1., 0., 0.],\n",
       "       [0., 1., 0.],\n",
       "       [0., 1., 0.],\n",
       "       [0., 1., 0.],\n",
       "       [0., 1., 0.],\n",
       "       [0., 1., 0.],\n",
       "       [0., 1., 0.],\n",
       "       [0., 1., 0.],\n",
       "       [0., 1., 0.],\n",
       "       [0., 1., 0.],\n",
       "       [0., 1., 0.],\n",
       "       [0., 1., 0.],\n",
       "       [0., 1., 0.],\n",
       "       [0., 1., 0.],\n",
       "       [0., 1., 0.],\n",
       "       [0., 1., 0.],\n",
       "       [0., 1., 0.],\n",
       "       [0., 1., 0.],\n",
       "       [0., 1., 0.],\n",
       "       [0., 1., 0.],\n",
       "       [0., 1., 0.],\n",
       "       [0., 1., 0.],\n",
       "       [0., 1., 0.],\n",
       "       [0., 1., 0.],\n",
       "       [0., 1., 0.],\n",
       "       [0., 1., 0.],\n",
       "       [0., 1., 0.],\n",
       "       [0., 1., 0.],\n",
       "       [0., 1., 0.],\n",
       "       [0., 1., 0.],\n",
       "       [0., 1., 0.],\n",
       "       [0., 1., 0.],\n",
       "       [0., 1., 0.],\n",
       "       [0., 1., 0.],\n",
       "       [0., 1., 0.],\n",
       "       [0., 1., 0.],\n",
       "       [0., 1., 0.],\n",
       "       [0., 1., 0.],\n",
       "       [0., 1., 0.],\n",
       "       [0., 1., 0.],\n",
       "       [0., 1., 0.],\n",
       "       [0., 1., 0.],\n",
       "       [0., 1., 0.],\n",
       "       [0., 1., 0.],\n",
       "       [0., 1., 0.],\n",
       "       [0., 1., 0.],\n",
       "       [0., 1., 0.],\n",
       "       [0., 1., 0.],\n",
       "       [0., 1., 0.],\n",
       "       [0., 1., 0.],\n",
       "       [0., 1., 0.],\n",
       "       [0., 0., 1.],\n",
       "       [0., 0., 1.],\n",
       "       [0., 0., 1.],\n",
       "       [0., 0., 1.],\n",
       "       [0., 0., 1.],\n",
       "       [0., 0., 1.],\n",
       "       [0., 0., 1.],\n",
       "       [0., 0., 1.],\n",
       "       [0., 0., 1.],\n",
       "       [0., 0., 1.],\n",
       "       [0., 0., 1.],\n",
       "       [0., 0., 1.],\n",
       "       [0., 0., 1.],\n",
       "       [0., 0., 1.],\n",
       "       [0., 0., 1.],\n",
       "       [0., 0., 1.],\n",
       "       [0., 0., 1.],\n",
       "       [0., 0., 1.],\n",
       "       [0., 0., 1.],\n",
       "       [0., 0., 1.],\n",
       "       [0., 0., 1.],\n",
       "       [0., 0., 1.],\n",
       "       [0., 0., 1.],\n",
       "       [0., 0., 1.],\n",
       "       [0., 0., 1.],\n",
       "       [0., 0., 1.],\n",
       "       [0., 0., 1.],\n",
       "       [0., 0., 1.],\n",
       "       [0., 0., 1.],\n",
       "       [0., 0., 1.],\n",
       "       [0., 0., 1.],\n",
       "       [0., 0., 1.],\n",
       "       [0., 0., 1.],\n",
       "       [0., 0., 1.],\n",
       "       [0., 0., 1.],\n",
       "       [0., 0., 1.],\n",
       "       [0., 0., 1.],\n",
       "       [0., 0., 1.],\n",
       "       [0., 0., 1.],\n",
       "       [0., 0., 1.],\n",
       "       [0., 0., 1.],\n",
       "       [0., 0., 1.],\n",
       "       [0., 0., 1.],\n",
       "       [0., 0., 1.],\n",
       "       [0., 0., 1.],\n",
       "       [0., 0., 1.],\n",
       "       [0., 0., 1.],\n",
       "       [0., 0., 1.],\n",
       "       [0., 0., 1.],\n",
       "       [0., 0., 1.]])"
      ]
     },
     "execution_count": 15,
     "metadata": {},
     "output_type": "execute_result"
    }
   ],
   "source": [
    "iris_df = pd.read_csv('Iris.csv')\n",
    "iris_df['species']\n",
    "onehotencoder=OneHotEncoder()\n",
    "y=onehotencoder.fit_transform(iris_df[['species']])\n",
    "y.toarray()"
   ]
  },
  {
   "cell_type": "code",
   "execution_count": 14,
   "metadata": {},
   "outputs": [
    {
     "data": {
      "text/html": [
       "<div>\n",
       "<style scoped>\n",
       "    .dataframe tbody tr th:only-of-type {\n",
       "        vertical-align: middle;\n",
       "    }\n",
       "\n",
       "    .dataframe tbody tr th {\n",
       "        vertical-align: top;\n",
       "    }\n",
       "\n",
       "    .dataframe thead th {\n",
       "        text-align: right;\n",
       "    }\n",
       "</style>\n",
       "<table border=\"1\" class=\"dataframe\">\n",
       "  <thead>\n",
       "    <tr style=\"text-align: right;\">\n",
       "      <th></th>\n",
       "      <th>setosa</th>\n",
       "      <th>versicolor</th>\n",
       "      <th>virginica</th>\n",
       "    </tr>\n",
       "  </thead>\n",
       "  <tbody>\n",
       "    <tr>\n",
       "      <th>0</th>\n",
       "      <td>1</td>\n",
       "      <td>0</td>\n",
       "      <td>0</td>\n",
       "    </tr>\n",
       "    <tr>\n",
       "      <th>1</th>\n",
       "      <td>1</td>\n",
       "      <td>0</td>\n",
       "      <td>0</td>\n",
       "    </tr>\n",
       "    <tr>\n",
       "      <th>2</th>\n",
       "      <td>1</td>\n",
       "      <td>0</td>\n",
       "      <td>0</td>\n",
       "    </tr>\n",
       "    <tr>\n",
       "      <th>3</th>\n",
       "      <td>1</td>\n",
       "      <td>0</td>\n",
       "      <td>0</td>\n",
       "    </tr>\n",
       "    <tr>\n",
       "      <th>4</th>\n",
       "      <td>1</td>\n",
       "      <td>0</td>\n",
       "      <td>0</td>\n",
       "    </tr>\n",
       "    <tr>\n",
       "      <th>...</th>\n",
       "      <td>...</td>\n",
       "      <td>...</td>\n",
       "      <td>...</td>\n",
       "    </tr>\n",
       "    <tr>\n",
       "      <th>145</th>\n",
       "      <td>0</td>\n",
       "      <td>0</td>\n",
       "      <td>1</td>\n",
       "    </tr>\n",
       "    <tr>\n",
       "      <th>146</th>\n",
       "      <td>0</td>\n",
       "      <td>0</td>\n",
       "      <td>1</td>\n",
       "    </tr>\n",
       "    <tr>\n",
       "      <th>147</th>\n",
       "      <td>0</td>\n",
       "      <td>0</td>\n",
       "      <td>1</td>\n",
       "    </tr>\n",
       "    <tr>\n",
       "      <th>148</th>\n",
       "      <td>0</td>\n",
       "      <td>0</td>\n",
       "      <td>1</td>\n",
       "    </tr>\n",
       "    <tr>\n",
       "      <th>149</th>\n",
       "      <td>0</td>\n",
       "      <td>0</td>\n",
       "      <td>1</td>\n",
       "    </tr>\n",
       "  </tbody>\n",
       "</table>\n",
       "<p>150 rows × 3 columns</p>\n",
       "</div>"
      ],
      "text/plain": [
       "     setosa  versicolor  virginica\n",
       "0         1           0          0\n",
       "1         1           0          0\n",
       "2         1           0          0\n",
       "3         1           0          0\n",
       "4         1           0          0\n",
       "..      ...         ...        ...\n",
       "145       0           0          1\n",
       "146       0           0          1\n",
       "147       0           0          1\n",
       "148       0           0          1\n",
       "149       0           0          1\n",
       "\n",
       "[150 rows x 3 columns]"
      ]
     },
     "execution_count": 14,
     "metadata": {},
     "output_type": "execute_result"
    }
   ],
   "source": [
    "iris_df = pd.read_csv('Iris.csv')\n",
    "iris_df['species']\n",
    "\n",
    "# Convert categorical variable into dummy/indicator variables\n",
    "species = pd.get_dummies(iris_df['species'])\n",
    "species"
   ]
  },
  {
   "cell_type": "markdown",
   "metadata": {
    "id": "kPFCeyXrrRXs"
   },
   "source": [
    "**Note 6:**\n",
    "\n",
    "The given code helps to load the **Iris dataset** and create a dataframe **iris_data**, and **y** variable consists of target values."
   ]
  },
  {
   "cell_type": "code",
   "execution_count": null,
   "metadata": {
    "id": "epJQk8L4rRXs"
   },
   "outputs": [],
   "source": [
    "#Select the cell and click on run icon\n",
    "iris_data = datasets.load_iris()\n",
    "\n",
    "iris_data = pd.DataFrame(data=np.c_[iris_data[\"data\"], iris_data[\"target\"]], columns=iris_data[\"feature_names\"] + [\"target\"])\n",
    "y = iris_data.target.values"
   ]
  },
  {
   "cell_type": "markdown",
   "metadata": {
    "id": "JuSu_Mo_rRXs"
   },
   "source": [
    "**Note 7:**\n",
    "\n",
    "The **head()** function is used to view the first few data present in the **`iris_data`** dataframe."
   ]
  },
  {
   "cell_type": "code",
   "execution_count": null,
   "metadata": {
    "id": "kZjnyFK4rRXs",
    "outputId": "fe8dfeac-53b4-497a-bace-b92e787198b0"
   },
   "outputs": [
    {
     "data": {
      "text/html": [
       "<div>\n",
       "<style scoped>\n",
       "    .dataframe tbody tr th:only-of-type {\n",
       "        vertical-align: middle;\n",
       "    }\n",
       "\n",
       "    .dataframe tbody tr th {\n",
       "        vertical-align: top;\n",
       "    }\n",
       "\n",
       "    .dataframe thead th {\n",
       "        text-align: right;\n",
       "    }\n",
       "</style>\n",
       "<table border=\"1\" class=\"dataframe\">\n",
       "  <thead>\n",
       "    <tr style=\"text-align: right;\">\n",
       "      <th></th>\n",
       "      <th>sepal length (cm)</th>\n",
       "      <th>sepal width (cm)</th>\n",
       "      <th>petal length (cm)</th>\n",
       "      <th>petal width (cm)</th>\n",
       "      <th>target</th>\n",
       "    </tr>\n",
       "  </thead>\n",
       "  <tbody>\n",
       "    <tr>\n",
       "      <th>0</th>\n",
       "      <td>5.1</td>\n",
       "      <td>3.5</td>\n",
       "      <td>1.4</td>\n",
       "      <td>0.2</td>\n",
       "      <td>0.0</td>\n",
       "    </tr>\n",
       "    <tr>\n",
       "      <th>1</th>\n",
       "      <td>4.9</td>\n",
       "      <td>3.0</td>\n",
       "      <td>1.4</td>\n",
       "      <td>0.2</td>\n",
       "      <td>0.0</td>\n",
       "    </tr>\n",
       "    <tr>\n",
       "      <th>2</th>\n",
       "      <td>4.7</td>\n",
       "      <td>3.2</td>\n",
       "      <td>1.3</td>\n",
       "      <td>0.2</td>\n",
       "      <td>0.0</td>\n",
       "    </tr>\n",
       "    <tr>\n",
       "      <th>3</th>\n",
       "      <td>4.6</td>\n",
       "      <td>3.1</td>\n",
       "      <td>1.5</td>\n",
       "      <td>0.2</td>\n",
       "      <td>0.0</td>\n",
       "    </tr>\n",
       "    <tr>\n",
       "      <th>4</th>\n",
       "      <td>5.0</td>\n",
       "      <td>3.6</td>\n",
       "      <td>1.4</td>\n",
       "      <td>0.2</td>\n",
       "      <td>0.0</td>\n",
       "    </tr>\n",
       "  </tbody>\n",
       "</table>\n",
       "</div>"
      ],
      "text/plain": [
       "   sepal length (cm)  sepal width (cm)  petal length (cm)  petal width (cm)  \\\n",
       "0                5.1               3.5                1.4               0.2   \n",
       "1                4.9               3.0                1.4               0.2   \n",
       "2                4.7               3.2                1.3               0.2   \n",
       "3                4.6               3.1                1.5               0.2   \n",
       "4                5.0               3.6                1.4               0.2   \n",
       "\n",
       "   target  \n",
       "0     0.0  \n",
       "1     0.0  \n",
       "2     0.0  \n",
       "3     0.0  \n",
       "4     0.0  "
      ]
     },
     "execution_count": 14,
     "metadata": {},
     "output_type": "execute_result"
    }
   ],
   "source": [
    "#Select the cell and click on run icon\n",
    "iris_data.head()"
   ]
  },
  {
   "cell_type": "markdown",
   "metadata": {
    "id": "GWiyYzGprRXt"
   },
   "source": [
    "**Observations from the above output:**\n",
    ">There are four dependent variable and one independent variable present in the **`iris_data`** dataframe.\n"
   ]
  },
  {
   "cell_type": "code",
   "execution_count": null,
   "metadata": {
    "colab": {
     "base_uri": "https://localhost:8080/"
    },
    "id": "95h7x7TU753d",
    "outputId": "e536cd7f-416e-48a8-8517-4836261997f7"
   },
   "outputs": [
    {
     "data": {
      "text/plain": [
       "array([0., 0., 0., 0., 0., 0., 0., 0., 0., 0., 0., 0., 0., 0., 0., 0., 0.,\n",
       "       0., 0., 0., 0., 0., 0., 0., 0., 0., 0., 0., 0., 0., 0., 0., 0., 0.,\n",
       "       0., 0., 0., 0., 0., 0., 0., 0., 0., 0., 0., 0., 0., 0., 0., 0., 1.,\n",
       "       1., 1., 1., 1., 1., 1., 1., 1., 1., 1., 1., 1., 1., 1., 1., 1., 1.,\n",
       "       1., 1., 1., 1., 1., 1., 1., 1., 1., 1., 1., 1., 1., 1., 1., 1., 1.,\n",
       "       1., 1., 1., 1., 1., 1., 1., 1., 1., 1., 1., 1., 1., 1., 1., 2., 2.,\n",
       "       2., 2., 2., 2., 2., 2., 2., 2., 2., 2., 2., 2., 2., 2., 2., 2., 2.,\n",
       "       2., 2., 2., 2., 2., 2., 2., 2., 2., 2., 2., 2., 2., 2., 2., 2., 2.,\n",
       "       2., 2., 2., 2., 2., 2., 2., 2., 2., 2., 2., 2., 2., 2.])"
      ]
     },
     "execution_count": 16,
     "metadata": {},
     "output_type": "execute_result"
    }
   ],
   "source": [
    "# Select the cell and click on run icon to view the target values\n",
    "y"
   ]
  },
  {
   "cell_type": "markdown",
   "metadata": {
    "id": "_owNVlM6rRXt"
   },
   "source": [
    "**Observations from the above output:**\n",
    ">The variable **`target`** is converted into an array."
   ]
  },
  {
   "cell_type": "markdown",
   "metadata": {
    "id": "jnXiuXtFrRXt"
   },
   "source": [
    "**Note 8:**\n",
    "\n",
    "* In OneHotEncoder, the categories set as 'auto' determines the categories automatically.\n",
    "* The **reshape()** function reshapes an array without modifying its data.\n",
    "* The **toarray()** function helps to represent the data in array format."
   ]
  },
  {
   "cell_type": "code",
   "execution_count": null,
   "metadata": {
    "colab": {
     "base_uri": "https://localhost:8080/"
    },
    "id": "-QZ-PKky75z_",
    "outputId": "c919fd33-ea86-497e-c8bc-67b48e8e1572"
   },
   "outputs": [
    {
     "name": "stdout",
     "output_type": "stream",
     "text": [
      "[[1. 0. 0.]\n",
      " [1. 0. 0.]\n",
      " [1. 0. 0.]\n",
      " [1. 0. 0.]\n",
      " [1. 0. 0.]\n",
      " [1. 0. 0.]\n",
      " [1. 0. 0.]\n",
      " [1. 0. 0.]\n",
      " [1. 0. 0.]\n",
      " [1. 0. 0.]\n",
      " [1. 0. 0.]\n",
      " [1. 0. 0.]\n",
      " [1. 0. 0.]\n",
      " [1. 0. 0.]\n",
      " [1. 0. 0.]\n",
      " [1. 0. 0.]\n",
      " [1. 0. 0.]\n",
      " [1. 0. 0.]\n",
      " [1. 0. 0.]\n",
      " [1. 0. 0.]\n",
      " [1. 0. 0.]\n",
      " [1. 0. 0.]\n",
      " [1. 0. 0.]\n",
      " [1. 0. 0.]\n",
      " [1. 0. 0.]\n",
      " [1. 0. 0.]\n",
      " [1. 0. 0.]\n",
      " [1. 0. 0.]\n",
      " [1. 0. 0.]\n",
      " [1. 0. 0.]\n",
      " [1. 0. 0.]\n",
      " [1. 0. 0.]\n",
      " [1. 0. 0.]\n",
      " [1. 0. 0.]\n",
      " [1. 0. 0.]\n",
      " [1. 0. 0.]\n",
      " [1. 0. 0.]\n",
      " [1. 0. 0.]\n",
      " [1. 0. 0.]\n",
      " [1. 0. 0.]\n",
      " [1. 0. 0.]\n",
      " [1. 0. 0.]\n",
      " [1. 0. 0.]\n",
      " [1. 0. 0.]\n",
      " [1. 0. 0.]\n",
      " [1. 0. 0.]\n",
      " [1. 0. 0.]\n",
      " [1. 0. 0.]\n",
      " [1. 0. 0.]\n",
      " [1. 0. 0.]\n",
      " [0. 1. 0.]\n",
      " [0. 1. 0.]\n",
      " [0. 1. 0.]\n",
      " [0. 1. 0.]\n",
      " [0. 1. 0.]\n",
      " [0. 1. 0.]\n",
      " [0. 1. 0.]\n",
      " [0. 1. 0.]\n",
      " [0. 1. 0.]\n",
      " [0. 1. 0.]\n",
      " [0. 1. 0.]\n",
      " [0. 1. 0.]\n",
      " [0. 1. 0.]\n",
      " [0. 1. 0.]\n",
      " [0. 1. 0.]\n",
      " [0. 1. 0.]\n",
      " [0. 1. 0.]\n",
      " [0. 1. 0.]\n",
      " [0. 1. 0.]\n",
      " [0. 1. 0.]\n",
      " [0. 1. 0.]\n",
      " [0. 1. 0.]\n",
      " [0. 1. 0.]\n",
      " [0. 1. 0.]\n",
      " [0. 1. 0.]\n",
      " [0. 1. 0.]\n",
      " [0. 1. 0.]\n",
      " [0. 1. 0.]\n",
      " [0. 1. 0.]\n",
      " [0. 1. 0.]\n",
      " [0. 1. 0.]\n",
      " [0. 1. 0.]\n",
      " [0. 1. 0.]\n",
      " [0. 1. 0.]\n",
      " [0. 1. 0.]\n",
      " [0. 1. 0.]\n",
      " [0. 1. 0.]\n",
      " [0. 1. 0.]\n",
      " [0. 1. 0.]\n",
      " [0. 1. 0.]\n",
      " [0. 1. 0.]\n",
      " [0. 1. 0.]\n",
      " [0. 1. 0.]\n",
      " [0. 1. 0.]\n",
      " [0. 1. 0.]\n",
      " [0. 1. 0.]\n",
      " [0. 1. 0.]\n",
      " [0. 1. 0.]\n",
      " [0. 1. 0.]\n",
      " [0. 1. 0.]\n",
      " [0. 0. 1.]\n",
      " [0. 0. 1.]\n",
      " [0. 0. 1.]\n",
      " [0. 0. 1.]\n",
      " [0. 0. 1.]\n",
      " [0. 0. 1.]\n",
      " [0. 0. 1.]\n",
      " [0. 0. 1.]\n",
      " [0. 0. 1.]\n",
      " [0. 0. 1.]\n",
      " [0. 0. 1.]\n",
      " [0. 0. 1.]\n",
      " [0. 0. 1.]\n",
      " [0. 0. 1.]\n",
      " [0. 0. 1.]\n",
      " [0. 0. 1.]\n",
      " [0. 0. 1.]\n",
      " [0. 0. 1.]\n",
      " [0. 0. 1.]\n",
      " [0. 0. 1.]\n",
      " [0. 0. 1.]\n",
      " [0. 0. 1.]\n",
      " [0. 0. 1.]\n",
      " [0. 0. 1.]\n",
      " [0. 0. 1.]\n",
      " [0. 0. 1.]\n",
      " [0. 0. 1.]\n",
      " [0. 0. 1.]\n",
      " [0. 0. 1.]\n",
      " [0. 0. 1.]\n",
      " [0. 0. 1.]\n",
      " [0. 0. 1.]\n",
      " [0. 0. 1.]\n",
      " [0. 0. 1.]\n",
      " [0. 0. 1.]\n",
      " [0. 0. 1.]\n",
      " [0. 0. 1.]\n",
      " [0. 0. 1.]\n",
      " [0. 0. 1.]\n",
      " [0. 0. 1.]\n",
      " [0. 0. 1.]\n",
      " [0. 0. 1.]\n",
      " [0. 0. 1.]\n",
      " [0. 0. 1.]\n",
      " [0. 0. 1.]\n",
      " [0. 0. 1.]\n",
      " [0. 0. 1.]\n",
      " [0. 0. 1.]\n",
      " [0. 0. 1.]\n",
      " [0. 0. 1.]]\n"
     ]
    }
   ],
   "source": [
    "#Select the cell and click on run icon\n",
    "onehotencoder = OneHotEncoder(categories='auto')\n",
    "y = onehotencoder.fit_transform(y.reshape(-1,1))\n",
    "print(y.toarray())"
   ]
  },
  {
   "cell_type": "markdown",
   "metadata": {
    "id": "a-RRBCnarRXt"
   },
   "source": [
    "**Observations from the above output:**\n",
    ">With the help of above output, you can see that variable **`target`** is converted into numerical variable as 0's and 1's into three separate categories ."
   ]
  },
  {
   "cell_type": "markdown",
   "metadata": {
    "id": "DIorPp2KrRXt"
   },
   "source": [
    "**Note 9:**\n",
    "\n",
    "The **get_dummies()** function is used for data manipulation and converts categorical variable to numerical variables ."
   ]
  },
  {
   "cell_type": "code",
   "execution_count": null,
   "metadata": {
    "colab": {
     "base_uri": "https://localhost:8080/",
     "height": 204
    },
    "id": "hJj5x8F875uK",
    "outputId": "38c38a6b-9e34-4a1c-bb3d-32d0973bc8c9"
   },
   "outputs": [
    {
     "data": {
      "text/html": [
       "<div>\n",
       "<style scoped>\n",
       "    .dataframe tbody tr th:only-of-type {\n",
       "        vertical-align: middle;\n",
       "    }\n",
       "\n",
       "    .dataframe tbody tr th {\n",
       "        vertical-align: top;\n",
       "    }\n",
       "\n",
       "    .dataframe thead th {\n",
       "        text-align: right;\n",
       "    }\n",
       "</style>\n",
       "<table border=\"1\" class=\"dataframe\">\n",
       "  <thead>\n",
       "    <tr style=\"text-align: right;\">\n",
       "      <th></th>\n",
       "      <th>0.0</th>\n",
       "      <th>1.0</th>\n",
       "      <th>2.0</th>\n",
       "    </tr>\n",
       "  </thead>\n",
       "  <tbody>\n",
       "    <tr>\n",
       "      <th>0</th>\n",
       "      <td>1</td>\n",
       "      <td>0</td>\n",
       "      <td>0</td>\n",
       "    </tr>\n",
       "    <tr>\n",
       "      <th>1</th>\n",
       "      <td>1</td>\n",
       "      <td>0</td>\n",
       "      <td>0</td>\n",
       "    </tr>\n",
       "    <tr>\n",
       "      <th>2</th>\n",
       "      <td>1</td>\n",
       "      <td>0</td>\n",
       "      <td>0</td>\n",
       "    </tr>\n",
       "    <tr>\n",
       "      <th>3</th>\n",
       "      <td>1</td>\n",
       "      <td>0</td>\n",
       "      <td>0</td>\n",
       "    </tr>\n",
       "    <tr>\n",
       "      <th>4</th>\n",
       "      <td>1</td>\n",
       "      <td>0</td>\n",
       "      <td>0</td>\n",
       "    </tr>\n",
       "  </tbody>\n",
       "</table>\n",
       "</div>"
      ],
      "text/plain": [
       "   0.0  1.0  2.0\n",
       "0    1    0    0\n",
       "1    1    0    0\n",
       "2    1    0    0\n",
       "3    1    0    0\n",
       "4    1    0    0"
      ]
     },
     "execution_count": 8,
     "metadata": {},
     "output_type": "execute_result"
    }
   ],
   "source": [
    "#Select the cell and click on run icon\n",
    "pd.get_dummies(iris_data.target).head()"
   ]
  },
  {
   "cell_type": "markdown",
   "metadata": {
    "id": "NozOdU6SrRXu"
   },
   "source": [
    "**Observations from the above output:**\n",
    ">The target values are converted into dummy values in three different columns."
   ]
  },
  {
   "cell_type": "markdown",
   "metadata": {
    "id": "UVHxugcR0OQw"
   },
   "source": [
    "## <b>Hashing</b>\n",
    "\n",
    "Hashing is a technique that combines more than one category of a categorical variable into one single category. \n",
    "\n",
    "There are three advantages in one-hot encoding or set-of word model:\n",
    "\n",
    "- It’s much simpler to code\n",
    "- It doesn’t require any dictionaries to prepare\n",
    "- It’s friendly to online learning where you can train on a data set that doesn’t fit in memory because you need to see each example only once. One-hot encoding will not work well with online learning because to prepare dictionaries you need to see the whole data set first\n",
    "\n",
    "## <b>Feature Hashing</b>\n",
    "\n",
    "\n",
    "Feature hasing is a important technique for handling sparse and high-dimensional features in machine learning. \n",
    "\n",
    "- It is fast, simple, memory-efficient, and well-suited to online learning sceanrios. \n",
    "- It converts unique tokens into integers. \n",
    "- It operates on the exact strings that you provide as input and does not perform any linguistic analysis or preprocessing.\n"
   ]
  },
  {
   "cell_type": "markdown",
   "metadata": {
    "id": "LbFcGgferRXu"
   },
   "source": [
    "## Techniques to merge categories:"
   ]
  },
  {
   "cell_type": "markdown",
   "metadata": {
    "id": "ie9CX5EB0OQw"
   },
   "source": [
    "### **Business Logic**\n",
    "\n",
    "Consider a column in the dataset corresponds to \"zip codes\". There are 182 zip codes in New York state and it is impractical to use each zip code as a separate category. \n",
    "So, to tackle this situation we can merge the zip codes according to localities.\n",
    "This helps to reduce the number of categories and results in meaningful aggregation of zip code."
   ]
  },
  {
   "cell_type": "markdown",
   "metadata": {
    "id": "26Wyphg-0OQx"
   },
   "source": [
    "### **Frequency**\n",
    "\n",
    "- It is not possible to apply business logic every time. In such cases, perform hashing using the frequency of occurrence.\n",
    "- To combine levels using their frequency, we first look at the frequency distribution of each level and combine levels having frequency say less than 5% of total observation (can be changed based on distribution).\n",
    "- This is an effective method to deal with rare levels.\n",
    "- We can also combine levels by considering the response rate of each level. We can simply combine levels having similar response rates into the same group."
   ]
  },
  {
   "cell_type": "markdown",
   "metadata": {
    "id": "2WQe6ceN0OQ0"
   },
   "source": [
    "Now we'll see all the concepts explained with the help of a business use case."
   ]
  },
  {
   "cell_type": "markdown",
   "metadata": {
    "id": "Fu5JgI0xrRXu"
   },
   "source": [
    "### There is a libraries required to perform encoding variables:\n",
    "* FeatureHasher - Feature hashing can be employed in document classification and helps to extract important features from large text corpus.\n"
   ]
  },
  {
   "cell_type": "code",
   "execution_count": null,
   "metadata": {
    "id": "1ejxIdC79Epn"
   },
   "outputs": [],
   "source": [
    "#Select the cell and click on run icon\n",
    "from sklearn.feature_extraction import FeatureHasher"
   ]
  },
  {
   "cell_type": "markdown",
   "metadata": {
    "id": "vcByzpo2rRXu"
   },
   "source": [
    "**Instruction:**\n",
    "\n",
    "Download the **`vgsales.csv`** dataset file from Course Resources and upload it in the lab using the Up arrow as shown below on the View Tab"
   ]
  },
  {
   "cell_type": "markdown",
   "metadata": {
    "id": "V1rcnAFcrRXv"
   },
   "source": [
    "**Note 10:**  \n",
    "* The **`game_df`** is dataframe to store the data imported from the csv as rows and columns table format.\n",
    "* The encoding is specified as 'UTF-8' as the file type converion of the csv file.\n",
    "* The **head()** function helps to view first few data present in the dataframe."
   ]
  },
  {
   "cell_type": "code",
   "execution_count": null,
   "metadata": {
    "colab": {
     "base_uri": "https://localhost:8080/",
     "height": 204
    },
    "id": "BEkzDe-f9Kv1",
    "outputId": "faf3e89e-cff5-4216-9244-f41b24985452"
   },
   "outputs": [
    {
     "data": {
      "text/html": [
       "<div>\n",
       "<style scoped>\n",
       "    .dataframe tbody tr th:only-of-type {\n",
       "        vertical-align: middle;\n",
       "    }\n",
       "\n",
       "    .dataframe tbody tr th {\n",
       "        vertical-align: top;\n",
       "    }\n",
       "\n",
       "    .dataframe thead th {\n",
       "        text-align: right;\n",
       "    }\n",
       "</style>\n",
       "<table border=\"1\" class=\"dataframe\">\n",
       "  <thead>\n",
       "    <tr style=\"text-align: right;\">\n",
       "      <th></th>\n",
       "      <th>Rank</th>\n",
       "      <th>Name</th>\n",
       "      <th>Platform</th>\n",
       "      <th>Year</th>\n",
       "      <th>Genre</th>\n",
       "      <th>Publisher</th>\n",
       "      <th>NA_Sales</th>\n",
       "      <th>EU_Sales</th>\n",
       "      <th>JP_Sales</th>\n",
       "      <th>Other_Sales</th>\n",
       "      <th>Global_Sales</th>\n",
       "    </tr>\n",
       "  </thead>\n",
       "  <tbody>\n",
       "    <tr>\n",
       "      <th>0</th>\n",
       "      <td>1</td>\n",
       "      <td>Wii Sports</td>\n",
       "      <td>Wii</td>\n",
       "      <td>2006.0</td>\n",
       "      <td>Sports</td>\n",
       "      <td>Nintendo</td>\n",
       "      <td>41.49</td>\n",
       "      <td>29.02</td>\n",
       "      <td>3.77</td>\n",
       "      <td>8.46</td>\n",
       "      <td>82.74</td>\n",
       "    </tr>\n",
       "    <tr>\n",
       "      <th>1</th>\n",
       "      <td>2</td>\n",
       "      <td>Super Mario Bros.</td>\n",
       "      <td>NES</td>\n",
       "      <td>1985.0</td>\n",
       "      <td>Platform</td>\n",
       "      <td>Nintendo</td>\n",
       "      <td>29.08</td>\n",
       "      <td>3.58</td>\n",
       "      <td>6.81</td>\n",
       "      <td>0.77</td>\n",
       "      <td>40.24</td>\n",
       "    </tr>\n",
       "    <tr>\n",
       "      <th>2</th>\n",
       "      <td>3</td>\n",
       "      <td>Mario Kart Wii</td>\n",
       "      <td>Wii</td>\n",
       "      <td>2008.0</td>\n",
       "      <td>Racing</td>\n",
       "      <td>Nintendo</td>\n",
       "      <td>15.85</td>\n",
       "      <td>12.88</td>\n",
       "      <td>3.79</td>\n",
       "      <td>3.31</td>\n",
       "      <td>35.82</td>\n",
       "    </tr>\n",
       "    <tr>\n",
       "      <th>3</th>\n",
       "      <td>4</td>\n",
       "      <td>Wii Sports Resort</td>\n",
       "      <td>Wii</td>\n",
       "      <td>2009.0</td>\n",
       "      <td>Sports</td>\n",
       "      <td>Nintendo</td>\n",
       "      <td>15.75</td>\n",
       "      <td>11.01</td>\n",
       "      <td>3.28</td>\n",
       "      <td>2.96</td>\n",
       "      <td>33.00</td>\n",
       "    </tr>\n",
       "    <tr>\n",
       "      <th>4</th>\n",
       "      <td>5</td>\n",
       "      <td>Pokemon Red/Pokemon Blue</td>\n",
       "      <td>GB</td>\n",
       "      <td>1996.0</td>\n",
       "      <td>Role-Playing</td>\n",
       "      <td>Nintendo</td>\n",
       "      <td>11.27</td>\n",
       "      <td>8.89</td>\n",
       "      <td>10.22</td>\n",
       "      <td>1.00</td>\n",
       "      <td>31.37</td>\n",
       "    </tr>\n",
       "  </tbody>\n",
       "</table>\n",
       "</div>"
      ],
      "text/plain": [
       "   Rank                      Name Platform    Year         Genre Publisher  \\\n",
       "0     1                Wii Sports      Wii  2006.0        Sports  Nintendo   \n",
       "1     2         Super Mario Bros.      NES  1985.0      Platform  Nintendo   \n",
       "2     3            Mario Kart Wii      Wii  2008.0        Racing  Nintendo   \n",
       "3     4         Wii Sports Resort      Wii  2009.0        Sports  Nintendo   \n",
       "4     5  Pokemon Red/Pokemon Blue       GB  1996.0  Role-Playing  Nintendo   \n",
       "\n",
       "   NA_Sales  EU_Sales  JP_Sales  Other_Sales  Global_Sales  \n",
       "0     41.49     29.02      3.77         8.46         82.74  \n",
       "1     29.08      3.58      6.81         0.77         40.24  \n",
       "2     15.85     12.88      3.79         3.31         35.82  \n",
       "3     15.75     11.01      3.28         2.96         33.00  \n",
       "4     11.27      8.89     10.22         1.00         31.37  "
      ]
     },
     "execution_count": 20,
     "metadata": {},
     "output_type": "execute_result"
    }
   ],
   "source": [
    "#Select the cell and click on run icon\n",
    "game_df = pd.read_csv(\"vgsales.csv\", encoding=\"utf-8\")\n",
    "game_df.head()"
   ]
  },
  {
   "cell_type": "markdown",
   "metadata": {
    "id": "ONEi_sHirRXv"
   },
   "source": [
    "**Note 11:**\n",
    "\n",
    "The **columns** provides the name of the columns present in the **`game_df`** dataframe."
   ]
  },
  {
   "cell_type": "code",
   "execution_count": null,
   "metadata": {
    "colab": {
     "base_uri": "https://localhost:8080/"
    },
    "id": "yNlSEJxG9fvO",
    "outputId": "51138292-df97-4924-ab73-594ea2c819ad"
   },
   "outputs": [
    {
     "data": {
      "text/plain": [
       "Index(['Rank', 'Name', 'Platform', 'Year', 'Genre', 'Publisher', 'NA_Sales',\n",
       "       'EU_Sales', 'JP_Sales', 'Other_Sales', 'Global_Sales'],\n",
       "      dtype='object')"
      ]
     },
     "execution_count": 21,
     "metadata": {},
     "output_type": "execute_result"
    }
   ],
   "source": [
    "#Select the cell and click on run icon\n",
    "game_df.columns"
   ]
  },
  {
   "cell_type": "markdown",
   "metadata": {
    "id": "EpHecxpUrRXv"
   },
   "source": [
    "**Observations from the above output:**\n",
    ">The column names such as Rank, Name, Platform, Year, Genre, Publisher, NA_Sales,\n",
    "       EU_Sales, JP_Sales, Other_Sales, and Global_Sales present in the **`game_df`** dataframe."
   ]
  },
  {
   "cell_type": "markdown",
   "metadata": {
    "id": "p-xX0kAbrRXv"
   },
   "source": [
    "**Note 12:**\n",
    "\n",
    "The **shape** represents the number of elements in each dimension and returns a tuple with each index having the number of corresponding elements."
   ]
  },
  {
   "cell_type": "code",
   "execution_count": null,
   "metadata": {
    "colab": {
     "base_uri": "https://localhost:8080/"
    },
    "id": "11qVPaSP9szm",
    "outputId": "3cfb3db6-ea21-4f58-9fdb-248276270e8e"
   },
   "outputs": [
    {
     "data": {
      "text/plain": [
       "(16598, 11)"
      ]
     },
     "execution_count": 22,
     "metadata": {},
     "output_type": "execute_result"
    }
   ],
   "source": [
    "#Select the cell and click on run icon\n",
    "game_df.shape"
   ]
  },
  {
   "cell_type": "markdown",
   "metadata": {
    "id": "t11TNpoIrRXv"
   },
   "source": [
    "**Observations we can draw from the above output:**\n",
    "\n",
    ">There are 16598 rows and 11 columns present in the **`game_df`** dataframe."
   ]
  },
  {
   "cell_type": "markdown",
   "metadata": {
    "id": "PMPPM-xmrRXv"
   },
   "source": [
    "**Note 13:**\n",
    "\n",
    "* The **iloc** is integer-index based that helps to extract the required number of rows or columns by specifying the integer index value present in the dataframe.\n",
    "* Example: iloc[1:7] represents six rows, as it substracts one from seven."
   ]
  },
  {
   "cell_type": "code",
   "execution_count": null,
   "metadata": {
    "colab": {
     "base_uri": "https://localhost:8080/",
     "height": 235
    },
    "id": "rxxqH4BL9jOc",
    "outputId": "b7857ce1-4cc6-4a92-99b9-75f3159fd180"
   },
   "outputs": [
    {
     "data": {
      "text/html": [
       "<div>\n",
       "<style scoped>\n",
       "    .dataframe tbody tr th:only-of-type {\n",
       "        vertical-align: middle;\n",
       "    }\n",
       "\n",
       "    .dataframe tbody tr th {\n",
       "        vertical-align: top;\n",
       "    }\n",
       "\n",
       "    .dataframe thead th {\n",
       "        text-align: right;\n",
       "    }\n",
       "</style>\n",
       "<table border=\"1\" class=\"dataframe\">\n",
       "  <thead>\n",
       "    <tr style=\"text-align: right;\">\n",
       "      <th></th>\n",
       "      <th>Name</th>\n",
       "      <th>Platform</th>\n",
       "      <th>Year</th>\n",
       "      <th>Genre</th>\n",
       "      <th>Publisher</th>\n",
       "    </tr>\n",
       "  </thead>\n",
       "  <tbody>\n",
       "    <tr>\n",
       "      <th>1</th>\n",
       "      <td>Super Mario Bros.</td>\n",
       "      <td>NES</td>\n",
       "      <td>1985.0</td>\n",
       "      <td>Platform</td>\n",
       "      <td>Nintendo</td>\n",
       "    </tr>\n",
       "    <tr>\n",
       "      <th>2</th>\n",
       "      <td>Mario Kart Wii</td>\n",
       "      <td>Wii</td>\n",
       "      <td>2008.0</td>\n",
       "      <td>Racing</td>\n",
       "      <td>Nintendo</td>\n",
       "    </tr>\n",
       "    <tr>\n",
       "      <th>3</th>\n",
       "      <td>Wii Sports Resort</td>\n",
       "      <td>Wii</td>\n",
       "      <td>2009.0</td>\n",
       "      <td>Sports</td>\n",
       "      <td>Nintendo</td>\n",
       "    </tr>\n",
       "    <tr>\n",
       "      <th>4</th>\n",
       "      <td>Pokemon Red/Pokemon Blue</td>\n",
       "      <td>GB</td>\n",
       "      <td>1996.0</td>\n",
       "      <td>Role-Playing</td>\n",
       "      <td>Nintendo</td>\n",
       "    </tr>\n",
       "    <tr>\n",
       "      <th>5</th>\n",
       "      <td>Tetris</td>\n",
       "      <td>GB</td>\n",
       "      <td>1989.0</td>\n",
       "      <td>Puzzle</td>\n",
       "      <td>Nintendo</td>\n",
       "    </tr>\n",
       "    <tr>\n",
       "      <th>6</th>\n",
       "      <td>New Super Mario Bros.</td>\n",
       "      <td>DS</td>\n",
       "      <td>2006.0</td>\n",
       "      <td>Platform</td>\n",
       "      <td>Nintendo</td>\n",
       "    </tr>\n",
       "  </tbody>\n",
       "</table>\n",
       "</div>"
      ],
      "text/plain": [
       "                       Name Platform    Year         Genre Publisher\n",
       "1         Super Mario Bros.      NES  1985.0      Platform  Nintendo\n",
       "2            Mario Kart Wii      Wii  2008.0        Racing  Nintendo\n",
       "3         Wii Sports Resort      Wii  2009.0        Sports  Nintendo\n",
       "4  Pokemon Red/Pokemon Blue       GB  1996.0  Role-Playing  Nintendo\n",
       "5                    Tetris       GB  1989.0        Puzzle  Nintendo\n",
       "6     New Super Mario Bros.       DS  2006.0      Platform  Nintendo"
      ]
     },
     "execution_count": 23,
     "metadata": {},
     "output_type": "execute_result"
    }
   ],
   "source": [
    "#Select the cell and click on run icon\n",
    "game_df[['Name', 'Platform', 'Year', 'Genre', 'Publisher']].iloc[1:7]"
   ]
  },
  {
   "cell_type": "markdown",
   "metadata": {
    "id": "w5nIT_uhrRXw"
   },
   "source": [
    "**Observations we can draw from the above output:**\n",
    ">There are six rows present in the **`game_df`** dataframe as specified in the iloc."
   ]
  },
  {
   "cell_type": "markdown",
   "metadata": {
    "id": "CUm10lasrRXw"
   },
   "source": [
    "**Note 14:** \n",
    "\n",
    "* The **unique()** function extracts unique values present in a particular variable or dataframe.\n",
    "* The **len()** function calculates the total number of elements present of a variable or dataframe.\n",
    "* The **print()** function is used to display the result."
   ]
  },
  {
   "cell_type": "code",
   "execution_count": null,
   "metadata": {
    "colab": {
     "base_uri": "https://localhost:8080/"
    },
    "id": "ybn41ZAi9zd7",
    "outputId": "fd94b397-f747-4fb0-b74f-2759eb0fd967"
   },
   "outputs": [
    {
     "name": "stdout",
     "output_type": "stream",
     "text": [
      "Total game generes: 12\n",
      "['Action' 'Adventure' 'Fighting' 'Misc' 'Platform' 'Puzzle' 'Racing'\n",
      " 'Role-Playing' 'Shooter' 'Simulation' 'Sports' 'Strategy']\n"
     ]
    }
   ],
   "source": [
    "#Select the cell and click on run icon\n",
    "u_generes = np.unique(game_df[\"Genre\"])\n",
    "print(\"Total game generes:\", len(u_generes))\n",
    "print(u_generes)"
   ]
  },
  {
   "cell_type": "markdown",
   "metadata": {
    "id": "MwwTKypprRXw"
   },
   "source": [
    "**Observations we can draw from the above output:**\n",
    "\n",
    "> The **'u_generes'** variable stores unique features such as Action, Adventure, Fighting, Misc, Platform, Puzzle, Racing,\n",
    " Role-Playing, Shooter, Simulation, Sports, and Strategy and the total count is 12 present in the **'genre'** column of **`game_df`** dataframe."
   ]
  },
  {
   "cell_type": "markdown",
   "metadata": {
    "id": "UWr34lr-rRXw"
   },
   "source": [
    "**Note 15:** \n",
    "\n",
    "* The FeatureHasher() function extracts only important features from the dataset.\n",
    "\n"
   ]
  },
  {
   "cell_type": "code",
   "execution_count": null,
   "metadata": {
    "colab": {
     "base_uri": "https://localhost:8080/",
     "height": 204
    },
    "id": "yTCEndJe9zZm",
    "outputId": "b3d175e2-31c2-4cd0-dd0a-f819fd676458"
   },
   "outputs": [
    {
     "data": {
      "text/html": [
       "<div>\n",
       "<style scoped>\n",
       "    .dataframe tbody tr th:only-of-type {\n",
       "        vertical-align: middle;\n",
       "    }\n",
       "\n",
       "    .dataframe tbody tr th {\n",
       "        vertical-align: top;\n",
       "    }\n",
       "\n",
       "    .dataframe thead th {\n",
       "        text-align: right;\n",
       "    }\n",
       "</style>\n",
       "<table border=\"1\" class=\"dataframe\">\n",
       "  <thead>\n",
       "    <tr style=\"text-align: right;\">\n",
       "      <th></th>\n",
       "      <th>Name</th>\n",
       "      <th>Genre</th>\n",
       "      <th>0</th>\n",
       "      <th>1</th>\n",
       "      <th>2</th>\n",
       "      <th>3</th>\n",
       "      <th>4</th>\n",
       "      <th>5</th>\n",
       "    </tr>\n",
       "  </thead>\n",
       "  <tbody>\n",
       "    <tr>\n",
       "      <th>0</th>\n",
       "      <td>Wii Sports</td>\n",
       "      <td>Sports</td>\n",
       "      <td>-2.0</td>\n",
       "      <td>2.0</td>\n",
       "      <td>0.0</td>\n",
       "      <td>-2.0</td>\n",
       "      <td>0.0</td>\n",
       "      <td>0.0</td>\n",
       "    </tr>\n",
       "    <tr>\n",
       "      <th>1</th>\n",
       "      <td>Super Mario Bros.</td>\n",
       "      <td>Platform</td>\n",
       "      <td>0.0</td>\n",
       "      <td>2.0</td>\n",
       "      <td>2.0</td>\n",
       "      <td>-1.0</td>\n",
       "      <td>1.0</td>\n",
       "      <td>0.0</td>\n",
       "    </tr>\n",
       "    <tr>\n",
       "      <th>2</th>\n",
       "      <td>Mario Kart Wii</td>\n",
       "      <td>Racing</td>\n",
       "      <td>-1.0</td>\n",
       "      <td>0.0</td>\n",
       "      <td>0.0</td>\n",
       "      <td>0.0</td>\n",
       "      <td>0.0</td>\n",
       "      <td>-1.0</td>\n",
       "    </tr>\n",
       "    <tr>\n",
       "      <th>3</th>\n",
       "      <td>Wii Sports Resort</td>\n",
       "      <td>Sports</td>\n",
       "      <td>-2.0</td>\n",
       "      <td>2.0</td>\n",
       "      <td>0.0</td>\n",
       "      <td>-2.0</td>\n",
       "      <td>0.0</td>\n",
       "      <td>0.0</td>\n",
       "    </tr>\n",
       "    <tr>\n",
       "      <th>4</th>\n",
       "      <td>Pokemon Red/Pokemon Blue</td>\n",
       "      <td>Role-Playing</td>\n",
       "      <td>-1.0</td>\n",
       "      <td>1.0</td>\n",
       "      <td>2.0</td>\n",
       "      <td>0.0</td>\n",
       "      <td>1.0</td>\n",
       "      <td>-1.0</td>\n",
       "    </tr>\n",
       "  </tbody>\n",
       "</table>\n",
       "</div>"
      ],
      "text/plain": [
       "                       Name         Genre    0    1    2    3    4    5\n",
       "0                Wii Sports        Sports -2.0  2.0  0.0 -2.0  0.0  0.0\n",
       "1         Super Mario Bros.      Platform  0.0  2.0  2.0 -1.0  1.0  0.0\n",
       "2            Mario Kart Wii        Racing -1.0  0.0  0.0  0.0  0.0 -1.0\n",
       "3         Wii Sports Resort        Sports -2.0  2.0  0.0 -2.0  0.0  0.0\n",
       "4  Pokemon Red/Pokemon Blue  Role-Playing -1.0  1.0  2.0  0.0  1.0 -1.0"
      ]
     },
     "execution_count": 25,
     "metadata": {},
     "output_type": "execute_result"
    }
   ],
   "source": [
    "#Select the cell and click on run icon\n",
    "fh = FeatureHasher(n_features=6, input_type='string')\n",
    "hashed_features = fh.fit_transform(game_df[\"Genre\"])\n",
    "hashed_features = hashed_features.toarray()\n",
    "new_game_df = pd.concat([game_df[['Name', 'Genre']], pd.DataFrame(hashed_features)], axis=1)\n",
    "\n",
    "new_game_df.head()"
   ]
  },
  {
   "cell_type": "markdown",
   "metadata": {
    "id": "7tvIiyT2B19s"
   },
   "source": [
    "## <b>Grouping Operations</b>\n",
    "\n",
    "There are two types of grouping operations:\n",
    "\n",
    "**1. Categorical Grouping:** Grouping based on aggregate function using lambda or grouping using a pivot table.\n",
    "\n",
    "**2. Numeric Grouping:** Grouping numerical columns using mean and sum functions."
   ]
  },
  {
   "cell_type": "markdown",
   "metadata": {
    "id": "ccQG5ez2yN0p"
   },
   "source": [
    "## <b>Problem Statements:</b>\n",
    "\n",
    "You work in HR analytics. You have been given a task to predict the employees who are going to leave the organinzation, so that their replacement process can be started within the available time frame. "
   ]
  },
  {
   "cell_type": "markdown",
   "metadata": {
    "id": "7d7rDntmaPSh"
   },
   "source": [
    "The dataset is created by IBM data scientists to uncover the factors that lead to employee attrition and \n",
    "explore important questions such as ‘show me a breakdown of distance from home by job role and attrition’ or \n",
    "‘compare average monthly income by education and attrition’. \n",
    "\n",
    "The name of the dataset attributes are self explanatory. Some required attributes are explained below.\n",
    "\n",
    "* Education\n",
    "   * Below College\n",
    "   * College\n",
    "   * Bachelor\n",
    "   * Master\n",
    "   * Doctor\n",
    "\n",
    "\n",
    "* EnvironmentSatisfaction\n",
    "    * Low\n",
    "    * Medium\n",
    "    * High\n",
    "    * Very High\n",
    "\n",
    "\n",
    "* JobInvolvement\n",
    "    * Low\n",
    "    * Medium\n",
    "    * High\n",
    "    * Very High\n",
    "\n",
    "\n",
    "* JobSatisfaction\n",
    "   * Low\n",
    "   * Medium\n",
    "   * High\n",
    "   * Very High\n",
    "\n",
    "\n",
    "* PerformanceRating\n",
    "   * Low\n",
    "   * Good\n",
    "   * Excellent\n",
    "   * Outstanding\n",
    "\n",
    "\n",
    "* RelationshipSatisfaction\n",
    "  * Low\n",
    "  * Medium\n",
    "  * High\n",
    "  * Very High\n",
    "\n",
    "\n",
    "* WorkLifeBalance\n",
    "  * Bad\n",
    "  * Good\n",
    "  * Better\n",
    "  * Best"
   ]
  },
  {
   "cell_type": "markdown",
   "metadata": {
    "id": "tIN7oRI_rRXx"
   },
   "source": [
    "### There are few libraries required to perform encoding variables:\n",
    "* pandas - It helps to retrieve datasets, handle missing data and in data wrangling.\n",
    "* Numpy - It helps to perform numerical operations in the dataset.\n",
    "* seaborn and matplotlib- It helps to data visualization.\n",
    "* warnings - It helps to segregate the warnings."
   ]
  },
  {
   "cell_type": "markdown",
   "metadata": {
    "id": "SSseesNCyN0t"
   },
   "source": [
    "### Import libraries"
   ]
  },
  {
   "cell_type": "code",
   "execution_count": null,
   "metadata": {
    "id": "9s3lAzbQyN0u"
   },
   "outputs": [],
   "source": [
    "#Select the cell and click on run icon\n",
    "import numpy as np \n",
    "import pandas as pd \n",
    "import seaborn as sns\n",
    "\n",
    "import matplotlib.pyplot as plt\n",
    "%matplotlib inline\n",
    "\n",
    "import warnings\n",
    "warnings.filterwarnings('ignore')"
   ]
  },
  {
   "cell_type": "markdown",
   "metadata": {
    "id": "27QBpX2mrRXx"
   },
   "source": [
    "**Instruction:**\n",
    "\n",
    "Download the **`dataset.csv`** dataset file from Course Resources and upload it in the lab using Up arrow shown below View Tab"
   ]
  },
  {
   "cell_type": "markdown",
   "metadata": {
    "id": "v7ST5yUErRXx"
   },
   "source": [
    "### Read the dataset"
   ]
  },
  {
   "cell_type": "markdown",
   "metadata": {
    "id": "eHddhap9rRXx"
   },
   "source": [
    "**Note 16:**  \n",
    "* The **`df`** is dataframe to store the data imported from the csv as rows and columns table format.\n",
    "* The **head()** function helps to view first few data present in the **`df`** dataframe."
   ]
  },
  {
   "cell_type": "code",
   "execution_count": null,
   "metadata": {
    "id": "d2knDw_AyN0x",
    "outputId": "2e1ed1a0-425e-41a6-e986-c013b683ec89"
   },
   "outputs": [
    {
     "data": {
      "text/html": [
       "<div>\n",
       "<style scoped>\n",
       "    .dataframe tbody tr th:only-of-type {\n",
       "        vertical-align: middle;\n",
       "    }\n",
       "\n",
       "    .dataframe tbody tr th {\n",
       "        vertical-align: top;\n",
       "    }\n",
       "\n",
       "    .dataframe thead th {\n",
       "        text-align: right;\n",
       "    }\n",
       "</style>\n",
       "<table border=\"1\" class=\"dataframe\">\n",
       "  <thead>\n",
       "    <tr style=\"text-align: right;\">\n",
       "      <th></th>\n",
       "      <th>Age</th>\n",
       "      <th>Attrition</th>\n",
       "      <th>BusinessTravel</th>\n",
       "      <th>DailyRate</th>\n",
       "      <th>Department</th>\n",
       "      <th>DistanceFromHome</th>\n",
       "      <th>Education</th>\n",
       "      <th>EducationField</th>\n",
       "      <th>EmployeeCount</th>\n",
       "      <th>EmployeeNumber</th>\n",
       "      <th>...</th>\n",
       "      <th>RelationshipSatisfaction</th>\n",
       "      <th>StandardHours</th>\n",
       "      <th>StockOptionLevel</th>\n",
       "      <th>TotalWorkingYears</th>\n",
       "      <th>TrainingTimesLastYear</th>\n",
       "      <th>WorkLifeBalance</th>\n",
       "      <th>YearsAtCompany</th>\n",
       "      <th>YearsInCurrentRole</th>\n",
       "      <th>YearsSinceLastPromotion</th>\n",
       "      <th>YearsWithCurrManager</th>\n",
       "    </tr>\n",
       "  </thead>\n",
       "  <tbody>\n",
       "    <tr>\n",
       "      <th>0</th>\n",
       "      <td>41</td>\n",
       "      <td>Yes</td>\n",
       "      <td>Travel_Rarely</td>\n",
       "      <td>1102</td>\n",
       "      <td>Sales</td>\n",
       "      <td>1</td>\n",
       "      <td>2</td>\n",
       "      <td>Life Sciences</td>\n",
       "      <td>1</td>\n",
       "      <td>1</td>\n",
       "      <td>...</td>\n",
       "      <td>1</td>\n",
       "      <td>80</td>\n",
       "      <td>0</td>\n",
       "      <td>8</td>\n",
       "      <td>0</td>\n",
       "      <td>1</td>\n",
       "      <td>6</td>\n",
       "      <td>4</td>\n",
       "      <td>0</td>\n",
       "      <td>5</td>\n",
       "    </tr>\n",
       "    <tr>\n",
       "      <th>1</th>\n",
       "      <td>49</td>\n",
       "      <td>No</td>\n",
       "      <td>Travel_Frequently</td>\n",
       "      <td>279</td>\n",
       "      <td>Research &amp; Development</td>\n",
       "      <td>8</td>\n",
       "      <td>1</td>\n",
       "      <td>Life Sciences</td>\n",
       "      <td>1</td>\n",
       "      <td>2</td>\n",
       "      <td>...</td>\n",
       "      <td>4</td>\n",
       "      <td>80</td>\n",
       "      <td>1</td>\n",
       "      <td>10</td>\n",
       "      <td>3</td>\n",
       "      <td>3</td>\n",
       "      <td>10</td>\n",
       "      <td>7</td>\n",
       "      <td>1</td>\n",
       "      <td>7</td>\n",
       "    </tr>\n",
       "    <tr>\n",
       "      <th>2</th>\n",
       "      <td>37</td>\n",
       "      <td>Yes</td>\n",
       "      <td>Travel_Rarely</td>\n",
       "      <td>1373</td>\n",
       "      <td>Research &amp; Development</td>\n",
       "      <td>2</td>\n",
       "      <td>2</td>\n",
       "      <td>Other</td>\n",
       "      <td>1</td>\n",
       "      <td>4</td>\n",
       "      <td>...</td>\n",
       "      <td>2</td>\n",
       "      <td>80</td>\n",
       "      <td>0</td>\n",
       "      <td>7</td>\n",
       "      <td>3</td>\n",
       "      <td>3</td>\n",
       "      <td>0</td>\n",
       "      <td>0</td>\n",
       "      <td>0</td>\n",
       "      <td>0</td>\n",
       "    </tr>\n",
       "    <tr>\n",
       "      <th>3</th>\n",
       "      <td>33</td>\n",
       "      <td>No</td>\n",
       "      <td>Travel_Frequently</td>\n",
       "      <td>1392</td>\n",
       "      <td>Research &amp; Development</td>\n",
       "      <td>3</td>\n",
       "      <td>4</td>\n",
       "      <td>Life Sciences</td>\n",
       "      <td>1</td>\n",
       "      <td>5</td>\n",
       "      <td>...</td>\n",
       "      <td>3</td>\n",
       "      <td>80</td>\n",
       "      <td>0</td>\n",
       "      <td>8</td>\n",
       "      <td>3</td>\n",
       "      <td>3</td>\n",
       "      <td>8</td>\n",
       "      <td>7</td>\n",
       "      <td>3</td>\n",
       "      <td>0</td>\n",
       "    </tr>\n",
       "    <tr>\n",
       "      <th>4</th>\n",
       "      <td>27</td>\n",
       "      <td>No</td>\n",
       "      <td>Travel_Rarely</td>\n",
       "      <td>591</td>\n",
       "      <td>Research &amp; Development</td>\n",
       "      <td>2</td>\n",
       "      <td>1</td>\n",
       "      <td>Medical</td>\n",
       "      <td>1</td>\n",
       "      <td>7</td>\n",
       "      <td>...</td>\n",
       "      <td>4</td>\n",
       "      <td>80</td>\n",
       "      <td>1</td>\n",
       "      <td>6</td>\n",
       "      <td>3</td>\n",
       "      <td>3</td>\n",
       "      <td>2</td>\n",
       "      <td>2</td>\n",
       "      <td>2</td>\n",
       "      <td>2</td>\n",
       "    </tr>\n",
       "  </tbody>\n",
       "</table>\n",
       "<p>5 rows × 35 columns</p>\n",
       "</div>"
      ],
      "text/plain": [
       "   Age Attrition     BusinessTravel  DailyRate              Department  \\\n",
       "0   41       Yes      Travel_Rarely       1102                   Sales   \n",
       "1   49        No  Travel_Frequently        279  Research & Development   \n",
       "2   37       Yes      Travel_Rarely       1373  Research & Development   \n",
       "3   33        No  Travel_Frequently       1392  Research & Development   \n",
       "4   27        No      Travel_Rarely        591  Research & Development   \n",
       "\n",
       "   DistanceFromHome  Education EducationField  EmployeeCount  EmployeeNumber  \\\n",
       "0                 1          2  Life Sciences              1               1   \n",
       "1                 8          1  Life Sciences              1               2   \n",
       "2                 2          2          Other              1               4   \n",
       "3                 3          4  Life Sciences              1               5   \n",
       "4                 2          1        Medical              1               7   \n",
       "\n",
       "   ...  RelationshipSatisfaction StandardHours  StockOptionLevel  \\\n",
       "0  ...                         1            80                 0   \n",
       "1  ...                         4            80                 1   \n",
       "2  ...                         2            80                 0   \n",
       "3  ...                         3            80                 0   \n",
       "4  ...                         4            80                 1   \n",
       "\n",
       "   TotalWorkingYears  TrainingTimesLastYear WorkLifeBalance  YearsAtCompany  \\\n",
       "0                  8                      0               1               6   \n",
       "1                 10                      3               3              10   \n",
       "2                  7                      3               3               0   \n",
       "3                  8                      3               3               8   \n",
       "4                  6                      3               3               2   \n",
       "\n",
       "  YearsInCurrentRole  YearsSinceLastPromotion  YearsWithCurrManager  \n",
       "0                  4                        0                     5  \n",
       "1                  7                        1                     7  \n",
       "2                  0                        0                     0  \n",
       "3                  7                        3                     0  \n",
       "4                  2                        2                     2  \n",
       "\n",
       "[5 rows x 35 columns]"
      ]
     },
     "execution_count": 5,
     "metadata": {},
     "output_type": "execute_result"
    }
   ],
   "source": [
    "#Select the cell and click on run icon\n",
    "df = pd.read_csv(\"dataset.csv\")\n",
    "df.head()"
   ]
  },
  {
   "cell_type": "markdown",
   "metadata": {
    "id": "znM9sho0yN04"
   },
   "source": [
    "**Note 17:**\n",
    "\n",
    "The **columns** provides the name of the columns present in the **`df`** dataframe."
   ]
  },
  {
   "cell_type": "code",
   "execution_count": null,
   "metadata": {
    "colab": {
     "base_uri": "https://localhost:8080/"
    },
    "id": "9mCFpvJmyN04",
    "outputId": "e91f1343-7fad-4a7b-e3b4-13d649937229"
   },
   "outputs": [
    {
     "data": {
      "text/plain": [
       "Index(['Age', 'Attrition', 'BusinessTravel', 'DailyRate', 'Department',\n",
       "       'DistanceFromHome', 'Education', 'EducationField', 'EmployeeCount',\n",
       "       'EmployeeNumber', 'EnvironmentSatisfaction', 'Gender', 'HourlyRate',\n",
       "       'JobInvolvement', 'JobLevel', 'JobRole', 'JobSatisfaction',\n",
       "       'MaritalStatus', 'MonthlyIncome', 'MonthlyRate', 'NumCompaniesWorked',\n",
       "       'Over18', 'OverTime', 'PercentSalaryHike', 'PerformanceRating',\n",
       "       'RelationshipSatisfaction', 'StandardHours', 'StockOptionLevel',\n",
       "       'TotalWorkingYears', 'TrainingTimesLastYear', 'WorkLifeBalance',\n",
       "       'YearsAtCompany', 'YearsInCurrentRole', 'YearsSinceLastPromotion',\n",
       "       'YearsWithCurrManager'],\n",
       "      dtype='object')"
      ]
     },
     "execution_count": 6,
     "metadata": {},
     "output_type": "execute_result"
    }
   ],
   "source": [
    "#Select the cell and click on run icon\n",
    "df.columns"
   ]
  },
  {
   "cell_type": "markdown",
   "metadata": {
    "id": "xy1KeAKmrRX1"
   },
   "source": [
    "**Observations we can draw from the above output:**\n",
    ">It denotes the name of the columns present in the **`df`** dataframe."
   ]
  },
  {
   "cell_type": "markdown",
   "metadata": {
    "id": "ck4_QLEDyN07"
   },
   "source": [
    "**Note 18:**\n",
    "\n",
    "The **shape** represents the number of elements in each dimension and returns a tuple with each index having the number of corresponding elements."
   ]
  },
  {
   "cell_type": "code",
   "execution_count": null,
   "metadata": {
    "colab": {
     "base_uri": "https://localhost:8080/"
    },
    "id": "nYxGOawZyN07",
    "outputId": "30a091a7-32b9-41e5-9cde-563b1c135f93"
   },
   "outputs": [
    {
     "data": {
      "text/plain": [
       "(1470, 35)"
      ]
     },
     "execution_count": 7,
     "metadata": {},
     "output_type": "execute_result"
    }
   ],
   "source": [
    "#Select the cell and click on run icon\n",
    "df.shape"
   ]
  },
  {
   "cell_type": "markdown",
   "metadata": {
    "id": "IZj3ytGfrRX1"
   },
   "source": [
    "**Observations we can draw from the above output:**\n",
    "\n",
    "> There are 1470 rows and 35 columns present in the **`df`** dataframe."
   ]
  },
  {
   "cell_type": "markdown",
   "metadata": {
    "id": "-3aN7ieGyN09"
   },
   "source": [
    "### Check if there are any null values"
   ]
  },
  {
   "cell_type": "code",
   "execution_count": null,
   "metadata": {
    "colab": {
     "base_uri": "https://localhost:8080/"
    },
    "id": "EeywPdMHyN0-",
    "outputId": "5d746327-ee6d-458e-cccc-a33f0aad8bec"
   },
   "outputs": [
    {
     "data": {
      "text/plain": [
       "Age                         0\n",
       "Attrition                   0\n",
       "BusinessTravel              0\n",
       "DailyRate                   0\n",
       "Department                  0\n",
       "DistanceFromHome            0\n",
       "Education                   0\n",
       "EducationField              0\n",
       "EmployeeCount               0\n",
       "EmployeeNumber              0\n",
       "EnvironmentSatisfaction     0\n",
       "Gender                      0\n",
       "HourlyRate                  0\n",
       "JobInvolvement              0\n",
       "JobLevel                    0\n",
       "JobRole                     0\n",
       "JobSatisfaction             0\n",
       "MaritalStatus               0\n",
       "MonthlyIncome               0\n",
       "MonthlyRate                 0\n",
       "NumCompaniesWorked          0\n",
       "Over18                      0\n",
       "OverTime                    0\n",
       "PercentSalaryHike           0\n",
       "PerformanceRating           0\n",
       "RelationshipSatisfaction    0\n",
       "StandardHours               0\n",
       "StockOptionLevel            0\n",
       "TotalWorkingYears           0\n",
       "TrainingTimesLastYear       0\n",
       "WorkLifeBalance             0\n",
       "YearsAtCompany              0\n",
       "YearsInCurrentRole          0\n",
       "YearsSinceLastPromotion     0\n",
       "YearsWithCurrManager        0\n",
       "dtype: int64"
      ]
     },
     "execution_count": 8,
     "metadata": {},
     "output_type": "execute_result"
    }
   ],
   "source": [
    "#Select the cell and click on run icon\n",
    "df.isna().sum()"
   ]
  },
  {
   "cell_type": "markdown",
   "metadata": {
    "id": "F62Aks9IrRX2"
   },
   "source": [
    "**Observations:**\n",
    "\n",
    ">There are no null values present in the **`df`** dataframe."
   ]
  },
  {
   "cell_type": "markdown",
   "metadata": {
    "id": "JkAZ0lCGyN1B"
   },
   "source": [
    "### Now, print the count of values for each column"
   ]
  },
  {
   "cell_type": "code",
   "execution_count": null,
   "metadata": {
    "colab": {
     "base_uri": "https://localhost:8080/"
    },
    "id": "y-zO8SelyN1B",
    "outputId": "e523ae39-2b1f-4eac-cc11-1303da81952c"
   },
   "outputs": [
    {
     "name": "stdout",
     "output_type": "stream",
     "text": [
      "Age : 35    78\n",
      "34    77\n",
      "31    69\n",
      "36    69\n",
      "29    68\n",
      "32    61\n",
      "30    60\n",
      "33    58\n",
      "38    58\n",
      "40    57\n",
      "37    50\n",
      "27    48\n",
      "28    48\n",
      "42    46\n",
      "39    42\n",
      "45    41\n",
      "41    40\n",
      "26    39\n",
      "46    33\n",
      "44    33\n",
      "43    32\n",
      "50    30\n",
      "24    26\n",
      "25    26\n",
      "47    24\n",
      "49    24\n",
      "55    22\n",
      "48    19\n",
      "51    19\n",
      "53    19\n",
      "52    18\n",
      "54    18\n",
      "22    16\n",
      "56    14\n",
      "58    14\n",
      "23    14\n",
      "21    13\n",
      "20    11\n",
      "59    10\n",
      "19     9\n",
      "18     8\n",
      "60     5\n",
      "57     4\n",
      "Name: Age, dtype: int64\n",
      " _  _  _  _  _  _  _  _  _  _  _  _  _  _  _  _  _  _  _  _  _  _  _  _  _  _  _  _  _  _  _  _  _  _  _  _  _  _  _  _ \n",
      " _  _  _  _  _  _  _  _  _  _  _  _  _  _  _  _  _  _  _  _  _  _  _  _  _  _  _  _  _  _  _  _  _  _  _  _  _  _  _  _ \n",
      "Attrition : No     1233\n",
      "Yes     237\n",
      "Name: Attrition, dtype: int64\n",
      " _  _  _  _  _  _  _  _  _  _  _  _  _  _  _  _  _  _  _  _  _  _  _  _  _  _  _  _  _  _  _  _  _  _  _  _  _  _  _  _ \n",
      " _  _  _  _  _  _  _  _  _  _  _  _  _  _  _  _  _  _  _  _  _  _  _  _  _  _  _  _  _  _  _  _  _  _  _  _  _  _  _  _ \n",
      "BusinessTravel : Travel_Rarely        1043\n",
      "Travel_Frequently     277\n",
      "Non-Travel            150\n",
      "Name: BusinessTravel, dtype: int64\n",
      " _  _  _  _  _  _  _  _  _  _  _  _  _  _  _  _  _  _  _  _  _  _  _  _  _  _  _  _  _  _  _  _  _  _  _  _  _  _  _  _ \n",
      " _  _  _  _  _  _  _  _  _  _  _  _  _  _  _  _  _  _  _  _  _  _  _  _  _  _  _  _  _  _  _  _  _  _  _  _  _  _  _  _ \n",
      "DailyRate : 691     6\n",
      "1082    5\n",
      "329     5\n",
      "1329    5\n",
      "530     5\n",
      "       ..\n",
      "897     1\n",
      "891     1\n",
      "889     1\n",
      "888     1\n",
      "102     1\n",
      "Name: DailyRate, Length: 886, dtype: int64\n",
      " _  _  _  _  _  _  _  _  _  _  _  _  _  _  _  _  _  _  _  _  _  _  _  _  _  _  _  _  _  _  _  _  _  _  _  _  _  _  _  _ \n",
      " _  _  _  _  _  _  _  _  _  _  _  _  _  _  _  _  _  _  _  _  _  _  _  _  _  _  _  _  _  _  _  _  _  _  _  _  _  _  _  _ \n",
      "Department : Research & Development    961\n",
      "Sales                     446\n",
      "Human Resources            63\n",
      "Name: Department, dtype: int64\n",
      " _  _  _  _  _  _  _  _  _  _  _  _  _  _  _  _  _  _  _  _  _  _  _  _  _  _  _  _  _  _  _  _  _  _  _  _  _  _  _  _ \n",
      " _  _  _  _  _  _  _  _  _  _  _  _  _  _  _  _  _  _  _  _  _  _  _  _  _  _  _  _  _  _  _  _  _  _  _  _  _  _  _  _ \n",
      "DistanceFromHome : 2     211\n",
      "1     208\n",
      "10     86\n",
      "9      85\n",
      "3      84\n",
      "7      84\n",
      "8      80\n",
      "5      65\n",
      "4      64\n",
      "6      59\n",
      "16     32\n",
      "11     29\n",
      "24     28\n",
      "29     27\n",
      "23     27\n",
      "18     26\n",
      "15     26\n",
      "20     25\n",
      "25     25\n",
      "26     25\n",
      "28     23\n",
      "19     22\n",
      "14     21\n",
      "12     20\n",
      "17     20\n",
      "13     19\n",
      "22     19\n",
      "21     18\n",
      "27     12\n",
      "Name: DistanceFromHome, dtype: int64\n",
      " _  _  _  _  _  _  _  _  _  _  _  _  _  _  _  _  _  _  _  _  _  _  _  _  _  _  _  _  _  _  _  _  _  _  _  _  _  _  _  _ \n",
      " _  _  _  _  _  _  _  _  _  _  _  _  _  _  _  _  _  _  _  _  _  _  _  _  _  _  _  _  _  _  _  _  _  _  _  _  _  _  _  _ \n",
      "Education : 3    572\n",
      "4    398\n",
      "2    282\n",
      "1    170\n",
      "5     48\n",
      "Name: Education, dtype: int64\n",
      " _  _  _  _  _  _  _  _  _  _  _  _  _  _  _  _  _  _  _  _  _  _  _  _  _  _  _  _  _  _  _  _  _  _  _  _  _  _  _  _ \n",
      " _  _  _  _  _  _  _  _  _  _  _  _  _  _  _  _  _  _  _  _  _  _  _  _  _  _  _  _  _  _  _  _  _  _  _  _  _  _  _  _ \n",
      "EducationField : Life Sciences       606\n",
      "Medical             464\n",
      "Marketing           159\n",
      "Technical Degree    132\n",
      "Other                82\n",
      "Human Resources      27\n",
      "Name: EducationField, dtype: int64\n",
      " _  _  _  _  _  _  _  _  _  _  _  _  _  _  _  _  _  _  _  _  _  _  _  _  _  _  _  _  _  _  _  _  _  _  _  _  _  _  _  _ \n",
      " _  _  _  _  _  _  _  _  _  _  _  _  _  _  _  _  _  _  _  _  _  _  _  _  _  _  _  _  _  _  _  _  _  _  _  _  _  _  _  _ \n",
      "EmployeeCount : 1    1470\n",
      "Name: EmployeeCount, dtype: int64\n",
      " _  _  _  _  _  _  _  _  _  _  _  _  _  _  _  _  _  _  _  _  _  _  _  _  _  _  _  _  _  _  _  _  _  _  _  _  _  _  _  _ \n",
      " _  _  _  _  _  _  _  _  _  _  _  _  _  _  _  _  _  _  _  _  _  _  _  _  _  _  _  _  _  _  _  _  _  _  _  _  _  _  _  _ \n",
      "EmployeeNumber : 2046    1\n",
      "641     1\n",
      "644     1\n",
      "645     1\n",
      "647     1\n",
      "       ..\n",
      "1364    1\n",
      "1367    1\n",
      "1368    1\n",
      "1369    1\n",
      "2048    1\n",
      "Name: EmployeeNumber, Length: 1470, dtype: int64\n",
      " _  _  _  _  _  _  _  _  _  _  _  _  _  _  _  _  _  _  _  _  _  _  _  _  _  _  _  _  _  _  _  _  _  _  _  _  _  _  _  _ \n",
      " _  _  _  _  _  _  _  _  _  _  _  _  _  _  _  _  _  _  _  _  _  _  _  _  _  _  _  _  _  _  _  _  _  _  _  _  _  _  _  _ \n",
      "EnvironmentSatisfaction : 3    453\n",
      "4    446\n",
      "2    287\n",
      "1    284\n",
      "Name: EnvironmentSatisfaction, dtype: int64\n",
      " _  _  _  _  _  _  _  _  _  _  _  _  _  _  _  _  _  _  _  _  _  _  _  _  _  _  _  _  _  _  _  _  _  _  _  _  _  _  _  _ \n",
      " _  _  _  _  _  _  _  _  _  _  _  _  _  _  _  _  _  _  _  _  _  _  _  _  _  _  _  _  _  _  _  _  _  _  _  _  _  _  _  _ \n",
      "Gender : Male      882\n",
      "Female    588\n",
      "Name: Gender, dtype: int64\n",
      " _  _  _  _  _  _  _  _  _  _  _  _  _  _  _  _  _  _  _  _  _  _  _  _  _  _  _  _  _  _  _  _  _  _  _  _  _  _  _  _ \n",
      " _  _  _  _  _  _  _  _  _  _  _  _  _  _  _  _  _  _  _  _  _  _  _  _  _  _  _  _  _  _  _  _  _  _  _  _  _  _  _  _ \n",
      "HourlyRate : 66    29\n",
      "42    28\n",
      "98    28\n",
      "48    28\n",
      "84    28\n",
      "      ..\n",
      "31    15\n",
      "68    14\n",
      "53    14\n",
      "38    13\n",
      "34    12\n",
      "Name: HourlyRate, Length: 71, dtype: int64\n",
      " _  _  _  _  _  _  _  _  _  _  _  _  _  _  _  _  _  _  _  _  _  _  _  _  _  _  _  _  _  _  _  _  _  _  _  _  _  _  _  _ \n",
      " _  _  _  _  _  _  _  _  _  _  _  _  _  _  _  _  _  _  _  _  _  _  _  _  _  _  _  _  _  _  _  _  _  _  _  _  _  _  _  _ \n",
      "JobInvolvement : 3    868\n",
      "2    375\n",
      "4    144\n",
      "1     83\n",
      "Name: JobInvolvement, dtype: int64\n",
      " _  _  _  _  _  _  _  _  _  _  _  _  _  _  _  _  _  _  _  _  _  _  _  _  _  _  _  _  _  _  _  _  _  _  _  _  _  _  _  _ \n",
      " _  _  _  _  _  _  _  _  _  _  _  _  _  _  _  _  _  _  _  _  _  _  _  _  _  _  _  _  _  _  _  _  _  _  _  _  _  _  _  _ \n",
      "JobLevel : 1    543\n",
      "2    534\n",
      "3    218\n",
      "4    106\n",
      "5     69\n",
      "Name: JobLevel, dtype: int64\n",
      " _  _  _  _  _  _  _  _  _  _  _  _  _  _  _  _  _  _  _  _  _  _  _  _  _  _  _  _  _  _  _  _  _  _  _  _  _  _  _  _ \n",
      " _  _  _  _  _  _  _  _  _  _  _  _  _  _  _  _  _  _  _  _  _  _  _  _  _  _  _  _  _  _  _  _  _  _  _  _  _  _  _  _ \n",
      "JobRole : Sales Executive              326\n",
      "Research Scientist           292\n",
      "Laboratory Technician        259\n",
      "Manufacturing Director       145\n",
      "Healthcare Representative    131\n",
      "Manager                      102\n",
      "Sales Representative          83\n",
      "Research Director             80\n",
      "Human Resources               52\n",
      "Name: JobRole, dtype: int64\n",
      " _  _  _  _  _  _  _  _  _  _  _  _  _  _  _  _  _  _  _  _  _  _  _  _  _  _  _  _  _  _  _  _  _  _  _  _  _  _  _  _ \n",
      " _  _  _  _  _  _  _  _  _  _  _  _  _  _  _  _  _  _  _  _  _  _  _  _  _  _  _  _  _  _  _  _  _  _  _  _  _  _  _  _ \n",
      "JobSatisfaction : 4    459\n",
      "3    442\n",
      "1    289\n",
      "2    280\n",
      "Name: JobSatisfaction, dtype: int64\n",
      " _  _  _  _  _  _  _  _  _  _  _  _  _  _  _  _  _  _  _  _  _  _  _  _  _  _  _  _  _  _  _  _  _  _  _  _  _  _  _  _ \n",
      " _  _  _  _  _  _  _  _  _  _  _  _  _  _  _  _  _  _  _  _  _  _  _  _  _  _  _  _  _  _  _  _  _  _  _  _  _  _  _  _ \n",
      "MaritalStatus : Married     673\n",
      "Single      470\n",
      "Divorced    327\n",
      "Name: MaritalStatus, dtype: int64\n",
      " _  _  _  _  _  _  _  _  _  _  _  _  _  _  _  _  _  _  _  _  _  _  _  _  _  _  _  _  _  _  _  _  _  _  _  _  _  _  _  _ \n",
      " _  _  _  _  _  _  _  _  _  _  _  _  _  _  _  _  _  _  _  _  _  _  _  _  _  _  _  _  _  _  _  _  _  _  _  _  _  _  _  _ \n",
      "MonthlyIncome : 2342     4\n",
      "5562     3\n",
      "2741     3\n",
      "2451     3\n",
      "2610     3\n",
      "        ..\n",
      "5381     1\n",
      "13577    1\n",
      "12965    1\n",
      "3339     1\n",
      "14336    1\n",
      "Name: MonthlyIncome, Length: 1349, dtype: int64\n",
      " _  _  _  _  _  _  _  _  _  _  _  _  _  _  _  _  _  _  _  _  _  _  _  _  _  _  _  _  _  _  _  _  _  _  _  _  _  _  _  _ \n",
      " _  _  _  _  _  _  _  _  _  _  _  _  _  _  _  _  _  _  _  _  _  _  _  _  _  _  _  _  _  _  _  _  _  _  _  _  _  _  _  _ \n",
      "MonthlyRate : 4223     3\n",
      "9150     3\n",
      "6670     2\n",
      "7324     2\n",
      "4658     2\n",
      "        ..\n",
      "11585    1\n",
      "15682    1\n",
      "3395     1\n",
      "9541     1\n",
      "8192     1\n",
      "Name: MonthlyRate, Length: 1427, dtype: int64\n",
      " _  _  _  _  _  _  _  _  _  _  _  _  _  _  _  _  _  _  _  _  _  _  _  _  _  _  _  _  _  _  _  _  _  _  _  _  _  _  _  _ \n",
      " _  _  _  _  _  _  _  _  _  _  _  _  _  _  _  _  _  _  _  _  _  _  _  _  _  _  _  _  _  _  _  _  _  _  _  _  _  _  _  _ \n",
      "NumCompaniesWorked : 1    521\n",
      "0    197\n",
      "3    159\n",
      "2    146\n",
      "4    139\n",
      "7     74\n",
      "6     70\n",
      "5     63\n",
      "9     52\n",
      "8     49\n",
      "Name: NumCompaniesWorked, dtype: int64\n",
      " _  _  _  _  _  _  _  _  _  _  _  _  _  _  _  _  _  _  _  _  _  _  _  _  _  _  _  _  _  _  _  _  _  _  _  _  _  _  _  _ \n",
      " _  _  _  _  _  _  _  _  _  _  _  _  _  _  _  _  _  _  _  _  _  _  _  _  _  _  _  _  _  _  _  _  _  _  _  _  _  _  _  _ \n",
      "Over18 : Y    1470\n",
      "Name: Over18, dtype: int64\n",
      " _  _  _  _  _  _  _  _  _  _  _  _  _  _  _  _  _  _  _  _  _  _  _  _  _  _  _  _  _  _  _  _  _  _  _  _  _  _  _  _ \n",
      " _  _  _  _  _  _  _  _  _  _  _  _  _  _  _  _  _  _  _  _  _  _  _  _  _  _  _  _  _  _  _  _  _  _  _  _  _  _  _  _ \n",
      "OverTime : No     1054\n",
      "Yes     416\n",
      "Name: OverTime, dtype: int64\n",
      " _  _  _  _  _  _  _  _  _  _  _  _  _  _  _  _  _  _  _  _  _  _  _  _  _  _  _  _  _  _  _  _  _  _  _  _  _  _  _  _ \n",
      " _  _  _  _  _  _  _  _  _  _  _  _  _  _  _  _  _  _  _  _  _  _  _  _  _  _  _  _  _  _  _  _  _  _  _  _  _  _  _  _ \n",
      "PercentSalaryHike : 11    210\n",
      "13    209\n",
      "14    201\n",
      "12    198\n",
      "15    101\n",
      "18     89\n",
      "17     82\n",
      "16     78\n",
      "19     76\n",
      "22     56\n",
      "20     55\n",
      "21     48\n",
      "23     28\n",
      "24     21\n",
      "25     18\n",
      "Name: PercentSalaryHike, dtype: int64\n",
      " _  _  _  _  _  _  _  _  _  _  _  _  _  _  _  _  _  _  _  _  _  _  _  _  _  _  _  _  _  _  _  _  _  _  _  _  _  _  _  _ \n",
      " _  _  _  _  _  _  _  _  _  _  _  _  _  _  _  _  _  _  _  _  _  _  _  _  _  _  _  _  _  _  _  _  _  _  _  _  _  _  _  _ \n",
      "PerformanceRating : 3    1244\n",
      "4     226\n",
      "Name: PerformanceRating, dtype: int64\n",
      " _  _  _  _  _  _  _  _  _  _  _  _  _  _  _  _  _  _  _  _  _  _  _  _  _  _  _  _  _  _  _  _  _  _  _  _  _  _  _  _ \n",
      " _  _  _  _  _  _  _  _  _  _  _  _  _  _  _  _  _  _  _  _  _  _  _  _  _  _  _  _  _  _  _  _  _  _  _  _  _  _  _  _ \n",
      "RelationshipSatisfaction : 3    459\n",
      "4    432\n",
      "2    303\n",
      "1    276\n",
      "Name: RelationshipSatisfaction, dtype: int64\n",
      " _  _  _  _  _  _  _  _  _  _  _  _  _  _  _  _  _  _  _  _  _  _  _  _  _  _  _  _  _  _  _  _  _  _  _  _  _  _  _  _ \n",
      " _  _  _  _  _  _  _  _  _  _  _  _  _  _  _  _  _  _  _  _  _  _  _  _  _  _  _  _  _  _  _  _  _  _  _  _  _  _  _  _ \n",
      "StandardHours : 80    1470\n",
      "Name: StandardHours, dtype: int64\n",
      " _  _  _  _  _  _  _  _  _  _  _  _  _  _  _  _  _  _  _  _  _  _  _  _  _  _  _  _  _  _  _  _  _  _  _  _  _  _  _  _ \n",
      " _  _  _  _  _  _  _  _  _  _  _  _  _  _  _  _  _  _  _  _  _  _  _  _  _  _  _  _  _  _  _  _  _  _  _  _  _  _  _  _ \n",
      "StockOptionLevel : 0    631\n",
      "1    596\n",
      "2    158\n",
      "3     85\n",
      "Name: StockOptionLevel, dtype: int64\n",
      " _  _  _  _  _  _  _  _  _  _  _  _  _  _  _  _  _  _  _  _  _  _  _  _  _  _  _  _  _  _  _  _  _  _  _  _  _  _  _  _ \n",
      " _  _  _  _  _  _  _  _  _  _  _  _  _  _  _  _  _  _  _  _  _  _  _  _  _  _  _  _  _  _  _  _  _  _  _  _  _  _  _  _ \n",
      "TotalWorkingYears : 10    202\n",
      "6     125\n",
      "8     103\n",
      "9      96\n",
      "5      88\n",
      "1      81\n",
      "7      81\n",
      "4      63\n",
      "12     48\n",
      "3      42\n",
      "15     40\n",
      "16     37\n",
      "13     36\n",
      "11     36\n",
      "21     34\n",
      "17     33\n",
      "14     31\n",
      "2      31\n",
      "20     30\n",
      "18     27\n",
      "19     22\n",
      "23     22\n",
      "22     21\n",
      "24     18\n",
      "25     14\n",
      "28     14\n",
      "26     14\n",
      "0      11\n",
      "29     10\n",
      "31      9\n",
      "32      9\n",
      "27      7\n",
      "30      7\n",
      "33      7\n",
      "36      6\n",
      "34      5\n",
      "37      4\n",
      "35      3\n",
      "40      2\n",
      "38      1\n",
      "Name: TotalWorkingYears, dtype: int64\n",
      " _  _  _  _  _  _  _  _  _  _  _  _  _  _  _  _  _  _  _  _  _  _  _  _  _  _  _  _  _  _  _  _  _  _  _  _  _  _  _  _ \n",
      " _  _  _  _  _  _  _  _  _  _  _  _  _  _  _  _  _  _  _  _  _  _  _  _  _  _  _  _  _  _  _  _  _  _  _  _  _  _  _  _ \n",
      "TrainingTimesLastYear : 2    547\n",
      "3    491\n",
      "4    123\n",
      "5    119\n",
      "1     71\n",
      "6     65\n",
      "0     54\n",
      "Name: TrainingTimesLastYear, dtype: int64\n",
      " _  _  _  _  _  _  _  _  _  _  _  _  _  _  _  _  _  _  _  _  _  _  _  _  _  _  _  _  _  _  _  _  _  _  _  _  _  _  _  _ \n",
      " _  _  _  _  _  _  _  _  _  _  _  _  _  _  _  _  _  _  _  _  _  _  _  _  _  _  _  _  _  _  _  _  _  _  _  _  _  _  _  _ \n",
      "WorkLifeBalance : 3    893\n",
      "2    344\n",
      "4    153\n",
      "1     80\n",
      "Name: WorkLifeBalance, dtype: int64\n",
      " _  _  _  _  _  _  _  _  _  _  _  _  _  _  _  _  _  _  _  _  _  _  _  _  _  _  _  _  _  _  _  _  _  _  _  _  _  _  _  _ \n",
      " _  _  _  _  _  _  _  _  _  _  _  _  _  _  _  _  _  _  _  _  _  _  _  _  _  _  _  _  _  _  _  _  _  _  _  _  _  _  _  _ \n",
      "YearsAtCompany : 5     196\n",
      "1     171\n",
      "3     128\n",
      "2     127\n",
      "10    120\n",
      "4     110\n",
      "7      90\n",
      "9      82\n",
      "8      80\n",
      "6      76\n",
      "0      44\n",
      "11     32\n",
      "20     27\n",
      "13     24\n",
      "15     20\n",
      "14     18\n",
      "22     15\n",
      "12     14\n",
      "21     14\n",
      "18     13\n",
      "16     12\n",
      "19     11\n",
      "17      9\n",
      "24      6\n",
      "33      5\n",
      "25      4\n",
      "26      4\n",
      "31      3\n",
      "32      3\n",
      "36      2\n",
      "27      2\n",
      "29      2\n",
      "23      2\n",
      "30      1\n",
      "34      1\n",
      "37      1\n",
      "40      1\n",
      "Name: YearsAtCompany, dtype: int64\n",
      " _  _  _  _  _  _  _  _  _  _  _  _  _  _  _  _  _  _  _  _  _  _  _  _  _  _  _  _  _  _  _  _  _  _  _  _  _  _  _  _ \n",
      " _  _  _  _  _  _  _  _  _  _  _  _  _  _  _  _  _  _  _  _  _  _  _  _  _  _  _  _  _  _  _  _  _  _  _  _  _  _  _  _ \n",
      "YearsInCurrentRole : 2     372\n",
      "0     244\n",
      "7     222\n",
      "3     135\n",
      "4     104\n",
      "8      89\n",
      "9      67\n",
      "1      57\n",
      "6      37\n",
      "5      36\n",
      "10     29\n",
      "11     22\n",
      "13     14\n",
      "14     11\n",
      "12     10\n",
      "15      8\n",
      "16      7\n",
      "17      4\n",
      "18      2\n",
      "Name: YearsInCurrentRole, dtype: int64\n",
      " _  _  _  _  _  _  _  _  _  _  _  _  _  _  _  _  _  _  _  _  _  _  _  _  _  _  _  _  _  _  _  _  _  _  _  _  _  _  _  _ \n",
      " _  _  _  _  _  _  _  _  _  _  _  _  _  _  _  _  _  _  _  _  _  _  _  _  _  _  _  _  _  _  _  _  _  _  _  _  _  _  _  _ \n",
      "YearsSinceLastPromotion : 0     581\n",
      "1     357\n",
      "2     159\n",
      "7      76\n",
      "4      61\n",
      "3      52\n",
      "5      45\n",
      "6      32\n",
      "11     24\n",
      "8      18\n",
      "9      17\n",
      "15     13\n",
      "13     10\n",
      "12     10\n",
      "14      9\n",
      "10      6\n",
      "Name: YearsSinceLastPromotion, dtype: int64\n",
      " _  _  _  _  _  _  _  _  _  _  _  _  _  _  _  _  _  _  _  _  _  _  _  _  _  _  _  _  _  _  _  _  _  _  _  _  _  _  _  _ \n",
      " _  _  _  _  _  _  _  _  _  _  _  _  _  _  _  _  _  _  _  _  _  _  _  _  _  _  _  _  _  _  _  _  _  _  _  _  _  _  _  _ \n",
      "YearsWithCurrManager : 2     344\n",
      "0     263\n",
      "7     216\n",
      "3     142\n",
      "8     107\n",
      "4      98\n",
      "1      76\n",
      "9      64\n",
      "5      31\n",
      "6      29\n",
      "10     27\n",
      "11     22\n",
      "12     18\n",
      "13     14\n",
      "17      7\n",
      "14      5\n",
      "15      5\n",
      "16      2\n",
      "Name: YearsWithCurrManager, dtype: int64\n",
      " _  _  _  _  _  _  _  _  _  _  _  _  _  _  _  _  _  _  _  _  _  _  _  _  _  _  _  _  _  _  _  _  _  _  _  _  _  _  _  _ \n",
      " _  _  _  _  _  _  _  _  _  _  _  _  _  _  _  _  _  _  _  _  _  _  _  _  _  _  _  _  _  _  _  _  _  _  _  _  _  _  _  _ \n"
     ]
    }
   ],
   "source": [
    "for i in df.columns:\n",
    "    print (i , \":\", df[i].value_counts())\n",
    "    print (\" _ \"*40)\n",
    "    print (\" _ \"*40)"
   ]
  },
  {
   "cell_type": "markdown",
   "metadata": {
    "id": "sGqfXCg2rRX2"
   },
   "source": [
    "**Observations we can draw from the above output:**\n",
    "\n",
    "\n",
    ">It is an imbalanced data as value count in `attrition` column is imbalanced.\n",
    ">>`Over18` is `Y` (Yes) across all the employees and it is not beneficial for further use.\n",
    ">>>`StandardHours` is 80 which is common for all and it is not beneficial for further use.\n",
    ">>>>`EmployeeCount`, `EmployeeNumber` are unique which are also not going to help us predict our end result."
   ]
  },
  {
   "cell_type": "markdown",
   "metadata": {
    "id": "3-IDdFt_yN1E"
   },
   "source": [
    "### Now, print the unique values in each column to understand the above output more clearly"
   ]
  },
  {
   "cell_type": "code",
   "execution_count": null,
   "metadata": {
    "colab": {
     "base_uri": "https://localhost:8080/"
    },
    "id": "z0wXOmECyN1E",
    "outputId": "ea7146dc-0330-438a-e6e4-f7e39ade5f8e"
   },
   "outputs": [
    {
     "name": "stdout",
     "output_type": "stream",
     "text": [
      "Age : [41 49 37 33 27 32 59 30 38 36 35 29 31 34 28 22 53 24 21 42 44 46 39 43\n",
      " 50 26 48 55 45 56 23 51 40 54 58 20 25 19 57 52 47 18 60]\n",
      " _  _  _  _  _  _  _  _  _  _  _  _  _  _  _  _  _  _  _  _  _  _  _  _  _  _  _  _  _  _  _  _  _  _  _  _  _  _  _  _ \n",
      " _  _  _  _  _  _  _  _  _  _  _  _  _  _  _  _  _  _  _  _  _  _  _  _  _  _  _  _  _  _  _  _  _  _  _  _  _  _  _  _ \n",
      "Attrition : ['Yes' 'No']\n",
      " _  _  _  _  _  _  _  _  _  _  _  _  _  _  _  _  _  _  _  _  _  _  _  _  _  _  _  _  _  _  _  _  _  _  _  _  _  _  _  _ \n",
      " _  _  _  _  _  _  _  _  _  _  _  _  _  _  _  _  _  _  _  _  _  _  _  _  _  _  _  _  _  _  _  _  _  _  _  _  _  _  _  _ \n",
      "BusinessTravel : ['Travel_Rarely' 'Travel_Frequently' 'Non-Travel']\n",
      " _  _  _  _  _  _  _  _  _  _  _  _  _  _  _  _  _  _  _  _  _  _  _  _  _  _  _  _  _  _  _  _  _  _  _  _  _  _  _  _ \n",
      " _  _  _  _  _  _  _  _  _  _  _  _  _  _  _  _  _  _  _  _  _  _  _  _  _  _  _  _  _  _  _  _  _  _  _  _  _  _  _  _ \n",
      "DailyRate : [1102  279 1373 1392  591 1005 1324 1358  216 1299  809  153  670 1346\n",
      "  103 1389  334 1123 1219  371  673 1218  419  391  699 1282 1125  691\n",
      "  477  705  924 1459  125  895  813 1273  869  890  852 1141  464 1240\n",
      " 1357  994  721 1360 1065  408 1211 1229  626 1434 1488 1097 1443  515\n",
      "  853 1142  655 1115  427  653  989 1435 1223  836 1195 1339  664  318\n",
      " 1225 1328 1082  548  132  746  776  193  397  945 1214  111  573 1153\n",
      " 1400  541  432  288  669  530  632 1334  638 1093 1217 1353  120  682\n",
      "  489  807  827  871  665 1040 1420  240 1280  534 1456  658  142 1127\n",
      " 1031 1189 1354 1467  922  394 1312  750  441  684  249  841  147  528\n",
      "  594  470  957  542  802 1355 1150 1329  959 1033 1316  364  438  689\n",
      "  201 1427  857  933 1181 1395  662 1436  194  967 1496 1169 1145  630\n",
      "  303 1256  440 1450 1452  465  702 1157  602 1480 1268  713  134  526\n",
      " 1380  140  629 1356  328 1084  931  692 1069  313  894  556 1344  290\n",
      "  138  926 1261  472 1002  878  905 1180  121 1136  635 1151  644 1045\n",
      "  829 1242 1469  896  992 1052 1147 1396  663  119  979  319 1413  944\n",
      " 1323  532  818  854 1034  771 1401 1431  976 1411 1300  252 1327  832\n",
      " 1017 1199  504  505  916 1247  685  269 1416  833  307 1311  128  488\n",
      "  529 1210 1463  675 1385 1403  452  666 1158  228  996  728 1315  322\n",
      " 1479  797 1070  442  496 1372  920  688 1449 1117  636  506  444  950\n",
      "  889  555  230 1232  566 1302  812 1476  218 1132 1105  906  849  390\n",
      "  106 1249  192  553  117  185 1091  723 1220  588 1377 1018 1275  798\n",
      "  672 1162  508 1482  559  210  928 1001  549 1124  738  570 1130 1192\n",
      "  343  144 1296 1309  483  810  544 1062 1319  641 1332  756  845  593\n",
      " 1171  350  921 1144  143 1046  575  156 1283  755  304 1178  329 1362\n",
      " 1371  202  253  164 1107  759 1305  982  821 1381  480 1473  891 1063\n",
      "  645 1490  317  422 1485 1368 1448  296 1398 1349  986 1099 1116 1499\n",
      "  983 1009 1303 1274 1277  587  413 1276  988 1474  163  267  619  302\n",
      "  443  828  561  426  232 1306 1094  509  775  195  258  471  799  956\n",
      "  535 1495  446 1245  703  823 1246  622 1287  448  254 1365  538  525\n",
      "  558  782  362 1236 1112  204 1343  604 1216  646  160  238 1397  306\n",
      "  991  482 1176  913 1076  727  885  243  806  817 1410 1207 1442  693\n",
      "  929  562  608  580  970 1179  294  314  316  654  168  381  217  501\n",
      "  650  141  804  975 1090  346  430  268  167  621  527  883  954  310\n",
      "  719  725  715  657 1146  182  376  571  384  791 1111 1243 1092 1325\n",
      "  805  213  118  676 1252  286 1258  932 1041  859  720  946 1184  436\n",
      "  589  760  887 1318  625  180  586 1012  661  930  342 1230 1271 1278\n",
      "  607  130  300  583 1418 1269  379  395 1265 1222  341  868 1231  102\n",
      "  881 1383 1075  374 1086  781  177  500 1425 1454  617 1085  995 1122\n",
      "  618  546  462 1198 1272  154 1137 1188  188 1333  867  263  938  129\n",
      "  616  498 1404 1053  289 1376  231  152  882  903 1379  335  722  461\n",
      "  974 1126  840 1134  248  955  939 1391 1206  287 1441  109 1066  277\n",
      "  466 1055  265  135  247 1035  266  145 1038 1234 1109 1089  788  124\n",
      "  660 1186 1464  796  415  769 1003 1366  330 1492 1204  309 1330  469\n",
      "  697 1262 1050  770  406  203 1308  984  439  793 1451 1182  174  490\n",
      "  718  433  773  603  874  367  199  481  647 1384  902  819  862 1457\n",
      "  977  942 1402 1421 1361  917  200  150  179  696  116  363  107 1465\n",
      "  458 1212 1103  966 1010  326 1098  969 1167  694 1320  536  373  599\n",
      "  251  131  237 1429  648  735  531  429  968  879  640  412  848  360\n",
      " 1138  325 1322  299 1030  634  524  256 1060  935  495  282  206  943\n",
      "  523  507  601  855 1291 1405 1369  999 1202  285  404  736 1498 1200\n",
      " 1439  499  205  683 1462  949  652  332 1475  337  971 1174  667  560\n",
      "  172  383 1255  359  401  377  592 1445 1221  866  981  447 1326  748\n",
      "  990  405  115  790  830 1193 1423  467  271  410 1083  516  224  136\n",
      " 1029  333 1440  674 1342  898  824  492  598  740  888 1288  104 1108\n",
      "  479 1351  474  437  884 1370  264 1059  563  457 1313  241 1015  336\n",
      " 1387  170  208  671  711  737 1470  365  763  567  486  772  301  311\n",
      "  584  880  392  148  708 1259  786  370  678  146  581  918 1238  585\n",
      "  741  552  369  717  543  964  792  611  176  897  600 1054  428  181\n",
      "  211 1079  590  305  953  478 1375  244  511 1294  196  734 1239 1253\n",
      " 1128 1336  234  766  261 1194  431  572 1422 1297  574  355  207  706\n",
      "  280  726  414  352 1224  459 1254 1131  835 1172 1266  783  219 1213\n",
      " 1096 1251 1394  605 1064 1337  937  157  754 1168  155 1444  189  911\n",
      " 1321 1154  557  642  801  161 1382 1037  105  582  704  345 1120 1378\n",
      "  468  613 1023  628]\n",
      " _  _  _  _  _  _  _  _  _  _  _  _  _  _  _  _  _  _  _  _  _  _  _  _  _  _  _  _  _  _  _  _  _  _  _  _  _  _  _  _ \n",
      " _  _  _  _  _  _  _  _  _  _  _  _  _  _  _  _  _  _  _  _  _  _  _  _  _  _  _  _  _  _  _  _  _  _  _  _  _  _  _  _ \n",
      "Department : ['Sales' 'Research & Development' 'Human Resources']\n",
      " _  _  _  _  _  _  _  _  _  _  _  _  _  _  _  _  _  _  _  _  _  _  _  _  _  _  _  _  _  _  _  _  _  _  _  _  _  _  _  _ \n",
      " _  _  _  _  _  _  _  _  _  _  _  _  _  _  _  _  _  _  _  _  _  _  _  _  _  _  _  _  _  _  _  _  _  _  _  _  _  _  _  _ \n",
      "DistanceFromHome : [ 1  8  2  3 24 23 27 16 15 26 19 21  5 11  9  7  6 10  4 25 12 18 29 22\n",
      " 14 20 28 17 13]\n",
      " _  _  _  _  _  _  _  _  _  _  _  _  _  _  _  _  _  _  _  _  _  _  _  _  _  _  _  _  _  _  _  _  _  _  _  _  _  _  _  _ \n",
      " _  _  _  _  _  _  _  _  _  _  _  _  _  _  _  _  _  _  _  _  _  _  _  _  _  _  _  _  _  _  _  _  _  _  _  _  _  _  _  _ \n",
      "Education : [2 1 4 3 5]\n",
      " _  _  _  _  _  _  _  _  _  _  _  _  _  _  _  _  _  _  _  _  _  _  _  _  _  _  _  _  _  _  _  _  _  _  _  _  _  _  _  _ \n",
      " _  _  _  _  _  _  _  _  _  _  _  _  _  _  _  _  _  _  _  _  _  _  _  _  _  _  _  _  _  _  _  _  _  _  _  _  _  _  _  _ \n",
      "EducationField : ['Life Sciences' 'Other' 'Medical' 'Marketing' 'Technical Degree'\n",
      " 'Human Resources']\n",
      " _  _  _  _  _  _  _  _  _  _  _  _  _  _  _  _  _  _  _  _  _  _  _  _  _  _  _  _  _  _  _  _  _  _  _  _  _  _  _  _ \n",
      " _  _  _  _  _  _  _  _  _  _  _  _  _  _  _  _  _  _  _  _  _  _  _  _  _  _  _  _  _  _  _  _  _  _  _  _  _  _  _  _ \n",
      "EmployeeCount : [1]\n",
      " _  _  _  _  _  _  _  _  _  _  _  _  _  _  _  _  _  _  _  _  _  _  _  _  _  _  _  _  _  _  _  _  _  _  _  _  _  _  _  _ \n",
      " _  _  _  _  _  _  _  _  _  _  _  _  _  _  _  _  _  _  _  _  _  _  _  _  _  _  _  _  _  _  _  _  _  _  _  _  _  _  _  _ \n",
      "EmployeeNumber : [   1    2    4 ... 2064 2065 2068]\n",
      " _  _  _  _  _  _  _  _  _  _  _  _  _  _  _  _  _  _  _  _  _  _  _  _  _  _  _  _  _  _  _  _  _  _  _  _  _  _  _  _ \n",
      " _  _  _  _  _  _  _  _  _  _  _  _  _  _  _  _  _  _  _  _  _  _  _  _  _  _  _  _  _  _  _  _  _  _  _  _  _  _  _  _ \n",
      "EnvironmentSatisfaction : [2 3 4 1]\n",
      " _  _  _  _  _  _  _  _  _  _  _  _  _  _  _  _  _  _  _  _  _  _  _  _  _  _  _  _  _  _  _  _  _  _  _  _  _  _  _  _ \n",
      " _  _  _  _  _  _  _  _  _  _  _  _  _  _  _  _  _  _  _  _  _  _  _  _  _  _  _  _  _  _  _  _  _  _  _  _  _  _  _  _ \n",
      "Gender : ['Female' 'Male']\n",
      " _  _  _  _  _  _  _  _  _  _  _  _  _  _  _  _  _  _  _  _  _  _  _  _  _  _  _  _  _  _  _  _  _  _  _  _  _  _  _  _ \n",
      " _  _  _  _  _  _  _  _  _  _  _  _  _  _  _  _  _  _  _  _  _  _  _  _  _  _  _  _  _  _  _  _  _  _  _  _  _  _  _  _ \n",
      "HourlyRate : [ 94  61  92  56  40  79  81  67  44  84  49  31  93  50  51  80  96  78\n",
      "  45  82  53  83  58  72  48  42  41  86  97  75  33  37  73  98  36  47\n",
      "  71  30  43  99  59  95  57  76  87  66  55  32  52  70  62  64  63  60\n",
      " 100  46  39  77  35  91  54  34  90  65  88  85  89  68  69  74  38]\n",
      " _  _  _  _  _  _  _  _  _  _  _  _  _  _  _  _  _  _  _  _  _  _  _  _  _  _  _  _  _  _  _  _  _  _  _  _  _  _  _  _ \n",
      " _  _  _  _  _  _  _  _  _  _  _  _  _  _  _  _  _  _  _  _  _  _  _  _  _  _  _  _  _  _  _  _  _  _  _  _  _  _  _  _ \n",
      "JobInvolvement : [3 2 4 1]\n",
      " _  _  _  _  _  _  _  _  _  _  _  _  _  _  _  _  _  _  _  _  _  _  _  _  _  _  _  _  _  _  _  _  _  _  _  _  _  _  _  _ \n",
      " _  _  _  _  _  _  _  _  _  _  _  _  _  _  _  _  _  _  _  _  _  _  _  _  _  _  _  _  _  _  _  _  _  _  _  _  _  _  _  _ \n",
      "JobLevel : [2 1 3 4 5]\n",
      " _  _  _  _  _  _  _  _  _  _  _  _  _  _  _  _  _  _  _  _  _  _  _  _  _  _  _  _  _  _  _  _  _  _  _  _  _  _  _  _ \n",
      " _  _  _  _  _  _  _  _  _  _  _  _  _  _  _  _  _  _  _  _  _  _  _  _  _  _  _  _  _  _  _  _  _  _  _  _  _  _  _  _ \n",
      "JobRole : ['Sales Executive' 'Research Scientist' 'Laboratory Technician'\n",
      " 'Manufacturing Director' 'Healthcare Representative' 'Manager'\n",
      " 'Sales Representative' 'Research Director' 'Human Resources']\n",
      " _  _  _  _  _  _  _  _  _  _  _  _  _  _  _  _  _  _  _  _  _  _  _  _  _  _  _  _  _  _  _  _  _  _  _  _  _  _  _  _ \n",
      " _  _  _  _  _  _  _  _  _  _  _  _  _  _  _  _  _  _  _  _  _  _  _  _  _  _  _  _  _  _  _  _  _  _  _  _  _  _  _  _ \n",
      "JobSatisfaction : [4 2 3 1]\n",
      " _  _  _  _  _  _  _  _  _  _  _  _  _  _  _  _  _  _  _  _  _  _  _  _  _  _  _  _  _  _  _  _  _  _  _  _  _  _  _  _ \n",
      " _  _  _  _  _  _  _  _  _  _  _  _  _  _  _  _  _  _  _  _  _  _  _  _  _  _  _  _  _  _  _  _  _  _  _  _  _  _  _  _ \n",
      "MaritalStatus : ['Single' 'Married' 'Divorced']\n",
      " _  _  _  _  _  _  _  _  _  _  _  _  _  _  _  _  _  _  _  _  _  _  _  _  _  _  _  _  _  _  _  _  _  _  _  _  _  _  _  _ \n",
      " _  _  _  _  _  _  _  _  _  _  _  _  _  _  _  _  _  _  _  _  _  _  _  _  _  _  _  _  _  _  _  _  _  _  _  _  _  _  _  _ \n",
      "MonthlyIncome : [5993 5130 2090 ... 9991 5390 4404]\n",
      " _  _  _  _  _  _  _  _  _  _  _  _  _  _  _  _  _  _  _  _  _  _  _  _  _  _  _  _  _  _  _  _  _  _  _  _  _  _  _  _ \n",
      " _  _  _  _  _  _  _  _  _  _  _  _  _  _  _  _  _  _  _  _  _  _  _  _  _  _  _  _  _  _  _  _  _  _  _  _  _  _  _  _ \n",
      "MonthlyRate : [19479 24907  2396 ...  5174 13243 10228]\n",
      " _  _  _  _  _  _  _  _  _  _  _  _  _  _  _  _  _  _  _  _  _  _  _  _  _  _  _  _  _  _  _  _  _  _  _  _  _  _  _  _ \n",
      " _  _  _  _  _  _  _  _  _  _  _  _  _  _  _  _  _  _  _  _  _  _  _  _  _  _  _  _  _  _  _  _  _  _  _  _  _  _  _  _ \n",
      "NumCompaniesWorked : [8 1 6 9 0 4 5 2 7 3]\n",
      " _  _  _  _  _  _  _  _  _  _  _  _  _  _  _  _  _  _  _  _  _  _  _  _  _  _  _  _  _  _  _  _  _  _  _  _  _  _  _  _ \n",
      " _  _  _  _  _  _  _  _  _  _  _  _  _  _  _  _  _  _  _  _  _  _  _  _  _  _  _  _  _  _  _  _  _  _  _  _  _  _  _  _ \n",
      "Over18 : ['Y']\n",
      " _  _  _  _  _  _  _  _  _  _  _  _  _  _  _  _  _  _  _  _  _  _  _  _  _  _  _  _  _  _  _  _  _  _  _  _  _  _  _  _ \n",
      " _  _  _  _  _  _  _  _  _  _  _  _  _  _  _  _  _  _  _  _  _  _  _  _  _  _  _  _  _  _  _  _  _  _  _  _  _  _  _  _ \n",
      "OverTime : ['Yes' 'No']\n",
      " _  _  _  _  _  _  _  _  _  _  _  _  _  _  _  _  _  _  _  _  _  _  _  _  _  _  _  _  _  _  _  _  _  _  _  _  _  _  _  _ \n",
      " _  _  _  _  _  _  _  _  _  _  _  _  _  _  _  _  _  _  _  _  _  _  _  _  _  _  _  _  _  _  _  _  _  _  _  _  _  _  _  _ \n",
      "PercentSalaryHike : [11 23 15 12 13 20 22 21 17 14 16 18 19 24 25]\n",
      " _  _  _  _  _  _  _  _  _  _  _  _  _  _  _  _  _  _  _  _  _  _  _  _  _  _  _  _  _  _  _  _  _  _  _  _  _  _  _  _ \n",
      " _  _  _  _  _  _  _  _  _  _  _  _  _  _  _  _  _  _  _  _  _  _  _  _  _  _  _  _  _  _  _  _  _  _  _  _  _  _  _  _ \n",
      "PerformanceRating : [3 4]\n",
      " _  _  _  _  _  _  _  _  _  _  _  _  _  _  _  _  _  _  _  _  _  _  _  _  _  _  _  _  _  _  _  _  _  _  _  _  _  _  _  _ \n",
      " _  _  _  _  _  _  _  _  _  _  _  _  _  _  _  _  _  _  _  _  _  _  _  _  _  _  _  _  _  _  _  _  _  _  _  _  _  _  _  _ \n",
      "RelationshipSatisfaction : [1 4 2 3]\n",
      " _  _  _  _  _  _  _  _  _  _  _  _  _  _  _  _  _  _  _  _  _  _  _  _  _  _  _  _  _  _  _  _  _  _  _  _  _  _  _  _ \n",
      " _  _  _  _  _  _  _  _  _  _  _  _  _  _  _  _  _  _  _  _  _  _  _  _  _  _  _  _  _  _  _  _  _  _  _  _  _  _  _  _ \n",
      "StandardHours : [80]\n",
      " _  _  _  _  _  _  _  _  _  _  _  _  _  _  _  _  _  _  _  _  _  _  _  _  _  _  _  _  _  _  _  _  _  _  _  _  _  _  _  _ \n",
      " _  _  _  _  _  _  _  _  _  _  _  _  _  _  _  _  _  _  _  _  _  _  _  _  _  _  _  _  _  _  _  _  _  _  _  _  _  _  _  _ \n",
      "StockOptionLevel : [0 1 3 2]\n",
      " _  _  _  _  _  _  _  _  _  _  _  _  _  _  _  _  _  _  _  _  _  _  _  _  _  _  _  _  _  _  _  _  _  _  _  _  _  _  _  _ \n",
      " _  _  _  _  _  _  _  _  _  _  _  _  _  _  _  _  _  _  _  _  _  _  _  _  _  _  _  _  _  _  _  _  _  _  _  _  _  _  _  _ \n",
      "TotalWorkingYears : [ 8 10  7  6 12  1 17  5  3 31 13  0 26 24 22  9 19  2 23 14 15  4 29 28\n",
      " 21 25 20 11 16 37 38 30 40 18 36 34 32 33 35 27]\n",
      " _  _  _  _  _  _  _  _  _  _  _  _  _  _  _  _  _  _  _  _  _  _  _  _  _  _  _  _  _  _  _  _  _  _  _  _  _  _  _  _ \n",
      " _  _  _  _  _  _  _  _  _  _  _  _  _  _  _  _  _  _  _  _  _  _  _  _  _  _  _  _  _  _  _  _  _  _  _  _  _  _  _  _ \n",
      "TrainingTimesLastYear : [0 3 2 5 1 4 6]\n",
      " _  _  _  _  _  _  _  _  _  _  _  _  _  _  _  _  _  _  _  _  _  _  _  _  _  _  _  _  _  _  _  _  _  _  _  _  _  _  _  _ \n",
      " _  _  _  _  _  _  _  _  _  _  _  _  _  _  _  _  _  _  _  _  _  _  _  _  _  _  _  _  _  _  _  _  _  _  _  _  _  _  _  _ \n",
      "WorkLifeBalance : [1 3 2 4]\n",
      " _  _  _  _  _  _  _  _  _  _  _  _  _  _  _  _  _  _  _  _  _  _  _  _  _  _  _  _  _  _  _  _  _  _  _  _  _  _  _  _ \n",
      " _  _  _  _  _  _  _  _  _  _  _  _  _  _  _  _  _  _  _  _  _  _  _  _  _  _  _  _  _  _  _  _  _  _  _  _  _  _  _  _ \n",
      "YearsAtCompany : [ 6 10  0  8  2  7  1  9  5  4 25  3 12 14 22 15 27 21 17 11 13 37 16 20\n",
      " 40 24 33 19 36 18 29 31 32 34 26 30 23]\n",
      " _  _  _  _  _  _  _  _  _  _  _  _  _  _  _  _  _  _  _  _  _  _  _  _  _  _  _  _  _  _  _  _  _  _  _  _  _  _  _  _ \n",
      " _  _  _  _  _  _  _  _  _  _  _  _  _  _  _  _  _  _  _  _  _  _  _  _  _  _  _  _  _  _  _  _  _  _  _  _  _  _  _  _ \n",
      "YearsInCurrentRole : [ 4  7  0  2  5  9  8  3  6 13  1 15 14 16 11 10 12 18 17]\n",
      " _  _  _  _  _  _  _  _  _  _  _  _  _  _  _  _  _  _  _  _  _  _  _  _  _  _  _  _  _  _  _  _  _  _  _  _  _  _  _  _ \n",
      " _  _  _  _  _  _  _  _  _  _  _  _  _  _  _  _  _  _  _  _  _  _  _  _  _  _  _  _  _  _  _  _  _  _  _  _  _  _  _  _ \n",
      "YearsSinceLastPromotion : [ 0  1  3  2  7  4  8  6  5 15  9 13 12 10 11 14]\n",
      " _  _  _  _  _  _  _  _  _  _  _  _  _  _  _  _  _  _  _  _  _  _  _  _  _  _  _  _  _  _  _  _  _  _  _  _  _  _  _  _ \n",
      " _  _  _  _  _  _  _  _  _  _  _  _  _  _  _  _  _  _  _  _  _  _  _  _  _  _  _  _  _  _  _  _  _  _  _  _  _  _  _  _ \n",
      "YearsWithCurrManager : [ 5  7  0  2  6  8  3 11 17  1  4 12  9 10 15 13 16 14]\n",
      " _  _  _  _  _  _  _  _  _  _  _  _  _  _  _  _  _  _  _  _  _  _  _  _  _  _  _  _  _  _  _  _  _  _  _  _  _  _  _  _ \n",
      " _  _  _  _  _  _  _  _  _  _  _  _  _  _  _  _  _  _  _  _  _  _  _  _  _  _  _  _  _  _  _  _  _  _  _  _  _  _  _  _ \n"
     ]
    }
   ],
   "source": [
    "for i in df.columns:\n",
    "    print (i , \":\", df[i].unique())\n",
    "    print (\" _ \"*40)\n",
    "    print (\" _ \"*40)"
   ]
  },
  {
   "cell_type": "markdown",
   "metadata": {
    "id": "g8nBbIGfyN1G"
   },
   "source": [
    "**Note 19:**\n",
    "\n",
    "The **drop()** function helps to drop the columns which are not important features in the dataset."
   ]
  },
  {
   "cell_type": "code",
   "execution_count": null,
   "metadata": {
    "id": "CoUk_Y1gyN1H"
   },
   "outputs": [],
   "source": [
    "df=df.drop(['Over18','EmployeeNumber','EmployeeCount','StandardHours'],axis=1)"
   ]
  },
  {
   "cell_type": "markdown",
   "metadata": {
    "id": "BHzIBhkCrRX3"
   },
   "source": [
    "**Note 20:**\n",
    "\n",
    "After dropping, check the number of columns and rows present in the dataset.  "
   ]
  },
  {
   "cell_type": "code",
   "execution_count": null,
   "metadata": {
    "id": "56kx5iJnrRX3"
   },
   "outputs": [],
   "source": [
    "df.shape"
   ]
  },
  {
   "cell_type": "markdown",
   "metadata": {
    "id": "YZw1u8V9rRX3"
   },
   "source": [
    "**Note 21:**\n",
    "\n",
    "The **columns** provides the name of the columns present in the **`df`** dataframe."
   ]
  },
  {
   "cell_type": "code",
   "execution_count": null,
   "metadata": {
    "colab": {
     "base_uri": "https://localhost:8080/"
    },
    "id": "COITXy4pyN1J",
    "outputId": "55785dad-c2f5-439f-f6f1-7736f56a2a57"
   },
   "outputs": [
    {
     "data": {
      "text/plain": [
       "Index(['Age', 'Attrition', 'BusinessTravel', 'DailyRate', 'Department',\n",
       "       'DistanceFromHome', 'Education', 'EducationField',\n",
       "       'EnvironmentSatisfaction', 'Gender', 'HourlyRate', 'JobInvolvement',\n",
       "       'JobLevel', 'JobRole', 'JobSatisfaction', 'MaritalStatus',\n",
       "       'MonthlyIncome', 'MonthlyRate', 'NumCompaniesWorked', 'OverTime',\n",
       "       'PercentSalaryHike', 'PerformanceRating', 'RelationshipSatisfaction',\n",
       "       'StockOptionLevel', 'TotalWorkingYears', 'TrainingTimesLastYear',\n",
       "       'WorkLifeBalance', 'YearsAtCompany', 'YearsInCurrentRole',\n",
       "       'YearsSinceLastPromotion', 'YearsWithCurrManager'],\n",
       "      dtype='object')"
      ]
     },
     "execution_count": 12,
     "metadata": {},
     "output_type": "execute_result"
    }
   ],
   "source": [
    "df.columns"
   ]
  },
  {
   "cell_type": "markdown",
   "metadata": {
    "id": "4GgCndQlrRX3"
   },
   "source": [
    "**Observations from the above output:**\n",
    ">We can see a lot columns which deal with satisfaction, let's observe them closely."
   ]
  },
  {
   "cell_type": "code",
   "execution_count": null,
   "metadata": {
    "colab": {
     "base_uri": "https://localhost:8080/",
     "height": 419
    },
    "id": "tJA9-d5pyN1N",
    "outputId": "08d15f14-20b0-44fc-d294-27578ab69f12"
   },
   "outputs": [
    {
     "data": {
      "text/html": [
       "<div>\n",
       "<style scoped>\n",
       "    .dataframe tbody tr th:only-of-type {\n",
       "        vertical-align: middle;\n",
       "    }\n",
       "\n",
       "    .dataframe tbody tr th {\n",
       "        vertical-align: top;\n",
       "    }\n",
       "\n",
       "    .dataframe thead th {\n",
       "        text-align: right;\n",
       "    }\n",
       "</style>\n",
       "<table border=\"1\" class=\"dataframe\">\n",
       "  <thead>\n",
       "    <tr style=\"text-align: right;\">\n",
       "      <th></th>\n",
       "      <th>RelationshipSatisfaction</th>\n",
       "      <th>JobSatisfaction</th>\n",
       "      <th>EnvironmentSatisfaction</th>\n",
       "      <th>JobInvolvement</th>\n",
       "    </tr>\n",
       "  </thead>\n",
       "  <tbody>\n",
       "    <tr>\n",
       "      <th>0</th>\n",
       "      <td>1</td>\n",
       "      <td>4</td>\n",
       "      <td>2</td>\n",
       "      <td>3</td>\n",
       "    </tr>\n",
       "    <tr>\n",
       "      <th>1</th>\n",
       "      <td>4</td>\n",
       "      <td>2</td>\n",
       "      <td>3</td>\n",
       "      <td>2</td>\n",
       "    </tr>\n",
       "    <tr>\n",
       "      <th>2</th>\n",
       "      <td>2</td>\n",
       "      <td>3</td>\n",
       "      <td>4</td>\n",
       "      <td>2</td>\n",
       "    </tr>\n",
       "    <tr>\n",
       "      <th>3</th>\n",
       "      <td>3</td>\n",
       "      <td>3</td>\n",
       "      <td>4</td>\n",
       "      <td>3</td>\n",
       "    </tr>\n",
       "    <tr>\n",
       "      <th>4</th>\n",
       "      <td>4</td>\n",
       "      <td>2</td>\n",
       "      <td>1</td>\n",
       "      <td>3</td>\n",
       "    </tr>\n",
       "    <tr>\n",
       "      <th>...</th>\n",
       "      <td>...</td>\n",
       "      <td>...</td>\n",
       "      <td>...</td>\n",
       "      <td>...</td>\n",
       "    </tr>\n",
       "    <tr>\n",
       "      <th>1465</th>\n",
       "      <td>3</td>\n",
       "      <td>4</td>\n",
       "      <td>3</td>\n",
       "      <td>4</td>\n",
       "    </tr>\n",
       "    <tr>\n",
       "      <th>1466</th>\n",
       "      <td>1</td>\n",
       "      <td>1</td>\n",
       "      <td>4</td>\n",
       "      <td>2</td>\n",
       "    </tr>\n",
       "    <tr>\n",
       "      <th>1467</th>\n",
       "      <td>2</td>\n",
       "      <td>2</td>\n",
       "      <td>2</td>\n",
       "      <td>4</td>\n",
       "    </tr>\n",
       "    <tr>\n",
       "      <th>1468</th>\n",
       "      <td>4</td>\n",
       "      <td>2</td>\n",
       "      <td>4</td>\n",
       "      <td>2</td>\n",
       "    </tr>\n",
       "    <tr>\n",
       "      <th>1469</th>\n",
       "      <td>1</td>\n",
       "      <td>3</td>\n",
       "      <td>2</td>\n",
       "      <td>4</td>\n",
       "    </tr>\n",
       "  </tbody>\n",
       "</table>\n",
       "<p>1470 rows × 4 columns</p>\n",
       "</div>"
      ],
      "text/plain": [
       "      RelationshipSatisfaction  JobSatisfaction  EnvironmentSatisfaction  \\\n",
       "0                            1                4                        2   \n",
       "1                            4                2                        3   \n",
       "2                            2                3                        4   \n",
       "3                            3                3                        4   \n",
       "4                            4                2                        1   \n",
       "...                        ...              ...                      ...   \n",
       "1465                         3                4                        3   \n",
       "1466                         1                1                        4   \n",
       "1467                         2                2                        2   \n",
       "1468                         4                2                        4   \n",
       "1469                         1                3                        2   \n",
       "\n",
       "      JobInvolvement  \n",
       "0                  3  \n",
       "1                  2  \n",
       "2                  2  \n",
       "3                  3  \n",
       "4                  3  \n",
       "...              ...  \n",
       "1465               4  \n",
       "1466               2  \n",
       "1467               4  \n",
       "1468               2  \n",
       "1469               4  \n",
       "\n",
       "[1470 rows x 4 columns]"
      ]
     },
     "execution_count": 13,
     "metadata": {},
     "output_type": "execute_result"
    }
   ],
   "source": [
    "df[['RelationshipSatisfaction','JobSatisfaction','EnvironmentSatisfaction','JobInvolvement']]"
   ]
  },
  {
   "cell_type": "markdown",
   "metadata": {
    "id": "Sf5I2NgJrRX4"
   },
   "source": [
    "**Observations from the above output:**\n",
    ">All the satisfactions are measured from 1 to 4 in incremental order, along with WorkLifeBalance.\n",
    ">>Higher the value, higher the satisfaction.\n",
    ">>>So, we can combine all the columns that convey satisfaction detail and make them one."
   ]
  },
  {
   "cell_type": "markdown",
   "metadata": {
    "id": "c-ajkPV5rRX4"
   },
   "source": [
    "**Note 22:**\n",
    "\n",
    "Let us now calculate the mean of all the types of satisfaction. Based on a condition if the mean value is greater than 2.35 then it returns one else zero"
   ]
  },
  {
   "cell_type": "code",
   "execution_count": null,
   "metadata": {
    "id": "KFp9kGxNyN1Q",
    "outputId": "b19519b0-2926-468f-c98e-6cc1aed6f0d6"
   },
   "outputs": [
    {
     "data": {
      "text/plain": [
       "0       0\n",
       "1       1\n",
       "2       1\n",
       "3       1\n",
       "4       1\n",
       "       ..\n",
       "1465    1\n",
       "1466    0\n",
       "1467    1\n",
       "1468    1\n",
       "1469    1\n",
       "Name: Satif, Length: 1470, dtype: int64"
      ]
     },
     "execution_count": 18,
     "metadata": {},
     "output_type": "execute_result"
    }
   ],
   "source": [
    "df['TotalSatisfaction_mean'] = (df['RelationshipSatisfaction']  + df['EnvironmentSatisfaction'] \n",
    "                                + df['JobSatisfaction'] + df['JobInvolvement'] + df['WorkLifeBalance'])/5\n",
    "\n",
    "def Satif(df) : \n",
    "    if  df['TotalSatisfaction_mean'] > 2.35 :\n",
    "        return 1\n",
    "    else : \n",
    "        return 0\n",
    "    \n",
    "    \n",
    "df['Satif'] = df.apply(lambda df:Satif(df) ,axis = 1)\n",
    "df['Satif']"
   ]
  },
  {
   "cell_type": "code",
   "execution_count": null,
   "metadata": {
    "colab": {
     "base_uri": "https://localhost:8080/"
    },
    "id": "JMVHniGxyN1U",
    "outputId": "98255e2b-3513-4d69-b639-2ae9173dba77"
   },
   "outputs": [
    {
     "data": {
      "text/plain": [
       "(1470, 33)"
      ]
     },
     "execution_count": 29,
     "metadata": {},
     "output_type": "execute_result"
    }
   ],
   "source": [
    "df.shape"
   ]
  },
  {
   "cell_type": "markdown",
   "metadata": {
    "id": "y8U0YVO9yN1W"
   },
   "source": [
    "Let's keep all the columns for now."
   ]
  },
  {
   "cell_type": "markdown",
   "metadata": {
    "id": "Rd28C_BTrRX4"
   },
   "source": [
    "**Note 23:**\n",
    "\n",
    "Let us now create a separate column for job satisfaction."
   ]
  },
  {
   "cell_type": "code",
   "execution_count": null,
   "metadata": {
    "id": "pa95JJeuyN1W"
   },
   "outputs": [],
   "source": [
    "df['JobSatisf_mean'] = (df['JobSatisfaction'] + df['JobInvolvement']) / 2"
   ]
  },
  {
   "cell_type": "code",
   "execution_count": null,
   "metadata": {
    "colab": {
     "base_uri": "https://localhost:8080/"
    },
    "id": "KaeZxaI1yN1Y",
    "outputId": "7b58a6d1-c9df-47e1-aa7a-30afe2dfe89a"
   },
   "outputs": [
    {
     "data": {
      "text/plain": [
       "(1470, 34)"
      ]
     },
     "execution_count": 31,
     "metadata": {},
     "output_type": "execute_result"
    }
   ],
   "source": [
    "df.shape"
   ]
  },
  {
   "cell_type": "markdown",
   "metadata": {
    "id": "3XVpVPe6yN1a"
   },
   "source": [
    "**Note 24:**\n",
    "\n",
    "We can understant people who switch companies frequently have more tendency to leave a company. So lets create a new column called `MovingPeople`."
   ]
  },
  {
   "cell_type": "code",
   "execution_count": null,
   "metadata": {
    "id": "EcRILJZSyN1b",
    "outputId": "75c71873-83e9-4740-ded3-24533b0a0f33"
   },
   "outputs": [
    {
     "data": {
      "text/plain": [
       "0       1\n",
       "1       0\n",
       "2       1\n",
       "3       0\n",
       "4       1\n",
       "       ..\n",
       "1465    0\n",
       "1466    0\n",
       "1467    0\n",
       "1468    0\n",
       "1469    0\n",
       "Name: MovingPeople, Length: 1470, dtype: int64"
      ]
     },
     "execution_count": 35,
     "metadata": {},
     "output_type": "execute_result"
    }
   ],
   "source": [
    "def MovingPeople(df) :\n",
    "    if df['NumCompaniesWorked'] > 4:\n",
    "        return 1\n",
    "    else:\n",
    "        return 0\n",
    "df['MovingPeople'] = df.apply(lambda df:MovingPeople(df), axis = 1)\n",
    "df['MovingPeople']"
   ]
  },
  {
   "cell_type": "code",
   "execution_count": null,
   "metadata": {
    "colab": {
     "base_uri": "https://localhost:8080/"
    },
    "id": "L-rs7Z3UyN1d",
    "outputId": "361a5fa6-9404-4d33-bd83-b74b511a842c"
   },
   "outputs": [
    {
     "data": {
      "text/plain": [
       "(1470, 34)"
      ]
     },
     "execution_count": 21,
     "metadata": {},
     "output_type": "execute_result"
    }
   ],
   "source": [
    "df.shape"
   ]
  },
  {
   "cell_type": "markdown",
   "metadata": {
    "id": "RuoPQThYyN1f"
   },
   "source": [
    "**Note 25:**\n",
    "\n",
    "Create a column using `DistanceFromHome` column"
   ]
  },
  {
   "cell_type": "code",
   "execution_count": null,
   "metadata": {
    "id": "Dfu-5GISyN1f",
    "outputId": "761e78e7-d0b2-4039-dc0e-ccb6d316d377"
   },
   "outputs": [
    {
     "data": {
      "text/plain": [
       "0       0\n",
       "1       0\n",
       "2       0\n",
       "3       0\n",
       "4       0\n",
       "       ..\n",
       "1465    1\n",
       "1466    0\n",
       "1467    0\n",
       "1468    0\n",
       "1469    0\n",
       "Name: LongDis, Length: 1470, dtype: int64"
      ]
     },
     "execution_count": 28,
     "metadata": {},
     "output_type": "execute_result"
    }
   ],
   "source": [
    "def LongDis(df) : \n",
    "    if  df['DistanceFromHome'] > 11:\n",
    "        return 1\n",
    "    else : \n",
    "        return 0\n",
    "df['LongDis'] = df.apply(lambda df:LongDis(df) ,axis = 1)\n",
    "df['LongDis']"
   ]
  },
  {
   "cell_type": "markdown",
   "metadata": {
    "id": "wxXAcMRayN1h"
   },
   "source": [
    "**Note 26:**\n",
    "\n",
    "Create a column using `TrainingTimesLastYear` column"
   ]
  },
  {
   "cell_type": "code",
   "execution_count": null,
   "metadata": {
    "id": "iz1vGbWeyN1i"
   },
   "outputs": [],
   "source": [
    "def MiddleTraining(df) :\n",
    "    if df['TrainingTimesLastYear'] >= 3 and df['TrainingTimesLastYear'] <= 6:\n",
    "        return 1\n",
    "    else:\n",
    "        return 0\n",
    "df['MiddleTraining'] = df.apply(lambda df:MiddleTraining(df) ,axis = 1)"
   ]
  },
  {
   "cell_type": "markdown",
   "metadata": {
    "id": "1o8YZTPOyN1k"
   },
   "source": [
    "**Note 27:**\n",
    "\n",
    "Create a column to view number of years worked in each company"
   ]
  },
  {
   "cell_type": "code",
   "execution_count": null,
   "metadata": {
    "id": "cbCX8aBMyN1k",
    "outputId": "31c74c5f-8a49-4219-cf2f-645d2348ce80"
   },
   "outputs": [
    {
     "data": {
      "text/plain": [
       "0        2.333333\n",
       "1       14.500000\n",
       "2        2.428571\n",
       "3        6.500000\n",
       "4        0.700000\n",
       "          ...    \n",
       "1465     3.200000\n",
       "1466     3.800000\n",
       "1467     3.500000\n",
       "1468     9.666667\n",
       "1469     4.666667\n",
       "Name: Time_in_each_comp, Length: 1470, dtype: float64"
      ]
     },
     "execution_count": 34,
     "metadata": {},
     "output_type": "execute_result"
    }
   ],
   "source": [
    "df['Time_in_each_comp'] = (df['Age'] - 20) / ((df)['NumCompaniesWorked'] + 1)\n",
    "df['Time_in_each_comp']"
   ]
  },
  {
   "cell_type": "code",
   "execution_count": null,
   "metadata": {
    "colab": {
     "base_uri": "https://localhost:8080/"
    },
    "id": "0R77tdI6yN1m",
    "outputId": "d08ee34b-3336-4f36-e674-bcd6162d51b5"
   },
   "outputs": [
    {
     "data": {
      "text/plain": [
       "(1470, 37)"
      ]
     },
     "execution_count": 31,
     "metadata": {},
     "output_type": "execute_result"
    }
   ],
   "source": [
    "df.shape"
   ]
  },
  {
   "cell_type": "markdown",
   "metadata": {
    "id": "uuZm5laQyN1o"
   },
   "source": [
    "**Note 28:**\n",
    "\n",
    "Let us now understand the columns that are categorical and numerical in the *`df`* dataframe.\n"
   ]
  },
  {
   "cell_type": "code",
   "execution_count": null,
   "metadata": {
    "id": "_QIGdBrpyN1p"
   },
   "outputs": [],
   "source": [
    "numeric_df= df.select_dtypes(include=[np.number])\n",
    "\n",
    "categoric_df=df.select_dtypes(exclude=[np.number])"
   ]
  },
  {
   "cell_type": "code",
   "execution_count": null,
   "metadata": {
    "colab": {
     "base_uri": "https://localhost:8080/"
    },
    "id": "2V71ya9GyN1t",
    "outputId": "daca1a71-4521-4ebd-d94c-8a829d02d407"
   },
   "outputs": [
    {
     "name": "stdout",
     "output_type": "stream",
     "text": [
      "Category : ['Attrition', 'BusinessTravel', 'Department', 'EducationField', 'Gender', 'JobRole', 'MaritalStatus', 'OverTime']\n",
      "\n",
      " Numeric : ['Age', 'DailyRate', 'DistanceFromHome', 'Education', 'EnvironmentSatisfaction', 'HourlyRate', 'JobInvolvement', 'JobLevel', 'JobSatisfaction', 'MonthlyIncome', 'MonthlyRate', 'NumCompaniesWorked', 'PercentSalaryHike', 'PerformanceRating', 'RelationshipSatisfaction', 'StockOptionLevel', 'TotalWorkingYears', 'TrainingTimesLastYear', 'WorkLifeBalance', 'YearsAtCompany', 'YearsInCurrentRole', 'YearsSinceLastPromotion', 'YearsWithCurrManager', 'TotalSatisfaction_mean', 'Satif', 'MovingPeople', 'LongDis', 'MiddleTraining', 'Time_in_each_comp']\n"
     ]
    }
   ],
   "source": [
    "numericcol=numeric_df.columns.tolist()\n",
    "categorycol=categoric_df.columns.tolist()\n",
    "\n",
    "print (\"Category :\",categorycol)\n",
    "print (\"\\n Numeric :\",numericcol)"
   ]
  },
  {
   "cell_type": "markdown",
   "metadata": {
    "id": "ojDy5p-yyN1v"
   },
   "source": [
    "**Observations from the above output:**\n",
    ">'DailyRate', 'HourlyRate' can be dropped as we have monthly rate\n",
    ">>Attributes 'DistanceFromHome', 'EnvironmentSatisfaction', 'HourlyRate', 'JobInvolvement',  'JobSatisfaction',  'NumCompaniesWorked', 'RelationshipSatisfaction', and 'TrainingTimesLastYear' can be removed as these are considered in newly created column attributes"
   ]
  },
  {
   "cell_type": "markdown",
   "metadata": {
    "id": "SwO9xjuNrRX6"
   },
   "source": [
    "**Note 29:**\n",
    "\n",
    "Let us now drop unnecessary columns present in the *`df`* dataframe."
   ]
  },
  {
   "cell_type": "code",
   "execution_count": null,
   "metadata": {
    "id": "5GyK5cUpyN1w"
   },
   "outputs": [],
   "source": [
    "df=df.drop(['DailyRate', 'DistanceFromHome', 'EnvironmentSatisfaction',\n",
    "            'HourlyRate', 'JobInvolvement',  \n",
    "            'JobSatisfaction',  'NumCompaniesWorked', \n",
    "            'RelationshipSatisfaction', 'TrainingTimesLastYear'],axis=1)"
   ]
  },
  {
   "cell_type": "code",
   "execution_count": null,
   "metadata": {
    "colab": {
     "base_uri": "https://localhost:8080/"
    },
    "id": "owFTlzLpyN1y",
    "outputId": "dd2bd3cc-9a7b-4d33-c8e0-1610cf14fa89"
   },
   "outputs": [
    {
     "data": {
      "text/plain": [
       "(1470, 28)"
      ]
     },
     "execution_count": 37,
     "metadata": {},
     "output_type": "execute_result"
    }
   ],
   "source": [
    "df.shape"
   ]
  },
  {
   "cell_type": "markdown",
   "metadata": {
    "id": "Sl7CPvj-yN10"
   },
   "source": [
    "**Note 30:**\n",
    "\n",
    "After extracting the important features from the dataframe.Now, we can convert the categorical features into numerical using **one hot encoding technique**."
   ]
  },
  {
   "cell_type": "code",
   "execution_count": null,
   "metadata": {
    "colab": {
     "base_uri": "https://localhost:8080/"
    },
    "id": "AciaHvfqyN10",
    "outputId": "b0a81d49-7db1-44d4-ef13-73846ee779ab"
   },
   "outputs": [
    {
     "name": "stdout",
     "output_type": "stream",
     "text": [
      "Index(['Age', 'Education', 'JobLevel', 'MonthlyIncome', 'MonthlyRate',\n",
      "       'PercentSalaryHike', 'PerformanceRating', 'StockOptionLevel',\n",
      "       'TotalWorkingYears', 'WorkLifeBalance', 'YearsAtCompany',\n",
      "       'YearsInCurrentRole', 'YearsSinceLastPromotion', 'YearsWithCurrManager',\n",
      "       'TotalSatisfaction_mean', 'Satif', 'MovingPeople', 'LongDis',\n",
      "       'MiddleTraining', 'Time_in_each_comp', 'Attrition_Yes',\n",
      "       'BusinessTravel_Travel_Frequently', 'BusinessTravel_Travel_Rarely',\n",
      "       'Department_Research & Development', 'Department_Sales',\n",
      "       'EducationField_Life Sciences', 'EducationField_Marketing',\n",
      "       'EducationField_Medical', 'EducationField_Other',\n",
      "       'EducationField_Technical Degree', 'Gender_Male',\n",
      "       'JobRole_Human Resources', 'JobRole_Laboratory Technician',\n",
      "       'JobRole_Manager', 'JobRole_Manufacturing Director',\n",
      "       'JobRole_Research Director', 'JobRole_Research Scientist',\n",
      "       'JobRole_Sales Executive', 'JobRole_Sales Representative',\n",
      "       'MaritalStatus_Married', 'MaritalStatus_Single', 'OverTime_Yes'],\n",
      "      dtype='object')\n",
      "(1470, 42)\n"
     ]
    }
   ],
   "source": [
    "data = pd.get_dummies(df, columns=categorycol, drop_first=True)\n",
    "print(data.columns)\n",
    "print(data.shape)"
   ]
  },
  {
   "cell_type": "code",
   "execution_count": null,
   "metadata": {
    "id": "-X28WE8LrRX6",
    "outputId": "af14ca28-5d98-4190-c891-6406b09eb203"
   },
   "outputs": [
    {
     "data": {
      "text/html": [
       "<div>\n",
       "<style scoped>\n",
       "    .dataframe tbody tr th:only-of-type {\n",
       "        vertical-align: middle;\n",
       "    }\n",
       "\n",
       "    .dataframe tbody tr th {\n",
       "        vertical-align: top;\n",
       "    }\n",
       "\n",
       "    .dataframe thead th {\n",
       "        text-align: right;\n",
       "    }\n",
       "</style>\n",
       "<table border=\"1\" class=\"dataframe\">\n",
       "  <thead>\n",
       "    <tr style=\"text-align: right;\">\n",
       "      <th></th>\n",
       "      <th>Age</th>\n",
       "      <th>Education</th>\n",
       "      <th>JobLevel</th>\n",
       "      <th>MonthlyIncome</th>\n",
       "      <th>MonthlyRate</th>\n",
       "      <th>PercentSalaryHike</th>\n",
       "      <th>PerformanceRating</th>\n",
       "      <th>StockOptionLevel</th>\n",
       "      <th>TotalWorkingYears</th>\n",
       "      <th>WorkLifeBalance</th>\n",
       "      <th>...</th>\n",
       "      <th>JobRole_Laboratory Technician</th>\n",
       "      <th>JobRole_Manager</th>\n",
       "      <th>JobRole_Manufacturing Director</th>\n",
       "      <th>JobRole_Research Director</th>\n",
       "      <th>JobRole_Research Scientist</th>\n",
       "      <th>JobRole_Sales Executive</th>\n",
       "      <th>JobRole_Sales Representative</th>\n",
       "      <th>MaritalStatus_Married</th>\n",
       "      <th>MaritalStatus_Single</th>\n",
       "      <th>OverTime_Yes</th>\n",
       "    </tr>\n",
       "  </thead>\n",
       "  <tbody>\n",
       "    <tr>\n",
       "      <th>0</th>\n",
       "      <td>41</td>\n",
       "      <td>2</td>\n",
       "      <td>2</td>\n",
       "      <td>5993</td>\n",
       "      <td>19479</td>\n",
       "      <td>11</td>\n",
       "      <td>3</td>\n",
       "      <td>0</td>\n",
       "      <td>8</td>\n",
       "      <td>1</td>\n",
       "      <td>...</td>\n",
       "      <td>0</td>\n",
       "      <td>0</td>\n",
       "      <td>0</td>\n",
       "      <td>0</td>\n",
       "      <td>0</td>\n",
       "      <td>1</td>\n",
       "      <td>0</td>\n",
       "      <td>0</td>\n",
       "      <td>1</td>\n",
       "      <td>1</td>\n",
       "    </tr>\n",
       "    <tr>\n",
       "      <th>1</th>\n",
       "      <td>49</td>\n",
       "      <td>1</td>\n",
       "      <td>2</td>\n",
       "      <td>5130</td>\n",
       "      <td>24907</td>\n",
       "      <td>23</td>\n",
       "      <td>4</td>\n",
       "      <td>1</td>\n",
       "      <td>10</td>\n",
       "      <td>3</td>\n",
       "      <td>...</td>\n",
       "      <td>0</td>\n",
       "      <td>0</td>\n",
       "      <td>0</td>\n",
       "      <td>0</td>\n",
       "      <td>1</td>\n",
       "      <td>0</td>\n",
       "      <td>0</td>\n",
       "      <td>1</td>\n",
       "      <td>0</td>\n",
       "      <td>0</td>\n",
       "    </tr>\n",
       "    <tr>\n",
       "      <th>2</th>\n",
       "      <td>37</td>\n",
       "      <td>2</td>\n",
       "      <td>1</td>\n",
       "      <td>2090</td>\n",
       "      <td>2396</td>\n",
       "      <td>15</td>\n",
       "      <td>3</td>\n",
       "      <td>0</td>\n",
       "      <td>7</td>\n",
       "      <td>3</td>\n",
       "      <td>...</td>\n",
       "      <td>1</td>\n",
       "      <td>0</td>\n",
       "      <td>0</td>\n",
       "      <td>0</td>\n",
       "      <td>0</td>\n",
       "      <td>0</td>\n",
       "      <td>0</td>\n",
       "      <td>0</td>\n",
       "      <td>1</td>\n",
       "      <td>1</td>\n",
       "    </tr>\n",
       "    <tr>\n",
       "      <th>3</th>\n",
       "      <td>33</td>\n",
       "      <td>4</td>\n",
       "      <td>1</td>\n",
       "      <td>2909</td>\n",
       "      <td>23159</td>\n",
       "      <td>11</td>\n",
       "      <td>3</td>\n",
       "      <td>0</td>\n",
       "      <td>8</td>\n",
       "      <td>3</td>\n",
       "      <td>...</td>\n",
       "      <td>0</td>\n",
       "      <td>0</td>\n",
       "      <td>0</td>\n",
       "      <td>0</td>\n",
       "      <td>1</td>\n",
       "      <td>0</td>\n",
       "      <td>0</td>\n",
       "      <td>1</td>\n",
       "      <td>0</td>\n",
       "      <td>1</td>\n",
       "    </tr>\n",
       "    <tr>\n",
       "      <th>4</th>\n",
       "      <td>27</td>\n",
       "      <td>1</td>\n",
       "      <td>1</td>\n",
       "      <td>3468</td>\n",
       "      <td>16632</td>\n",
       "      <td>12</td>\n",
       "      <td>3</td>\n",
       "      <td>1</td>\n",
       "      <td>6</td>\n",
       "      <td>3</td>\n",
       "      <td>...</td>\n",
       "      <td>1</td>\n",
       "      <td>0</td>\n",
       "      <td>0</td>\n",
       "      <td>0</td>\n",
       "      <td>0</td>\n",
       "      <td>0</td>\n",
       "      <td>0</td>\n",
       "      <td>1</td>\n",
       "      <td>0</td>\n",
       "      <td>0</td>\n",
       "    </tr>\n",
       "  </tbody>\n",
       "</table>\n",
       "<p>5 rows × 42 columns</p>\n",
       "</div>"
      ],
      "text/plain": [
       "   Age  Education  JobLevel  MonthlyIncome  MonthlyRate  PercentSalaryHike  \\\n",
       "0   41          2         2           5993        19479                 11   \n",
       "1   49          1         2           5130        24907                 23   \n",
       "2   37          2         1           2090         2396                 15   \n",
       "3   33          4         1           2909        23159                 11   \n",
       "4   27          1         1           3468        16632                 12   \n",
       "\n",
       "   PerformanceRating  StockOptionLevel  TotalWorkingYears  WorkLifeBalance  \\\n",
       "0                  3                 0                  8                1   \n",
       "1                  4                 1                 10                3   \n",
       "2                  3                 0                  7                3   \n",
       "3                  3                 0                  8                3   \n",
       "4                  3                 1                  6                3   \n",
       "\n",
       "   ...  JobRole_Laboratory Technician  JobRole_Manager  \\\n",
       "0  ...                              0                0   \n",
       "1  ...                              0                0   \n",
       "2  ...                              1                0   \n",
       "3  ...                              0                0   \n",
       "4  ...                              1                0   \n",
       "\n",
       "   JobRole_Manufacturing Director  JobRole_Research Director  \\\n",
       "0                               0                          0   \n",
       "1                               0                          0   \n",
       "2                               0                          0   \n",
       "3                               0                          0   \n",
       "4                               0                          0   \n",
       "\n",
       "   JobRole_Research Scientist  JobRole_Sales Executive  \\\n",
       "0                           0                        1   \n",
       "1                           1                        0   \n",
       "2                           0                        0   \n",
       "3                           1                        0   \n",
       "4                           0                        0   \n",
       "\n",
       "   JobRole_Sales Representative  MaritalStatus_Married  MaritalStatus_Single  \\\n",
       "0                             0                      0                     1   \n",
       "1                             0                      1                     0   \n",
       "2                             0                      0                     1   \n",
       "3                             0                      1                     0   \n",
       "4                             0                      1                     0   \n",
       "\n",
       "   OverTime_Yes  \n",
       "0             1  \n",
       "1             0  \n",
       "2             1  \n",
       "3             1  \n",
       "4             0  \n",
       "\n",
       "[5 rows x 42 columns]"
      ]
     },
     "execution_count": 39,
     "metadata": {},
     "output_type": "execute_result"
    }
   ],
   "source": [
    "data.head()"
   ]
  },
  {
   "cell_type": "markdown",
   "metadata": {
    "id": "v8__2LNirRX6"
   },
   "source": [
    "**Observations from the above output:**\n",
    "> We can see that all the variables present in the dataframe are in the numerical format."
   ]
  },
  {
   "cell_type": "markdown",
   "metadata": {
    "id": "pqr0PVDRyN12"
   },
   "source": [
    "`Note: The rest of the encoding methods will be used in further lessons`"
   ]
  },
  {
   "cell_type": "markdown",
   "metadata": {
    "id": "4-juhyzzyN13"
   },
   "source": [
    "### The further operations come under feature Selection"
   ]
  },
  {
   "cell_type": "markdown",
   "metadata": {
    "id": "0UfFGrxnOtW5"
   },
   "source": [
    "**Note: In this lesson, we saw the use of the feature engineering methods, but in the next lesson we are going to use one of these methods as a sub component for \"Exploratory Data Analysis\".**"
   ]
  },
  {
   "cell_type": "markdown",
   "metadata": {
    "id": "kBFz7n-VthjT"
   },
   "source": [
    "![Simplilearn_Logo](https://labcontent.simplicdn.net/data-content/content-assets/Data_and_AI/Logo_Powered_By_Simplilearn/SL_Logo_1.png)"
   ]
  }
 ],
 "metadata": {
  "colab": {
   "collapsed_sections": [],
   "name": "6.01_Feature_Engineering.ipynb",
   "provenance": []
  },
  "kernelspec": {
   "display_name": "Python 3 (ipykernel)",
   "language": "python",
   "name": "python3"
  },
  "language_info": {
   "codemirror_mode": {
    "name": "ipython",
    "version": 3
   },
   "file_extension": ".py",
   "mimetype": "text/x-python",
   "name": "python",
   "nbconvert_exporter": "python",
   "pygments_lexer": "ipython3",
   "version": "3.9.12"
  }
 },
 "nbformat": 4,
 "nbformat_minor": 1
}
